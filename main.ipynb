{
 "cells": [
  {
   "cell_type": "markdown",
   "metadata": {
    "cell_id": "00000-ec4e13f3-0c4e-4d51-94fa-8d3bec356d6f",
    "output_cleared": false
   },
   "source": [
    "## Loading Libraries"
   ]
  },
  {
   "cell_type": "code",
   "execution_count": 1,
   "metadata": {
    "cell_id": "00001-605931a9-dc8f-4720-a353-1daeea742d5d",
    "execution_millis": 1,
    "execution_start": 1605460291886,
    "output_cleared": false,
    "source_hash": "b623e53d"
   },
   "outputs": [],
   "source": []
  },
  {
   "cell_type": "code",
   "execution_count": 1,
   "metadata": {
    "cell_id": "00002-01ee3b4e-8782-401f-9451-1c4ccc422fdc",
    "execution_millis": 1,
    "execution_start": 1605460367098,
    "output_cleared": false,
    "source_hash": "7eeda1fb"
   },
   "outputs": [],
   "source": [
    "import pandas as pd\n",
    "import seaborn as sns\n",
    "from elo import rate_1vs1\n",
    "import numpy as np\n",
    "import scipy\n",
    "import matplotlib.pyplot as plt"
   ]
  },
  {
   "cell_type": "markdown",
   "metadata": {
    "cell_id": "00003-e596d81c-db19-4589-961d-77553b77589d",
    "output_cleared": false
   },
   "source": [
    "## Loading Match Data"
   ]
  },
  {
   "cell_type": "code",
   "execution_count": 2,
   "metadata": {
    "cell_id": "00004-55e0db64-b4ae-4c4c-bccc-4ceb15780f1d",
    "execution_millis": 197,
    "execution_start": 1605460369664,
    "output_cleared": false,
    "source_hash": "d4b4ab6f"
   },
   "outputs": [],
   "source": [
    "matches=pd.read_csv('MatchData.csv',low_memory=False)  ## IDk what low memory does but it works\n",
    "\n"
   ]
  },
  {
   "cell_type": "markdown",
   "metadata": {
    "cell_id": "00005-31070236-98ce-4cb3-92e7-a6b07d55963e",
    "output_cleared": false
   },
   "source": [
    "### Getting List of all teams"
   ]
  },
  {
   "cell_type": "code",
   "execution_count": 4,
   "metadata": {
    "cell_id": "00006-f3601a93-8c76-4783-ab4e-2cc11993f028",
    "execution_millis": 11,
    "execution_start": 1605460293095,
    "output_cleared": false,
    "source_hash": "bdbd4f8d"
   },
   "outputs": [
    {
     "name": "stdout",
     "output_type": "stream",
     "text": [
      "{nan, 'Numancia', 'Ath Bilbao', 'Sp Gijon', 'Tenerife', 'Salamanca', 'Getafe', 'Valladolid', 'Sevilla', 'Zaragoza', 'Las Palmas', 'Murcia', 'Ath Madrid', 'Hercules', 'Gimnastic', 'Lerida', 'Huesca', 'Leganes', 'Logrones', 'Girona', 'Villarreal', 'Espanol', 'Elche', 'Alaves', 'Osasuna', 'Extremadura', 'Santander', 'Xerez', 'Sociedad', 'Cadiz', 'Vallecano', 'Barcelona', 'La Coruna', 'Oviedo', 'Compostela', 'Eibar', 'Real Madrid', 'Levante', 'Granada', 'Valencia', 'Recreativo', 'Mallorca', 'Albacete', 'Betis', 'Almeria', 'Cordoba', 'Merida', 'Villareal', 'Malaga', 'Celta'}\n"
     ]
    }
   ],
   "source": [
    "\n",
    "## List of all teams\n",
    "teamset=set()\n",
    "for team in matches['HomeTeam']:\n",
    "    teamset.add(team)\n",
    "for team in matches['AwayTeam']:\n",
    "    teamset.add(team)\n",
    "print(teamset)"
   ]
  },
  {
   "cell_type": "markdown",
   "metadata": {
    "cell_id": "00007-5c83fe70-f882-4a18-8a9b-c6c5196a6513",
    "output_cleared": false
   },
   "source": [
    "TeamData of each and every team( We will add fields as we go on)"
   ]
  },
  {
   "cell_type": "code",
   "execution_count": 5,
   "metadata": {
    "cell_id": "00008-c3498137-15db-4680-befd-c4ba43af9248",
    "execution_millis": 1,
    "execution_start": 1605460293113,
    "output_cleared": false,
    "source_hash": "295be163"
   },
   "outputs": [],
   "source": [
    "teamsdata={}\n",
    "for team in teamset:\n",
    "    teamdata={}\n",
    "    teamdata['matches_played']=0\n",
    "    teamdata['won']=0\n",
    "    teamdata['tie']=0\n",
    "    teamdata['elo']=1200  #Default rating\n",
    "    teamsdata[team]=teamdata"
   ]
  },
  {
   "cell_type": "code",
   "execution_count": 6,
   "metadata": {
    "cell_id": "00009-ed8c54cf-9937-42ed-8cdd-ee5195422a8e",
    "execution_millis": 232,
    "execution_start": 1605460293162,
    "output_cleared": false,
    "source_hash": "947998b1"
   },
   "outputs": [
    {
     "data": {
      "application/vnd.deepnote.dataframe.v2+json": {
       "column_count": 162,
       "columns": [
        {
         "dtype": "int64",
         "name": "Unnamed: 0",
         "stats": {
          "histogram": [
           {
            "bin_end": 55.1,
            "bin_start": 0,
            "count": 1555
           },
           {
            "bin_end": 110.2,
            "bin_start": 55.1,
            "count": 1485
           },
           {
            "bin_end": 165.3,
            "bin_start": 110.2,
            "count": 1485
           },
           {
            "bin_end": 220.4,
            "bin_start": 165.3,
            "count": 1485
           },
           {
            "bin_end": 275.5,
            "bin_start": 220.4,
            "count": 1477
           },
           {
            "bin_end": 330.6,
            "bin_start": 275.5,
            "count": 1430
           },
           {
            "bin_end": 385.7,
            "bin_start": 330.6,
            "count": 1304
           },
           {
            "bin_end": 440.8,
            "bin_start": 385.7,
            "count": 275
           },
           {
            "bin_end": 495.90000000000003,
            "bin_start": 440.8,
            "count": 275
           },
           {
            "bin_end": 551,
            "bin_start": 495.90000000000003,
            "count": 280
           }
          ],
          "max": 551,
          "min": 0,
          "nan_count": 0,
          "unique_count": 552
         }
        },
        {
         "dtype": "object",
         "name": "Div",
         "stats": {
          "categories": [
           {
            "count": 10355,
            "name": "SP1"
           },
           {
            "count": 696,
            "name": "Missing"
           }
          ],
          "nan_count": 696,
          "unique_count": 1
         }
        },
        {
         "dtype": "object",
         "name": "Date",
         "stats": {
          "categories": [
           {
            "count": 11,
            "name": "31/03/96"
           },
           {
            "count": 10344,
            "name": "2605 others"
           },
           {
            "count": 696,
            "name": "Missing"
           }
          ],
          "nan_count": 696,
          "unique_count": 2606
         }
        },
        {
         "dtype": "object",
         "name": "HomeTeam",
         "stats": {
          "categories": [
           {
            "count": 514,
            "name": "Real Madrid"
           },
           {
            "count": 9841,
            "name": "48 others"
           },
           {
            "count": 696,
            "name": "Missing"
           }
          ],
          "nan_count": 696,
          "unique_count": 49
         }
        },
        {
         "dtype": "object",
         "name": "AwayTeam",
         "stats": {
          "categories": [
           {
            "count": 514,
            "name": "Real Madrid"
           },
           {
            "count": 9841,
            "name": "48 others"
           },
           {
            "count": 696,
            "name": "Missing"
           }
          ],
          "nan_count": 696,
          "unique_count": 49
         }
        },
        {
         "dtype": "float64",
         "name": "FTHG",
         "stats": {
          "histogram": [
           {
            "bin_end": 1,
            "bin_start": 0,
            "count": 2302
           },
           {
            "bin_end": 2,
            "bin_start": 1,
            "count": 3353
           },
           {
            "bin_end": 3,
            "bin_start": 2,
            "count": 2523
           },
           {
            "bin_end": 4,
            "bin_start": 3,
            "count": 1296
           },
           {
            "bin_end": 5,
            "bin_start": 4,
            "count": 575
           },
           {
            "bin_end": 6,
            "bin_start": 5,
            "count": 216
           },
           {
            "bin_end": 7,
            "bin_start": 6,
            "count": 62
           },
           {
            "bin_end": 8,
            "bin_start": 7,
            "count": 20
           },
           {
            "bin_end": 9,
            "bin_start": 8,
            "count": 6
           },
           {
            "bin_end": 10,
            "bin_start": 9,
            "count": 2
           }
          ],
          "max": 10,
          "min": 0,
          "nan_count": 696,
          "unique_count": 11
         }
        },
        {
         "dtype": "float64",
         "name": "FTAG",
         "stats": {
          "histogram": [
           {
            "bin_end": 0.8,
            "bin_start": 0,
            "count": 3583
           },
           {
            "bin_end": 1.6,
            "bin_start": 0.8,
            "count": 3691
           },
           {
            "bin_end": 2.4000000000000004,
            "bin_start": 1.6,
            "count": 1971
           },
           {
            "bin_end": 3.2,
            "bin_start": 2.4000000000000004,
            "count": 741
           },
           {
            "bin_end": 4,
            "bin_start": 3.2,
            "count": 0
           },
           {
            "bin_end": 4.800000000000001,
            "bin_start": 4,
            "count": 254
           },
           {
            "bin_end": 5.6000000000000005,
            "bin_start": 4.800000000000001,
            "count": 86
           },
           {
            "bin_end": 6.4,
            "bin_start": 5.6000000000000005,
            "count": 22
           },
           {
            "bin_end": 7.2,
            "bin_start": 6.4,
            "count": 1
           },
           {
            "bin_end": 8,
            "bin_start": 7.2,
            "count": 6
           }
          ],
          "max": 8,
          "min": 0,
          "nan_count": 696,
          "unique_count": 9
         }
        },
        {
         "dtype": "object",
         "name": "FTR",
         "stats": {
          "categories": [
           {
            "count": 4944,
            "name": "H"
           },
           {
            "count": 5411,
            "name": "2 others"
           },
           {
            "count": 696,
            "name": "Missing"
           }
          ],
          "nan_count": 696,
          "unique_count": 3
         }
        },
        {
         "dtype": "int64",
         "name": "Season",
         "stats": {
          "histogram": [
           {
            "bin_end": 1995.7,
            "bin_start": 1993,
            "count": 1656
           },
           {
            "bin_end": 1998.4,
            "bin_start": 1995.7,
            "count": 1312
           },
           {
            "bin_end": 2001.1,
            "bin_start": 1998.4,
            "count": 1312
           },
           {
            "bin_end": 2003.8,
            "bin_start": 2001.1,
            "count": 760
           },
           {
            "bin_end": 2006.5,
            "bin_start": 2003.8,
            "count": 1028
           },
           {
            "bin_end": 2009.2,
            "bin_start": 2006.5,
            "count": 1140
           },
           {
            "bin_end": 2011.9,
            "bin_start": 2009.2,
            "count": 760
           },
           {
            "bin_end": 2014.6,
            "bin_start": 2011.9,
            "count": 1140
           },
           {
            "bin_end": 2017.3,
            "bin_start": 2014.6,
            "count": 1140
           },
           {
            "bin_end": 2020,
            "bin_start": 2017.3,
            "count": 803
           }
          ],
          "max": 2020,
          "min": 1993,
          "nan_count": 0,
          "unique_count": 28
         }
        },
        {
         "dtype": "float64",
         "name": "HTHG"
        },
        {
         "dtype": "float64",
         "name": "HTAG"
        },
        {
         "dtype": "object",
         "name": "HTR"
        },
        {
         "dtype": "float64",
         "name": "GBH"
        },
        {
         "dtype": "float64",
         "name": "GBD"
        },
        {
         "dtype": "float64",
         "name": "GBA"
        },
        {
         "dtype": "float64",
         "name": "IWH"
        },
        {
         "dtype": "float64",
         "name": "IWD"
        },
        {
         "dtype": "float64",
         "name": "IWA"
        },
        {
         "dtype": "float64",
         "name": "LBH"
        },
        {
         "dtype": "float64",
         "name": "LBD"
        },
        {
         "dtype": "float64",
         "name": "LBA"
        },
        {
         "dtype": "float64",
         "name": "SBH"
        },
        {
         "dtype": "float64",
         "name": "SBD"
        },
        {
         "dtype": "float64",
         "name": "SBA"
        },
        {
         "dtype": "float64",
         "name": "WHH"
        },
        {
         "dtype": "float64",
         "name": "WHD"
        },
        {
         "dtype": "float64",
         "name": "WHA"
        },
        {
         "dtype": "float64",
         "name": "SYH"
        },
        {
         "dtype": "float64",
         "name": "SYD"
        },
        {
         "dtype": "float64",
         "name": "SYA"
        },
        {
         "dtype": "float64",
         "name": "B365H"
        },
        {
         "dtype": "float64",
         "name": "B365D"
        },
        {
         "dtype": "float64",
         "name": "B365A"
        },
        {
         "dtype": "float64",
         "name": "SOH"
        },
        {
         "dtype": "float64",
         "name": "SOD"
        },
        {
         "dtype": "float64",
         "name": "SOA"
        },
        {
         "dtype": "float64",
         "name": "GB>2.5"
        },
        {
         "dtype": "float64",
         "name": "GB<2.5"
        },
        {
         "dtype": "float64",
         "name": "B365>2.5"
        },
        {
         "dtype": "float64",
         "name": "B365<2.5"
        },
        {
         "dtype": "float64",
         "name": "GBAHH"
        },
        {
         "dtype": "float64",
         "name": "GBAHA"
        },
        {
         "dtype": "float64",
         "name": "GBAH"
        },
        {
         "dtype": "float64",
         "name": "LBAHH"
        },
        {
         "dtype": "float64",
         "name": "LBAHA"
        },
        {
         "dtype": "float64",
         "name": "LBAH"
        },
        {
         "dtype": "float64",
         "name": "B365AHH"
        },
        {
         "dtype": "float64",
         "name": "B365AHA"
        },
        {
         "dtype": "float64",
         "name": "B365AH"
        },
        {
         "dtype": "float64",
         "name": "Unnamed: 44"
        },
        {
         "dtype": "float64",
         "name": "Unnamed: 45"
        },
        {
         "dtype": "float64",
         "name": "Unnamed: 46"
        },
        {
         "dtype": "float64",
         "name": "Unnamed: 47"
        },
        {
         "dtype": "float64",
         "name": "Unnamed: 48"
        },
        {
         "dtype": "float64",
         "name": "Unnamed: 49"
        },
        {
         "dtype": "float64",
         "name": "Unnamed: 50"
        },
        {
         "dtype": "float64",
         "name": "BWH"
        },
        {
         "dtype": "float64",
         "name": "BWD"
        },
        {
         "dtype": "float64",
         "name": "BWA"
        },
        {
         "dtype": "float64",
         "name": "HS"
        },
        {
         "dtype": "float64",
         "name": "AS"
        },
        {
         "dtype": "float64",
         "name": "HST"
        },
        {
         "dtype": "float64",
         "name": "AST"
        },
        {
         "dtype": "float64",
         "name": "HF"
        },
        {
         "dtype": "float64",
         "name": "AF"
        },
        {
         "dtype": "float64",
         "name": "HC"
        },
        {
         "dtype": "float64",
         "name": "AC"
        },
        {
         "dtype": "float64",
         "name": "HY"
        },
        {
         "dtype": "float64",
         "name": "AY"
        },
        {
         "dtype": "float64",
         "name": "HR"
        },
        {
         "dtype": "float64",
         "name": "AR"
        },
        {
         "dtype": "float64",
         "name": "SJH"
        },
        {
         "dtype": "float64",
         "name": "SJD"
        },
        {
         "dtype": "float64",
         "name": "SJA"
        },
        {
         "dtype": "float64",
         "name": "VCH"
        },
        {
         "dtype": "float64",
         "name": "VCD"
        },
        {
         "dtype": "float64",
         "name": "VCA"
        },
        {
         "dtype": "float64",
         "name": "Bb1X2"
        },
        {
         "dtype": "float64",
         "name": "BbMxH"
        },
        {
         "dtype": "float64",
         "name": "BbAvH"
        },
        {
         "dtype": "float64",
         "name": "BbMxD"
        },
        {
         "dtype": "float64",
         "name": "BbAvD"
        },
        {
         "dtype": "float64",
         "name": "BbMxA"
        },
        {
         "dtype": "float64",
         "name": "BbAvA"
        },
        {
         "dtype": "float64",
         "name": "BbOU"
        },
        {
         "dtype": "float64",
         "name": "BbMx>2.5"
        },
        {
         "dtype": "float64",
         "name": "BbAv>2.5"
        },
        {
         "dtype": "float64",
         "name": "BbMx<2.5"
        },
        {
         "dtype": "float64",
         "name": "BbAv<2.5"
        },
        {
         "dtype": "float64",
         "name": "BbAH"
        },
        {
         "dtype": "float64",
         "name": "BbAHh"
        },
        {
         "dtype": "float64",
         "name": "BbMxAHH"
        },
        {
         "dtype": "float64",
         "name": "BbAvAHH"
        },
        {
         "dtype": "float64",
         "name": "BbMxAHA"
        },
        {
         "dtype": "float64",
         "name": "BbAvAHA"
        },
        {
         "dtype": "float64",
         "name": "BSH"
        },
        {
         "dtype": "float64",
         "name": "BSD"
        },
        {
         "dtype": "float64",
         "name": "BSA"
        },
        {
         "dtype": "float64",
         "name": "PSH"
        },
        {
         "dtype": "float64",
         "name": "PSD"
        },
        {
         "dtype": "float64",
         "name": "PSA"
        },
        {
         "dtype": "float64",
         "name": "PSCH"
        },
        {
         "dtype": "float64",
         "name": "PSCD"
        },
        {
         "dtype": "float64",
         "name": "PSCA"
        },
        {
         "dtype": "object",
         "name": "Time"
        },
        {
         "dtype": "float64",
         "name": "MaxH"
        },
        {
         "dtype": "float64",
         "name": "MaxD"
        },
        {
         "dtype": "float64",
         "name": "MaxA"
        },
        {
         "dtype": "float64",
         "name": "AvgH"
        },
        {
         "dtype": "float64",
         "name": "AvgD"
        },
        {
         "dtype": "float64",
         "name": "AvgA"
        },
        {
         "dtype": "float64",
         "name": "P>2.5"
        },
        {
         "dtype": "float64",
         "name": "P<2.5"
        },
        {
         "dtype": "float64",
         "name": "Max>2.5"
        },
        {
         "dtype": "float64",
         "name": "Max<2.5"
        },
        {
         "dtype": "float64",
         "name": "Avg>2.5"
        },
        {
         "dtype": "float64",
         "name": "Avg<2.5"
        },
        {
         "dtype": "float64",
         "name": "AHh"
        },
        {
         "dtype": "float64",
         "name": "PAHH"
        },
        {
         "dtype": "float64",
         "name": "PAHA"
        },
        {
         "dtype": "float64",
         "name": "MaxAHH"
        },
        {
         "dtype": "float64",
         "name": "MaxAHA"
        },
        {
         "dtype": "float64",
         "name": "AvgAHH"
        },
        {
         "dtype": "float64",
         "name": "AvgAHA"
        },
        {
         "dtype": "float64",
         "name": "B365CH"
        },
        {
         "dtype": "float64",
         "name": "B365CD"
        },
        {
         "dtype": "float64",
         "name": "B365CA"
        },
        {
         "dtype": "float64",
         "name": "BWCH"
        },
        {
         "dtype": "float64",
         "name": "BWCD"
        },
        {
         "dtype": "float64",
         "name": "BWCA"
        },
        {
         "dtype": "float64",
         "name": "IWCH"
        },
        {
         "dtype": "float64",
         "name": "IWCD"
        },
        {
         "dtype": "float64",
         "name": "IWCA"
        },
        {
         "dtype": "float64",
         "name": "WHCH"
        },
        {
         "dtype": "float64",
         "name": "WHCD"
        },
        {
         "dtype": "float64",
         "name": "WHCA"
        },
        {
         "dtype": "float64",
         "name": "VCCH"
        },
        {
         "dtype": "float64",
         "name": "VCCD"
        },
        {
         "dtype": "float64",
         "name": "VCCA"
        },
        {
         "dtype": "float64",
         "name": "MaxCH"
        },
        {
         "dtype": "float64",
         "name": "MaxCD"
        },
        {
         "dtype": "float64",
         "name": "MaxCA"
        },
        {
         "dtype": "float64",
         "name": "AvgCH"
        },
        {
         "dtype": "float64",
         "name": "AvgCD"
        },
        {
         "dtype": "float64",
         "name": "AvgCA"
        },
        {
         "dtype": "float64",
         "name": "B365C>2.5"
        },
        {
         "dtype": "float64",
         "name": "B365C<2.5"
        },
        {
         "dtype": "float64",
         "name": "PC>2.5"
        },
        {
         "dtype": "float64",
         "name": "PC<2.5"
        },
        {
         "dtype": "float64",
         "name": "MaxC>2.5"
        },
        {
         "dtype": "float64",
         "name": "MaxC<2.5"
        },
        {
         "dtype": "float64",
         "name": "AvgC>2.5"
        },
        {
         "dtype": "float64",
         "name": "AvgC<2.5"
        },
        {
         "dtype": "float64",
         "name": "AHCh"
        },
        {
         "dtype": "float64",
         "name": "B365CAHH"
        },
        {
         "dtype": "float64",
         "name": "B365CAHA"
        },
        {
         "dtype": "float64",
         "name": "PCAHH"
        },
        {
         "dtype": "float64",
         "name": "PCAHA"
        },
        {
         "dtype": "float64",
         "name": "MaxCAHH"
        },
        {
         "dtype": "float64",
         "name": "MaxCAHA"
        },
        {
         "dtype": "float64",
         "name": "AvgCAHH"
        },
        {
         "dtype": "float64",
         "name": "AvgCAHA"
        },
        {
         "dtype": "int64",
         "name": "_deepnote_index_column"
        }
       ],
       "row_count": 11051,
       "rows_bottom": [
        {
         "AC": 6,
         "AF": 8,
         "AHCh": 1,
         "AHh": 1,
         "AR": 0,
         "AS": 13,
         "AST": 3,
         "AY": 1,
         "Avg<2.5": 2.51,
         "Avg>2.5": 1.51,
         "AvgA": 1.51,
         "AvgAHA": 1.81,
         "AvgAHH": 2.05,
         "AvgC<2.5": 2.51,
         "AvgC>2.5": 1.51,
         "AvgCA": 1.52,
         "AvgCAHA": 1.83,
         "AvgCAHH": 2.03,
         "AvgCD": 4.58,
         "AvgCH": 5.94,
         "AvgD": 4.57,
         "AvgH": 6,
         "AwayTeam": "Real Madrid",
         "B365<2.5": 2.5,
         "B365>2.5": 1.53,
         "B365A": 1.5,
         "B365AH": "nan",
         "B365AHA": 1.77,
         "B365AHH": 2.02,
         "B365C<2.5": 2.5,
         "B365C>2.5": 1.53,
         "B365CA": 1.5,
         "B365CAHA": 1.86,
         "B365CAHH": 2.07,
         "B365CD": 4.75,
         "B365CH": 5.75,
         "B365D": 4.5,
         "B365H": 6,
         "BSA": "nan",
         "BSD": "nan",
         "BSH": "nan",
         "BWA": 1.5,
         "BWCA": 1.5,
         "BWCD": 4.6,
         "BWCH": 6,
         "BWD": 4.6,
         "BWH": 6,
         "Bb1X2": "nan",
         "BbAH": "nan",
         "BbAHh": "nan",
         "BbAv<2.5": "nan",
         "BbAv>2.5": "nan",
         "BbAvA": "nan",
         "BbAvAHA": "nan",
         "BbAvAHH": "nan",
         "BbAvD": "nan",
         "BbAvH": "nan",
         "BbMx<2.5": "nan",
         "BbMx>2.5": "nan",
         "BbMxA": "nan",
         "BbMxAHA": "nan",
         "BbMxAHH": "nan",
         "BbMxD": "nan",
         "BbMxH": "nan",
         "BbOU": "nan",
         "Date": "04/10/2020",
         "Div": "SP1",
         "FTAG": 2,
         "FTHG": 0,
         "FTR": "A",
         "GB<2.5": "nan",
         "GB>2.5": "nan",
         "GBA": "nan",
         "GBAH": "nan",
         "GBAHA": "nan",
         "GBAHH": "nan",
         "GBD": "nan",
         "GBH": "nan",
         "HC": 4,
         "HF": 14,
         "HR": 0,
         "HS": 11,
         "HST": 4,
         "HTAG": 1,
         "HTHG": 0,
         "HTR": "A",
         "HY": 2,
         "HomeTeam": "Levante",
         "IWA": 1.53,
         "IWCA": 1.55,
         "IWCD": 4.3,
         "IWCH": 5.5,
         "IWD": 4.4,
         "IWH": 6,
         "LBA": "nan",
         "LBAH": "nan",
         "LBAHA": "nan",
         "LBAHH": "nan",
         "LBD": "nan",
         "LBH": "nan",
         "Max<2.5": 2.67,
         "Max>2.5": 1.57,
         "MaxA": 1.55,
         "MaxAHA": 1.87,
         "MaxAHH": 2.13,
         "MaxC<2.5": 2.69,
         "MaxC>2.5": 1.55,
         "MaxCA": 1.56,
         "MaxCAHA": 1.9,
         "MaxCAHH": 2.16,
         "MaxCD": 4.85,
         "MaxCH": 7.2,
         "MaxD": 5.05,
         "MaxH": 6.55,
         "P<2.5": 2.67,
         "P>2.5": 1.52,
         "PAHA": 1.82,
         "PAHH": 2.1,
         "PC<2.5": 2.61,
         "PC>2.5": 1.55,
         "PCAHA": 1.87,
         "PCAHH": 2.06,
         "PSA": 1.52,
         "PSCA": 1.53,
         "PSCD": 4.8,
         "PSCH": 6.1,
         "PSD": 4.66,
         "PSH": 6.45,
         "SBA": "nan",
         "SBD": "nan",
         "SBH": "nan",
         "SJA": "nan",
         "SJD": "nan",
         "SJH": "nan",
         "SOA": "nan",
         "SOD": "nan",
         "SOH": "nan",
         "SYA": "nan",
         "SYD": "nan",
         "SYH": "nan",
         "Season": 2020,
         "Time": "15:00",
         "Unnamed: 0": 40,
         "Unnamed: 44": "nan",
         "Unnamed: 45": "nan",
         "Unnamed: 46": "nan",
         "Unnamed: 47": "nan",
         "Unnamed: 48": "nan",
         "Unnamed: 49": "nan",
         "Unnamed: 50": "nan",
         "VCA": 1.5,
         "VCCA": 1.5,
         "VCCD": 4.6,
         "VCCH": 5.75,
         "VCD": 4.4,
         "VCH": 5.75,
         "WHA": 1.5,
         "WHCA": 1.5,
         "WHCD": 4.5,
         "WHCH": 6,
         "WHD": 4.5,
         "WHH": 6,
         "_deepnote_index_column": 11048
        },
        {
         "AC": 5,
         "AF": 16,
         "AHCh": 0.25,
         "AHh": 0,
         "AR": 0,
         "AS": 13,
         "AST": 5,
         "AY": 2,
         "Avg<2.5": 1.46,
         "Avg>2.5": 2.68,
         "AvgA": 2.64,
         "AvgAHA": 1.81,
         "AvgAHH": 2.05,
         "AvgC<2.5": 1.38,
         "AvgC>2.5": 2.99,
         "AvgCA": 2.65,
         "AvgCAHA": 2.21,
         "AvgCAHH": 1.71,
         "AvgCD": 2.82,
         "AvgCH": 3.15,
         "AvgD": 2.96,
         "AvgH": 3,
         "AwayTeam": "Granada",
         "B365<2.5": 1.44,
         "B365>2.5": 2.75,
         "B365A": 2.6,
         "B365AH": "nan",
         "B365AHA": 1.85,
         "B365AHH": 2.08,
         "B365C<2.5": 1.36,
         "B365C>2.5": 3.2,
         "B365CA": 2.6,
         "B365CAHA": 2.15,
         "B365CAHH": 1.68,
         "B365CD": 2.87,
         "B365CH": 3.1,
         "B365D": 3,
         "B365H": 3,
         "BSA": "nan",
         "BSD": "nan",
         "BSH": "nan",
         "BWA": 2.65,
         "BWCA": 2.65,
         "BWCD": 2.85,
         "BWCH": 3.1,
         "BWD": 3,
         "BWH": 2.95,
         "Bb1X2": "nan",
         "BbAH": "nan",
         "BbAHh": "nan",
         "BbAv<2.5": "nan",
         "BbAv>2.5": "nan",
         "BbAvA": "nan",
         "BbAvAHA": "nan",
         "BbAvAHH": "nan",
         "BbAvD": "nan",
         "BbAvH": "nan",
         "BbMx<2.5": "nan",
         "BbMx>2.5": "nan",
         "BbMxA": "nan",
         "BbMxAHA": "nan",
         "BbMxAHH": "nan",
         "BbMxD": "nan",
         "BbMxH": "nan",
         "BbOU": "nan",
         "Date": "04/10/2020",
         "Div": "SP1",
         "FTAG": 1,
         "FTHG": 1,
         "FTR": "D",
         "GB<2.5": "nan",
         "GB>2.5": "nan",
         "GBA": "nan",
         "GBAH": "nan",
         "GBAHA": "nan",
         "GBAHH": "nan",
         "GBD": "nan",
         "GBH": "nan",
         "HC": 2,
         "HF": 16,
         "HR": 0,
         "HS": 14,
         "HST": 4,
         "HTAG": 1,
         "HTHG": 0,
         "HTR": "A",
         "HY": 2,
         "HomeTeam": "Cadiz",
         "IWA": 2.65,
         "IWCA": 2.65,
         "IWCD": 2.8,
         "IWCH": 3.15,
         "IWD": 2.75,
         "IWH": 3.05,
         "LBA": "nan",
         "LBAH": "nan",
         "LBAHA": "nan",
         "LBAHH": "nan",
         "LBD": "nan",
         "LBH": "nan",
         "Max<2.5": 1.5,
         "Max>2.5": 2.83,
         "MaxA": 2.74,
         "MaxAHA": 1.88,
         "MaxAHH": 2.13,
         "MaxC<2.5": 1.42,
         "MaxC>2.5": 3.2,
         "MaxCA": 2.83,
         "MaxCAHA": 2.3,
         "MaxCAHH": 1.8,
         "MaxCD": 2.97,
         "MaxCH": 3.33,
         "MaxD": 3.15,
         "MaxH": 3.14,
         "P<2.5": 1.49,
         "P>2.5": 2.8,
         "PAHA": 1.82,
         "PAHH": 2.13,
         "PC<2.5": 1.4,
         "PC>2.5": 3.13,
         "PCAHA": 2.29,
         "PCAHH": 1.7,
         "PSA": 2.69,
         "PSCA": 2.78,
         "PSCD": 2.86,
         "PSCH": 3.2,
         "PSD": 3.02,
         "PSH": 3.14,
         "SBA": "nan",
         "SBD": "nan",
         "SBH": "nan",
         "SJA": "nan",
         "SJD": "nan",
         "SJH": "nan",
         "SOA": "nan",
         "SOD": "nan",
         "SOH": "nan",
         "SYA": "nan",
         "SYD": "nan",
         "SYH": "nan",
         "Season": 2020,
         "Time": "17:30",
         "Unnamed: 0": 41,
         "Unnamed: 44": "nan",
         "Unnamed: 45": "nan",
         "Unnamed: 46": "nan",
         "Unnamed: 47": "nan",
         "Unnamed: 48": "nan",
         "Unnamed: 49": "nan",
         "Unnamed: 50": "nan",
         "VCA": 2.6,
         "VCCA": 2.55,
         "VCCD": 2.9,
         "VCCH": 3.13,
         "VCD": 3,
         "VCH": 2.88,
         "WHA": 2.6,
         "WHCA": 2.62,
         "WHCD": 2.8,
         "WHCH": 3.2,
         "WHD": 3,
         "WHH": 3,
         "_deepnote_index_column": 11049
        },
        {
         "AC": 5,
         "AF": 18,
         "AHCh": -0.75,
         "AHh": -1,
         "AR": 0,
         "AS": 13,
         "AST": 1,
         "AY": 1,
         "Avg<2.5": 2.45,
         "Avg>2.5": 1.54,
         "AvgA": 5.18,
         "AvgAHA": 1.84,
         "AvgAHH": 2.03,
         "AvgC<2.5": 2.53,
         "AvgC>2.5": 1.51,
         "AvgCA": 4.95,
         "AvgCAHA": 2.06,
         "AvgCAHH": 1.82,
         "AvgCD": 4.24,
         "AvgCH": 1.64,
         "AvgD": 4.22,
         "AvgH": 1.62,
         "AwayTeam": "Sevilla",
         "B365<2.5": 2.5,
         "B365>2.5": 1.53,
         "B365A": 5.25,
         "B365AH": "nan",
         "B365AHA": 1.87,
         "B365AHH": 2.06,
         "B365C<2.5": 2.5,
         "B365C>2.5": 1.53,
         "B365CA": 5,
         "B365CAHA": 2.07,
         "B365CAHH": 1.86,
         "B365CD": 4.2,
         "B365CH": 1.6,
         "B365D": 4.33,
         "B365H": 1.57,
         "BSA": "nan",
         "BSD": "nan",
         "BSH": "nan",
         "BWA": 5.25,
         "BWCA": 4.75,
         "BWCD": 4.25,
         "BWCH": 1.65,
         "BWD": 4.1,
         "BWH": 1.62,
         "Bb1X2": "nan",
         "BbAH": "nan",
         "BbAHh": "nan",
         "BbAv<2.5": "nan",
         "BbAv>2.5": "nan",
         "BbAvA": "nan",
         "BbAvAHA": "nan",
         "BbAvAHH": "nan",
         "BbAvD": "nan",
         "BbAvH": "nan",
         "BbMx<2.5": "nan",
         "BbMx>2.5": "nan",
         "BbMxA": "nan",
         "BbMxAHA": "nan",
         "BbMxAHH": "nan",
         "BbMxD": "nan",
         "BbMxH": "nan",
         "BbOU": "nan",
         "Date": "04/10/2020",
         "Div": "SP1",
         "FTAG": 1,
         "FTHG": 1,
         "FTR": "D",
         "GB<2.5": "nan",
         "GB>2.5": "nan",
         "GBA": "nan",
         "GBAH": "nan",
         "GBAHA": "nan",
         "GBAHH": "nan",
         "GBD": "nan",
         "GBH": "nan",
         "HC": 6,
         "HF": 11,
         "HR": 0,
         "HS": 12,
         "HST": 5,
         "HTAG": 1,
         "HTHG": 1,
         "HTR": "D",
         "HY": 1,
         "HomeTeam": "Barcelona",
         "IWA": 5,
         "IWCA": 4.8,
         "IWCD": 4,
         "IWCH": 1.65,
         "IWD": 4,
         "IWH": 1.63,
         "LBA": "nan",
         "LBAH": "nan",
         "LBAHA": "nan",
         "LBAHH": "nan",
         "LBD": "nan",
         "LBH": "nan",
         "Max<2.5": 2.58,
         "Max>2.5": 1.6,
         "MaxA": 5.7,
         "MaxAHA": 1.9,
         "MaxAHH": 2.1,
         "MaxC<2.5": 2.69,
         "MaxC>2.5": 1.54,
         "MaxCA": 5.4,
         "MaxCAHA": 2.14,
         "MaxCAHH": 1.89,
         "MaxCD": 4.5,
         "MaxCH": 1.69,
         "MaxD": 4.45,
         "MaxH": 1.66,
         "P<2.5": 2.48,
         "P>2.5": 1.6,
         "PAHA": 1.84,
         "PAHH": 2.1,
         "PC<2.5": 2.65,
         "PC>2.5": 1.53,
         "PCAHA": 2.08,
         "PCAHH": 1.85,
         "PSA": 5.55,
         "PSCA": 5.18,
         "PSCD": 4.28,
         "PSCH": 1.67,
         "PSD": 4.17,
         "PSH": 1.65,
         "SBA": "nan",
         "SBD": "nan",
         "SBH": "nan",
         "SJA": "nan",
         "SJD": "nan",
         "SJH": "nan",
         "SOA": "nan",
         "SOD": "nan",
         "SOH": "nan",
         "SYA": "nan",
         "SYD": "nan",
         "SYH": "nan",
         "Season": 2020,
         "Time": "20:00",
         "Unnamed: 0": 42,
         "Unnamed: 44": "nan",
         "Unnamed: 45": "nan",
         "Unnamed: 46": "nan",
         "Unnamed: 47": "nan",
         "Unnamed: 48": "nan",
         "Unnamed: 49": "nan",
         "Unnamed: 50": "nan",
         "VCA": 5,
         "VCCA": 4.75,
         "VCCD": 4.33,
         "VCCH": 1.62,
         "VCD": 4.2,
         "VCH": 1.57,
         "WHA": 5.5,
         "WHCA": 5.25,
         "WHCD": 4.2,
         "WHCH": 1.62,
         "WHD": 4.2,
         "WHH": 1.6,
         "_deepnote_index_column": 11050
        }
       ],
       "rows_top": [
        {
         "AC": "nan",
         "AF": "nan",
         "AHCh": "nan",
         "AHh": "nan",
         "AR": "nan",
         "AS": "nan",
         "AST": "nan",
         "AY": "nan",
         "Avg<2.5": "nan",
         "Avg>2.5": "nan",
         "AvgA": "nan",
         "AvgAHA": "nan",
         "AvgAHH": "nan",
         "AvgC<2.5": "nan",
         "AvgC>2.5": "nan",
         "AvgCA": "nan",
         "AvgCAHA": "nan",
         "AvgCAHH": "nan",
         "AvgCD": "nan",
         "AvgCH": "nan",
         "AvgD": "nan",
         "AvgH": "nan",
         "AwayTeam": "Albacete",
         "B365<2.5": "nan",
         "B365>2.5": "nan",
         "B365A": "nan",
         "B365AH": "nan",
         "B365AHA": "nan",
         "B365AHH": "nan",
         "B365C<2.5": "nan",
         "B365C>2.5": "nan",
         "B365CA": "nan",
         "B365CAHA": "nan",
         "B365CAHH": "nan",
         "B365CD": "nan",
         "B365CH": "nan",
         "B365D": "nan",
         "B365H": "nan",
         "BSA": "nan",
         "BSD": "nan",
         "BSH": "nan",
         "BWA": "nan",
         "BWCA": "nan",
         "BWCD": "nan",
         "BWCH": "nan",
         "BWD": "nan",
         "BWH": "nan",
         "Bb1X2": "nan",
         "BbAH": "nan",
         "BbAHh": "nan",
         "BbAv<2.5": "nan",
         "BbAv>2.5": "nan",
         "BbAvA": "nan",
         "BbAvAHA": "nan",
         "BbAvAHH": "nan",
         "BbAvD": "nan",
         "BbAvH": "nan",
         "BbMx<2.5": "nan",
         "BbMx>2.5": "nan",
         "BbMxA": "nan",
         "BbMxAHA": "nan",
         "BbMxAHH": "nan",
         "BbMxD": "nan",
         "BbMxH": "nan",
         "BbOU": "nan",
         "Date": "05/09/93",
         "Div": "SP1",
         "FTAG": 1,
         "FTHG": 4,
         "FTR": "H",
         "GB<2.5": "nan",
         "GB>2.5": "nan",
         "GBA": "nan",
         "GBAH": "nan",
         "GBAHA": "nan",
         "GBAHH": "nan",
         "GBD": "nan",
         "GBH": "nan",
         "HC": "nan",
         "HF": "nan",
         "HR": "nan",
         "HS": "nan",
         "HST": "nan",
         "HTAG": "nan",
         "HTHG": "nan",
         "HTR": "nan",
         "HY": "nan",
         "HomeTeam": "Ath Bilbao",
         "IWA": "nan",
         "IWCA": "nan",
         "IWCD": "nan",
         "IWCH": "nan",
         "IWD": "nan",
         "IWH": "nan",
         "LBA": "nan",
         "LBAH": "nan",
         "LBAHA": "nan",
         "LBAHH": "nan",
         "LBD": "nan",
         "LBH": "nan",
         "Max<2.5": "nan",
         "Max>2.5": "nan",
         "MaxA": "nan",
         "MaxAHA": "nan",
         "MaxAHH": "nan",
         "MaxC<2.5": "nan",
         "MaxC>2.5": "nan",
         "MaxCA": "nan",
         "MaxCAHA": "nan",
         "MaxCAHH": "nan",
         "MaxCD": "nan",
         "MaxCH": "nan",
         "MaxD": "nan",
         "MaxH": "nan",
         "P<2.5": "nan",
         "P>2.5": "nan",
         "PAHA": "nan",
         "PAHH": "nan",
         "PC<2.5": "nan",
         "PC>2.5": "nan",
         "PCAHA": "nan",
         "PCAHH": "nan",
         "PSA": "nan",
         "PSCA": "nan",
         "PSCD": "nan",
         "PSCH": "nan",
         "PSD": "nan",
         "PSH": "nan",
         "SBA": "nan",
         "SBD": "nan",
         "SBH": "nan",
         "SJA": "nan",
         "SJD": "nan",
         "SJH": "nan",
         "SOA": "nan",
         "SOD": "nan",
         "SOH": "nan",
         "SYA": "nan",
         "SYD": "nan",
         "SYH": "nan",
         "Season": 1993,
         "Time": "nan",
         "Unnamed: 0": 0,
         "Unnamed: 44": "nan",
         "Unnamed: 45": "nan",
         "Unnamed: 46": "nan",
         "Unnamed: 47": "nan",
         "Unnamed: 48": "nan",
         "Unnamed: 49": "nan",
         "Unnamed: 50": "nan",
         "VCA": "nan",
         "VCCA": "nan",
         "VCCD": "nan",
         "VCCH": "nan",
         "VCD": "nan",
         "VCH": "nan",
         "WHA": "nan",
         "WHCA": "nan",
         "WHCD": "nan",
         "WHCH": "nan",
         "WHD": "nan",
         "WHH": "nan",
         "_deepnote_index_column": 0
        },
        {
         "AC": "nan",
         "AF": "nan",
         "AHCh": "nan",
         "AHh": "nan",
         "AR": "nan",
         "AS": "nan",
         "AST": "nan",
         "AY": "nan",
         "Avg<2.5": "nan",
         "Avg>2.5": "nan",
         "AvgA": "nan",
         "AvgAHA": "nan",
         "AvgAHH": "nan",
         "AvgC<2.5": "nan",
         "AvgC>2.5": "nan",
         "AvgCA": "nan",
         "AvgCAHA": "nan",
         "AvgCAHH": "nan",
         "AvgCD": "nan",
         "AvgCH": "nan",
         "AvgD": "nan",
         "AvgH": "nan",
         "AwayTeam": "Logrones",
         "B365<2.5": "nan",
         "B365>2.5": "nan",
         "B365A": "nan",
         "B365AH": "nan",
         "B365AHA": "nan",
         "B365AHH": "nan",
         "B365C<2.5": "nan",
         "B365C>2.5": "nan",
         "B365CA": "nan",
         "B365CAHA": "nan",
         "B365CAHH": "nan",
         "B365CD": "nan",
         "B365CH": "nan",
         "B365D": "nan",
         "B365H": "nan",
         "BSA": "nan",
         "BSD": "nan",
         "BSH": "nan",
         "BWA": "nan",
         "BWCA": "nan",
         "BWCD": "nan",
         "BWCH": "nan",
         "BWD": "nan",
         "BWH": "nan",
         "Bb1X2": "nan",
         "BbAH": "nan",
         "BbAHh": "nan",
         "BbAv<2.5": "nan",
         "BbAv>2.5": "nan",
         "BbAvA": "nan",
         "BbAvAHA": "nan",
         "BbAvAHH": "nan",
         "BbAvD": "nan",
         "BbAvH": "nan",
         "BbMx<2.5": "nan",
         "BbMx>2.5": "nan",
         "BbMxA": "nan",
         "BbMxAHA": "nan",
         "BbMxAHH": "nan",
         "BbMxD": "nan",
         "BbMxH": "nan",
         "BbOU": "nan",
         "Date": "05/09/93",
         "Div": "SP1",
         "FTAG": 0,
         "FTHG": 1,
         "FTR": "H",
         "GB<2.5": "nan",
         "GB>2.5": "nan",
         "GBA": "nan",
         "GBAH": "nan",
         "GBAHA": "nan",
         "GBAHH": "nan",
         "GBD": "nan",
         "GBH": "nan",
         "HC": "nan",
         "HF": "nan",
         "HR": "nan",
         "HS": "nan",
         "HST": "nan",
         "HTAG": "nan",
         "HTHG": "nan",
         "HTR": "nan",
         "HY": "nan",
         "HomeTeam": "Ath Madrid",
         "IWA": "nan",
         "IWCA": "nan",
         "IWCD": "nan",
         "IWCH": "nan",
         "IWD": "nan",
         "IWH": "nan",
         "LBA": "nan",
         "LBAH": "nan",
         "LBAHA": "nan",
         "LBAHH": "nan",
         "LBD": "nan",
         "LBH": "nan",
         "Max<2.5": "nan",
         "Max>2.5": "nan",
         "MaxA": "nan",
         "MaxAHA": "nan",
         "MaxAHH": "nan",
         "MaxC<2.5": "nan",
         "MaxC>2.5": "nan",
         "MaxCA": "nan",
         "MaxCAHA": "nan",
         "MaxCAHH": "nan",
         "MaxCD": "nan",
         "MaxCH": "nan",
         "MaxD": "nan",
         "MaxH": "nan",
         "P<2.5": "nan",
         "P>2.5": "nan",
         "PAHA": "nan",
         "PAHH": "nan",
         "PC<2.5": "nan",
         "PC>2.5": "nan",
         "PCAHA": "nan",
         "PCAHH": "nan",
         "PSA": "nan",
         "PSCA": "nan",
         "PSCD": "nan",
         "PSCH": "nan",
         "PSD": "nan",
         "PSH": "nan",
         "SBA": "nan",
         "SBD": "nan",
         "SBH": "nan",
         "SJA": "nan",
         "SJD": "nan",
         "SJH": "nan",
         "SOA": "nan",
         "SOD": "nan",
         "SOH": "nan",
         "SYA": "nan",
         "SYD": "nan",
         "SYH": "nan",
         "Season": 1993,
         "Time": "nan",
         "Unnamed: 0": 1,
         "Unnamed: 44": "nan",
         "Unnamed: 45": "nan",
         "Unnamed: 46": "nan",
         "Unnamed: 47": "nan",
         "Unnamed: 48": "nan",
         "Unnamed: 49": "nan",
         "Unnamed: 50": "nan",
         "VCA": "nan",
         "VCCA": "nan",
         "VCCD": "nan",
         "VCCH": "nan",
         "VCD": "nan",
         "VCH": "nan",
         "WHA": "nan",
         "WHCA": "nan",
         "WHCD": "nan",
         "WHCH": "nan",
         "WHD": "nan",
         "WHH": "nan",
         "_deepnote_index_column": 1
        },
        {
         "AC": "nan",
         "AF": "nan",
         "AHCh": "nan",
         "AHh": "nan",
         "AR": "nan",
         "AS": "nan",
         "AST": "nan",
         "AY": "nan",
         "Avg<2.5": "nan",
         "Avg>2.5": "nan",
         "AvgA": "nan",
         "AvgAHA": "nan",
         "AvgAHH": "nan",
         "AvgC<2.5": "nan",
         "AvgC>2.5": "nan",
         "AvgCA": "nan",
         "AvgCAHA": "nan",
         "AvgCAHH": "nan",
         "AvgCD": "nan",
         "AvgCH": "nan",
         "AvgD": "nan",
         "AvgH": "nan",
         "AwayTeam": "Sociedad",
         "B365<2.5": "nan",
         "B365>2.5": "nan",
         "B365A": "nan",
         "B365AH": "nan",
         "B365AHA": "nan",
         "B365AHH": "nan",
         "B365C<2.5": "nan",
         "B365C>2.5": "nan",
         "B365CA": "nan",
         "B365CAHA": "nan",
         "B365CAHH": "nan",
         "B365CD": "nan",
         "B365CH": "nan",
         "B365D": "nan",
         "B365H": "nan",
         "BSA": "nan",
         "BSD": "nan",
         "BSH": "nan",
         "BWA": "nan",
         "BWCA": "nan",
         "BWCD": "nan",
         "BWCH": "nan",
         "BWD": "nan",
         "BWH": "nan",
         "Bb1X2": "nan",
         "BbAH": "nan",
         "BbAHh": "nan",
         "BbAv<2.5": "nan",
         "BbAv>2.5": "nan",
         "BbAvA": "nan",
         "BbAvAHA": "nan",
         "BbAvAHH": "nan",
         "BbAvD": "nan",
         "BbAvH": "nan",
         "BbMx<2.5": "nan",
         "BbMx>2.5": "nan",
         "BbMxA": "nan",
         "BbMxAHA": "nan",
         "BbMxAHH": "nan",
         "BbMxD": "nan",
         "BbMxH": "nan",
         "BbOU": "nan",
         "Date": "05/09/93",
         "Div": "SP1",
         "FTAG": 0,
         "FTHG": 3,
         "FTR": "H",
         "GB<2.5": "nan",
         "GB>2.5": "nan",
         "GBA": "nan",
         "GBAH": "nan",
         "GBAHA": "nan",
         "GBAHH": "nan",
         "GBD": "nan",
         "GBH": "nan",
         "HC": "nan",
         "HF": "nan",
         "HR": "nan",
         "HS": "nan",
         "HST": "nan",
         "HTAG": "nan",
         "HTHG": "nan",
         "HTR": "nan",
         "HY": "nan",
         "HomeTeam": "Barcelona",
         "IWA": "nan",
         "IWCA": "nan",
         "IWCD": "nan",
         "IWCH": "nan",
         "IWD": "nan",
         "IWH": "nan",
         "LBA": "nan",
         "LBAH": "nan",
         "LBAHA": "nan",
         "LBAHH": "nan",
         "LBD": "nan",
         "LBH": "nan",
         "Max<2.5": "nan",
         "Max>2.5": "nan",
         "MaxA": "nan",
         "MaxAHA": "nan",
         "MaxAHH": "nan",
         "MaxC<2.5": "nan",
         "MaxC>2.5": "nan",
         "MaxCA": "nan",
         "MaxCAHA": "nan",
         "MaxCAHH": "nan",
         "MaxCD": "nan",
         "MaxCH": "nan",
         "MaxD": "nan",
         "MaxH": "nan",
         "P<2.5": "nan",
         "P>2.5": "nan",
         "PAHA": "nan",
         "PAHH": "nan",
         "PC<2.5": "nan",
         "PC>2.5": "nan",
         "PCAHA": "nan",
         "PCAHH": "nan",
         "PSA": "nan",
         "PSCA": "nan",
         "PSCD": "nan",
         "PSCH": "nan",
         "PSD": "nan",
         "PSH": "nan",
         "SBA": "nan",
         "SBD": "nan",
         "SBH": "nan",
         "SJA": "nan",
         "SJD": "nan",
         "SJH": "nan",
         "SOA": "nan",
         "SOD": "nan",
         "SOH": "nan",
         "SYA": "nan",
         "SYD": "nan",
         "SYH": "nan",
         "Season": 1993,
         "Time": "nan",
         "Unnamed: 0": 2,
         "Unnamed: 44": "nan",
         "Unnamed: 45": "nan",
         "Unnamed: 46": "nan",
         "Unnamed: 47": "nan",
         "Unnamed: 48": "nan",
         "Unnamed: 49": "nan",
         "Unnamed: 50": "nan",
         "VCA": "nan",
         "VCCA": "nan",
         "VCCD": "nan",
         "VCCH": "nan",
         "VCD": "nan",
         "VCH": "nan",
         "WHA": "nan",
         "WHCA": "nan",
         "WHCD": "nan",
         "WHCH": "nan",
         "WHD": "nan",
         "WHH": "nan",
         "_deepnote_index_column": 2
        }
       ]
      },
      "text/html": [
       "<div>\n",
       "<style scoped>\n",
       "    .dataframe tbody tr th:only-of-type {\n",
       "        vertical-align: middle;\n",
       "    }\n",
       "\n",
       "    .dataframe tbody tr th {\n",
       "        vertical-align: top;\n",
       "    }\n",
       "\n",
       "    .dataframe thead th {\n",
       "        text-align: right;\n",
       "    }\n",
       "</style>\n",
       "<table border=\"1\" class=\"dataframe\">\n",
       "  <thead>\n",
       "    <tr style=\"text-align: right;\">\n",
       "      <th></th>\n",
       "      <th>Unnamed: 0</th>\n",
       "      <th>Div</th>\n",
       "      <th>Date</th>\n",
       "      <th>HomeTeam</th>\n",
       "      <th>AwayTeam</th>\n",
       "      <th>FTHG</th>\n",
       "      <th>FTAG</th>\n",
       "      <th>FTR</th>\n",
       "      <th>Season</th>\n",
       "      <th>HTHG</th>\n",
       "      <th>...</th>\n",
       "      <th>AvgC&lt;2.5</th>\n",
       "      <th>AHCh</th>\n",
       "      <th>B365CAHH</th>\n",
       "      <th>B365CAHA</th>\n",
       "      <th>PCAHH</th>\n",
       "      <th>PCAHA</th>\n",
       "      <th>MaxCAHH</th>\n",
       "      <th>MaxCAHA</th>\n",
       "      <th>AvgCAHH</th>\n",
       "      <th>AvgCAHA</th>\n",
       "    </tr>\n",
       "  </thead>\n",
       "  <tbody>\n",
       "    <tr>\n",
       "      <th>0</th>\n",
       "      <td>0</td>\n",
       "      <td>SP1</td>\n",
       "      <td>05/09/93</td>\n",
       "      <td>Ath Bilbao</td>\n",
       "      <td>Albacete</td>\n",
       "      <td>4.0</td>\n",
       "      <td>1.0</td>\n",
       "      <td>H</td>\n",
       "      <td>1993</td>\n",
       "      <td>NaN</td>\n",
       "      <td>...</td>\n",
       "      <td>NaN</td>\n",
       "      <td>NaN</td>\n",
       "      <td>NaN</td>\n",
       "      <td>NaN</td>\n",
       "      <td>NaN</td>\n",
       "      <td>NaN</td>\n",
       "      <td>NaN</td>\n",
       "      <td>NaN</td>\n",
       "      <td>NaN</td>\n",
       "      <td>NaN</td>\n",
       "    </tr>\n",
       "    <tr>\n",
       "      <th>1</th>\n",
       "      <td>1</td>\n",
       "      <td>SP1</td>\n",
       "      <td>05/09/93</td>\n",
       "      <td>Ath Madrid</td>\n",
       "      <td>Logrones</td>\n",
       "      <td>1.0</td>\n",
       "      <td>0.0</td>\n",
       "      <td>H</td>\n",
       "      <td>1993</td>\n",
       "      <td>NaN</td>\n",
       "      <td>...</td>\n",
       "      <td>NaN</td>\n",
       "      <td>NaN</td>\n",
       "      <td>NaN</td>\n",
       "      <td>NaN</td>\n",
       "      <td>NaN</td>\n",
       "      <td>NaN</td>\n",
       "      <td>NaN</td>\n",
       "      <td>NaN</td>\n",
       "      <td>NaN</td>\n",
       "      <td>NaN</td>\n",
       "    </tr>\n",
       "    <tr>\n",
       "      <th>2</th>\n",
       "      <td>2</td>\n",
       "      <td>SP1</td>\n",
       "      <td>05/09/93</td>\n",
       "      <td>Barcelona</td>\n",
       "      <td>Sociedad</td>\n",
       "      <td>3.0</td>\n",
       "      <td>0.0</td>\n",
       "      <td>H</td>\n",
       "      <td>1993</td>\n",
       "      <td>NaN</td>\n",
       "      <td>...</td>\n",
       "      <td>NaN</td>\n",
       "      <td>NaN</td>\n",
       "      <td>NaN</td>\n",
       "      <td>NaN</td>\n",
       "      <td>NaN</td>\n",
       "      <td>NaN</td>\n",
       "      <td>NaN</td>\n",
       "      <td>NaN</td>\n",
       "      <td>NaN</td>\n",
       "      <td>NaN</td>\n",
       "    </tr>\n",
       "    <tr>\n",
       "      <th>3</th>\n",
       "      <td>3</td>\n",
       "      <td>SP1</td>\n",
       "      <td>05/09/93</td>\n",
       "      <td>La Coruna</td>\n",
       "      <td>Celta</td>\n",
       "      <td>0.0</td>\n",
       "      <td>0.0</td>\n",
       "      <td>D</td>\n",
       "      <td>1993</td>\n",
       "      <td>NaN</td>\n",
       "      <td>...</td>\n",
       "      <td>NaN</td>\n",
       "      <td>NaN</td>\n",
       "      <td>NaN</td>\n",
       "      <td>NaN</td>\n",
       "      <td>NaN</td>\n",
       "      <td>NaN</td>\n",
       "      <td>NaN</td>\n",
       "      <td>NaN</td>\n",
       "      <td>NaN</td>\n",
       "      <td>NaN</td>\n",
       "    </tr>\n",
       "    <tr>\n",
       "      <th>4</th>\n",
       "      <td>4</td>\n",
       "      <td>SP1</td>\n",
       "      <td>05/09/93</td>\n",
       "      <td>Osasuna</td>\n",
       "      <td>Real Madrid</td>\n",
       "      <td>1.0</td>\n",
       "      <td>4.0</td>\n",
       "      <td>A</td>\n",
       "      <td>1993</td>\n",
       "      <td>NaN</td>\n",
       "      <td>...</td>\n",
       "      <td>NaN</td>\n",
       "      <td>NaN</td>\n",
       "      <td>NaN</td>\n",
       "      <td>NaN</td>\n",
       "      <td>NaN</td>\n",
       "      <td>NaN</td>\n",
       "      <td>NaN</td>\n",
       "      <td>NaN</td>\n",
       "      <td>NaN</td>\n",
       "      <td>NaN</td>\n",
       "    </tr>\n",
       "    <tr>\n",
       "      <th>...</th>\n",
       "      <td>...</td>\n",
       "      <td>...</td>\n",
       "      <td>...</td>\n",
       "      <td>...</td>\n",
       "      <td>...</td>\n",
       "      <td>...</td>\n",
       "      <td>...</td>\n",
       "      <td>...</td>\n",
       "      <td>...</td>\n",
       "      <td>...</td>\n",
       "      <td>...</td>\n",
       "      <td>...</td>\n",
       "      <td>...</td>\n",
       "      <td>...</td>\n",
       "      <td>...</td>\n",
       "      <td>...</td>\n",
       "      <td>...</td>\n",
       "      <td>...</td>\n",
       "      <td>...</td>\n",
       "      <td>...</td>\n",
       "      <td>...</td>\n",
       "    </tr>\n",
       "    <tr>\n",
       "      <th>11046</th>\n",
       "      <td>38</td>\n",
       "      <td>SP1</td>\n",
       "      <td>04/10/2020</td>\n",
       "      <td>Osasuna</td>\n",
       "      <td>Celta</td>\n",
       "      <td>2.0</td>\n",
       "      <td>0.0</td>\n",
       "      <td>H</td>\n",
       "      <td>2020</td>\n",
       "      <td>1.0</td>\n",
       "      <td>...</td>\n",
       "      <td>1.55</td>\n",
       "      <td>0.00</td>\n",
       "      <td>2.09</td>\n",
       "      <td>1.84</td>\n",
       "      <td>2.09</td>\n",
       "      <td>1.85</td>\n",
       "      <td>2.16</td>\n",
       "      <td>1.91</td>\n",
       "      <td>2.05</td>\n",
       "      <td>1.83</td>\n",
       "    </tr>\n",
       "    <tr>\n",
       "      <th>11047</th>\n",
       "      <td>39</td>\n",
       "      <td>SP1</td>\n",
       "      <td>04/10/2020</td>\n",
       "      <td>Alaves</td>\n",
       "      <td>Ath Bilbao</td>\n",
       "      <td>1.0</td>\n",
       "      <td>0.0</td>\n",
       "      <td>H</td>\n",
       "      <td>2020</td>\n",
       "      <td>0.0</td>\n",
       "      <td>...</td>\n",
       "      <td>1.40</td>\n",
       "      <td>0.25</td>\n",
       "      <td>1.93</td>\n",
       "      <td>2.00</td>\n",
       "      <td>1.95</td>\n",
       "      <td>1.97</td>\n",
       "      <td>1.97</td>\n",
       "      <td>2.01</td>\n",
       "      <td>1.92</td>\n",
       "      <td>1.94</td>\n",
       "    </tr>\n",
       "    <tr>\n",
       "      <th>11048</th>\n",
       "      <td>40</td>\n",
       "      <td>SP1</td>\n",
       "      <td>04/10/2020</td>\n",
       "      <td>Levante</td>\n",
       "      <td>Real Madrid</td>\n",
       "      <td>0.0</td>\n",
       "      <td>2.0</td>\n",
       "      <td>A</td>\n",
       "      <td>2020</td>\n",
       "      <td>0.0</td>\n",
       "      <td>...</td>\n",
       "      <td>2.51</td>\n",
       "      <td>1.00</td>\n",
       "      <td>2.07</td>\n",
       "      <td>1.86</td>\n",
       "      <td>2.06</td>\n",
       "      <td>1.87</td>\n",
       "      <td>2.16</td>\n",
       "      <td>1.90</td>\n",
       "      <td>2.03</td>\n",
       "      <td>1.83</td>\n",
       "    </tr>\n",
       "    <tr>\n",
       "      <th>11049</th>\n",
       "      <td>41</td>\n",
       "      <td>SP1</td>\n",
       "      <td>04/10/2020</td>\n",
       "      <td>Cadiz</td>\n",
       "      <td>Granada</td>\n",
       "      <td>1.0</td>\n",
       "      <td>1.0</td>\n",
       "      <td>D</td>\n",
       "      <td>2020</td>\n",
       "      <td>0.0</td>\n",
       "      <td>...</td>\n",
       "      <td>1.38</td>\n",
       "      <td>0.25</td>\n",
       "      <td>1.68</td>\n",
       "      <td>2.15</td>\n",
       "      <td>1.70</td>\n",
       "      <td>2.29</td>\n",
       "      <td>1.80</td>\n",
       "      <td>2.30</td>\n",
       "      <td>1.71</td>\n",
       "      <td>2.21</td>\n",
       "    </tr>\n",
       "    <tr>\n",
       "      <th>11050</th>\n",
       "      <td>42</td>\n",
       "      <td>SP1</td>\n",
       "      <td>04/10/2020</td>\n",
       "      <td>Barcelona</td>\n",
       "      <td>Sevilla</td>\n",
       "      <td>1.0</td>\n",
       "      <td>1.0</td>\n",
       "      <td>D</td>\n",
       "      <td>2020</td>\n",
       "      <td>1.0</td>\n",
       "      <td>...</td>\n",
       "      <td>2.53</td>\n",
       "      <td>-0.75</td>\n",
       "      <td>1.86</td>\n",
       "      <td>2.07</td>\n",
       "      <td>1.85</td>\n",
       "      <td>2.08</td>\n",
       "      <td>1.89</td>\n",
       "      <td>2.14</td>\n",
       "      <td>1.82</td>\n",
       "      <td>2.06</td>\n",
       "    </tr>\n",
       "  </tbody>\n",
       "</table>\n",
       "<p>11051 rows × 162 columns</p>\n",
       "</div>"
      ],
      "text/plain": [
       "       Unnamed: 0  Div        Date    HomeTeam     AwayTeam  FTHG  FTAG FTR  \\\n",
       "0               0  SP1    05/09/93  Ath Bilbao     Albacete   4.0   1.0   H   \n",
       "1               1  SP1    05/09/93  Ath Madrid     Logrones   1.0   0.0   H   \n",
       "2               2  SP1    05/09/93   Barcelona     Sociedad   3.0   0.0   H   \n",
       "3               3  SP1    05/09/93   La Coruna        Celta   0.0   0.0   D   \n",
       "4               4  SP1    05/09/93     Osasuna  Real Madrid   1.0   4.0   A   \n",
       "...           ...  ...         ...         ...          ...   ...   ...  ..   \n",
       "11046          38  SP1  04/10/2020     Osasuna        Celta   2.0   0.0   H   \n",
       "11047          39  SP1  04/10/2020      Alaves   Ath Bilbao   1.0   0.0   H   \n",
       "11048          40  SP1  04/10/2020     Levante  Real Madrid   0.0   2.0   A   \n",
       "11049          41  SP1  04/10/2020       Cadiz      Granada   1.0   1.0   D   \n",
       "11050          42  SP1  04/10/2020   Barcelona      Sevilla   1.0   1.0   D   \n",
       "\n",
       "       Season  HTHG  ...  AvgC<2.5  AHCh  B365CAHH  B365CAHA  PCAHH  PCAHA  \\\n",
       "0        1993   NaN  ...       NaN   NaN       NaN       NaN    NaN    NaN   \n",
       "1        1993   NaN  ...       NaN   NaN       NaN       NaN    NaN    NaN   \n",
       "2        1993   NaN  ...       NaN   NaN       NaN       NaN    NaN    NaN   \n",
       "3        1993   NaN  ...       NaN   NaN       NaN       NaN    NaN    NaN   \n",
       "4        1993   NaN  ...       NaN   NaN       NaN       NaN    NaN    NaN   \n",
       "...       ...   ...  ...       ...   ...       ...       ...    ...    ...   \n",
       "11046    2020   1.0  ...      1.55  0.00      2.09      1.84   2.09   1.85   \n",
       "11047    2020   0.0  ...      1.40  0.25      1.93      2.00   1.95   1.97   \n",
       "11048    2020   0.0  ...      2.51  1.00      2.07      1.86   2.06   1.87   \n",
       "11049    2020   0.0  ...      1.38  0.25      1.68      2.15   1.70   2.29   \n",
       "11050    2020   1.0  ...      2.53 -0.75      1.86      2.07   1.85   2.08   \n",
       "\n",
       "       MaxCAHH  MaxCAHA  AvgCAHH  AvgCAHA  \n",
       "0          NaN      NaN      NaN      NaN  \n",
       "1          NaN      NaN      NaN      NaN  \n",
       "2          NaN      NaN      NaN      NaN  \n",
       "3          NaN      NaN      NaN      NaN  \n",
       "4          NaN      NaN      NaN      NaN  \n",
       "...        ...      ...      ...      ...  \n",
       "11046     2.16     1.91     2.05     1.83  \n",
       "11047     1.97     2.01     1.92     1.94  \n",
       "11048     2.16     1.90     2.03     1.83  \n",
       "11049     1.80     2.30     1.71     2.21  \n",
       "11050     1.89     2.14     1.82     2.06  \n",
       "\n",
       "[11051 rows x 162 columns]"
      ]
     },
     "execution_count": 6,
     "metadata": {},
     "output_type": "execute_result"
    }
   ],
   "source": [
    "matches"
   ]
  },
  {
   "cell_type": "code",
   "execution_count": 7,
   "metadata": {
    "cell_id": "00010-b9386c82-6977-4e69-8442-27493be6a091",
    "execution_millis": 2207,
    "execution_start": 1605460293401,
    "output_cleared": false,
    "source_hash": "e5d2fed7"
   },
   "outputs": [
    {
     "data": {
      "text/plain": [
       "{nan: {'matches_played': 1392, 'won': 696, 'tie': 0, 'elo': -2280.0},\n",
       " 'Numancia': {'matches_played': 141,\n",
       "  'won': 33,\n",
       "  'tie': 36,\n",
       "  'elo': 1134.0734783362418},\n",
       " 'Ath Bilbao': {'matches_played': 1026,\n",
       "  'won': 380,\n",
       "  'tie': 286,\n",
       "  'elo': 1252.472244604672},\n",
       " 'Sp Gijon': {'matches_played': 426,\n",
       "  'won': 112,\n",
       "  'tie': 96,\n",
       "  'elo': 1149.185735587691},\n",
       " 'Tenerife': {'matches_played': 312,\n",
       "  'won': 100,\n",
       "  'tie': 80,\n",
       "  'elo': 1153.7267871274605},\n",
       " 'Salamanca': {'matches_played': 118,\n",
       "  'won': 27,\n",
       "  'tie': 24,\n",
       "  'elo': 1113.2940530389737},\n",
       " 'Getafe': {'matches_played': 563,\n",
       "  'won': 190,\n",
       "  'tie': 145,\n",
       "  'elo': 1266.0466852325687},\n",
       " 'Valladolid': {'matches_played': 697,\n",
       "  'won': 196,\n",
       "  'tie': 210,\n",
       "  'elo': 1185.0934224235232},\n",
       " 'Sevilla': {'matches_played': 912,\n",
       "  'won': 389,\n",
       "  'tie': 220,\n",
       "  'elo': 1347.5700109795564},\n",
       " 'Zaragoza': {'matches_played': 679,\n",
       "  'won': 224,\n",
       "  'tie': 192,\n",
       "  'elo': 1165.6137909794268},\n",
       " 'Las Palmas': {'matches_played': 190,\n",
       "  'won': 49,\n",
       "  'tie': 44,\n",
       "  'elo': 1122.8486276320145},\n",
       " 'Murcia': {'matches_played': 76,\n",
       "  'won': 12,\n",
       "  'tie': 20,\n",
       "  'elo': 1124.6064008959993},\n",
       " 'Ath Madrid': {'matches_played': 950,\n",
       "  'won': 448,\n",
       "  'tie': 234,\n",
       "  'elo': 1415.8882171896967},\n",
       " 'Hercules': {'matches_played': 80,\n",
       "  'won': 21,\n",
       "  'tie': 13,\n",
       "  'elo': 1143.6133095754192},\n",
       " 'Gimnastic': {'matches_played': 38,\n",
       "  'won': 7,\n",
       "  'tie': 7,\n",
       "  'elo': 1154.8881991308454},\n",
       " 'Lerida': {'matches_played': 38,\n",
       "  'won': 7,\n",
       "  'tie': 13,\n",
       "  'elo': 1160.8784668708142},\n",
       " 'Huesca': {'matches_played': 43,\n",
       "  'won': 7,\n",
       "  'tie': 16,\n",
       "  'elo': 1185.7157005844808},\n",
       " 'Leganes': {'matches_played': 152,\n",
       "  'won': 39,\n",
       "  'tie': 42,\n",
       "  'elo': 1195.0149889383956},\n",
       " 'Logrones': {'matches_played': 118,\n",
       "  'won': 20,\n",
       "  'tie': 30,\n",
       "  'elo': 1074.7593762915271},\n",
       " 'Girona': {'matches_played': 76,\n",
       "  'won': 23,\n",
       "  'tie': 19,\n",
       "  'elo': 1193.099738940263},\n",
       " 'Villarreal': {'matches_played': 715,\n",
       "  'won': 301,\n",
       "  'tie': 186,\n",
       "  'elo': 1297.2655930954434},\n",
       " 'Espanol': {'matches_played': 985,\n",
       "  'won': 327,\n",
       "  'tie': 272,\n",
       "  'elo': 1189.0179121004253},\n",
       " 'Elche': {'matches_played': 79,\n",
       "  'won': 21,\n",
       "  'tie': 22,\n",
       "  'elo': 1189.7388289712173},\n",
       " 'Alaves': {'matches_played': 385,\n",
       "  'won': 129,\n",
       "  'tie': 86,\n",
       "  'elo': 1200.1025844757633},\n",
       " 'Osasuna': {'matches_played': 640,\n",
       "  'won': 192,\n",
       "  'tie': 174,\n",
       "  'elo': 1195.5022452464952},\n",
       " 'Extremadura': {'matches_played': 80,\n",
       "  'won': 20,\n",
       "  'tie': 23,\n",
       "  'elo': 1172.42864622641},\n",
       " 'Santander': {'matches_played': 680,\n",
       "  'won': 200,\n",
       "  'tie': 200,\n",
       "  'elo': 1154.8481392522249},\n",
       " 'Xerez': {'matches_played': 38,\n",
       "  'won': 8,\n",
       "  'tie': 10,\n",
       "  'elo': 1177.504431806817},\n",
       " 'Sociedad': {'matches_played': 912,\n",
       "  'won': 331,\n",
       "  'tie': 247,\n",
       "  'elo': 1271.994147559593},\n",
       " 'Cadiz': {'matches_played': 43,\n",
       "  'won': 10,\n",
       "  'tie': 13,\n",
       "  'elo': 1182.5053850400839},\n",
       " 'Vallecano': {'matches_played': 502,\n",
       "  'won': 153,\n",
       "  'tie': 104,\n",
       "  'elo': 1164.7270122186164},\n",
       " 'Barcelona': {'matches_played': 1026,\n",
       "  'won': 657,\n",
       "  'tie': 207,\n",
       "  'elo': 1503.8491737670636},\n",
       " 'La Coruna': {'matches_played': 872,\n",
       "  'won': 339,\n",
       "  'tie': 247,\n",
       "  'elo': 1151.8797812428536},\n",
       " 'Oviedo': {'matches_played': 312,\n",
       "  'won': 91,\n",
       "  'tie': 95,\n",
       "  'elo': 1172.0821189047517},\n",
       " 'Compostela': {'matches_played': 160,\n",
       "  'won': 52,\n",
       "  'tie': 45,\n",
       "  'elo': 1190.1283379529614},\n",
       " 'Eibar': {'matches_played': 233,\n",
       "  'won': 72,\n",
       "  'tie': 60,\n",
       "  'elo': 1212.877257785855},\n",
       " 'Real Madrid': {'matches_played': 1028,\n",
       "  'won': 646,\n",
       "  'tie': 196,\n",
       "  'elo': 1461.1550858990279},\n",
       " 'Levante': {'matches_played': 451,\n",
       "  'won': 132,\n",
       "  'tie': 111,\n",
       "  'elo': 1213.7961823397322},\n",
       " 'Granada': {'matches_played': 270,\n",
       "  'won': 74,\n",
       "  'tie': 60,\n",
       "  'elo': 1194.4134221995753},\n",
       " 'Valencia': {'matches_played': 1027,\n",
       "  'won': 474,\n",
       "  'tie': 251,\n",
       "  'elo': 1292.1511667898274},\n",
       " 'Recreativo': {'matches_played': 152,\n",
       "  'won': 42,\n",
       "  'tie': 41,\n",
       "  'elo': 1165.2726627637653},\n",
       " 'Mallorca': {'matches_played': 635,\n",
       "  'won': 232,\n",
       "  'tie': 153,\n",
       "  'elo': 1171.6286323117438},\n",
       " 'Albacete': {'matches_played': 184,\n",
       "  'won': 47,\n",
       "  'tie': 58,\n",
       "  'elo': 1153.6810727960944},\n",
       " 'Betis': {'matches_played': 838,\n",
       "  'won': 287,\n",
       "  'tie': 236,\n",
       "  'elo': 1224.689295105859},\n",
       " 'Almeria': {'matches_played': 228,\n",
       "  'won': 62,\n",
       "  'tie': 56,\n",
       "  'elo': 1143.311116967314},\n",
       " 'Cordoba': {'matches_played': 38,\n",
       "  'won': 3,\n",
       "  'tie': 11,\n",
       "  'elo': 1132.1446430370613},\n",
       " 'Merida': {'matches_played': 80,\n",
       "  'won': 19,\n",
       "  'tie': 24,\n",
       "  'elo': 1157.8950107489554},\n",
       " 'Villareal': {'matches_played': 38,\n",
       "  'won': 8,\n",
       "  'tie': 12,\n",
       "  'elo': 1169.2732979700909},\n",
       " 'Malaga': {'matches_played': 633,\n",
       "  'won': 206,\n",
       "  'tie': 161,\n",
       "  'elo': 1149.1099677022091},\n",
       " 'Celta': {'matches_played': 811,\n",
       "  'won': 281,\n",
       "  'tie': 222,\n",
       "  'elo': 1206.6376133625988}}"
      ]
     },
     "execution_count": 7,
     "metadata": {},
     "output_type": "execute_result"
    }
   ],
   "source": [
    "for index, row in matches.iterrows(): \n",
    "    ht=row['HomeTeam']\n",
    "    teamsdata[ht]['matches_played']+=1\n",
    "    \n",
    "    at=row[\"AwayTeam\"]\n",
    "#     print(ht ,at)\n",
    "    teamsdata[at]['matches_played']+=1\n",
    "    result=row['FTR']\n",
    "#     print(result)\n",
    "    if(result=='D'):\n",
    "#         print(\"Tie\")\n",
    "        teamsdata[ht]['tie']+=1\n",
    "        teamsdata[at]['tie']+=1\n",
    "        wer=teamsdata[ht]['elo']\n",
    "        ler=teamsdata[at]['elo']\n",
    "        nwer , nler = rate_1vs1(wer,ler,drawn=True)\n",
    "        teamsdata[ht]['elo']=nwer\n",
    "        teamsdata[at]['elo']=nler\n",
    "    else:\n",
    "        \n",
    "        winner=ht if result=='H' else at\n",
    "        loser=at if result=='H' else ht\n",
    "#         print(\"Winner\",winner)\n",
    "        teamsdata[winner]['won']+=1\n",
    "        ## Updata elo ratings\n",
    "        wer=teamsdata[winner]['elo']\n",
    "        ler=teamsdata[loser]['elo']\n",
    "        nwer , nler = rate_1vs1(wer,ler)\n",
    "        teamsdata[winner]['elo']=nwer\n",
    "        teamsdata[loser]['elo']=nler\n",
    "        \n",
    "\n",
    "teamsdata"
   ]
  },
  {
   "cell_type": "code",
   "execution_count": 8,
   "metadata": {
    "cell_id": "00011-870b32da-536d-45fa-a336-a8cd0b478f48",
    "execution_millis": 9,
    "execution_start": 1605460295643,
    "output_cleared": false,
    "source_hash": "f942ca48"
   },
   "outputs": [
    {
     "data": {
      "application/vnd.deepnote.dataframe.v2+json": {
       "column_count": 5,
       "columns": [
        {
         "dtype": "int64",
         "name": "matches_played",
         "stats": {
          "histogram": [
           {
            "bin_end": 609.5,
            "bin_start": 563,
            "count": 1
           },
           {
            "bin_end": 656,
            "bin_start": 609.5,
            "count": 0
           },
           {
            "bin_end": 702.5,
            "bin_start": 656,
            "count": 0
           },
           {
            "bin_end": 749,
            "bin_start": 702.5,
            "count": 1
           },
           {
            "bin_end": 795.5,
            "bin_start": 749,
            "count": 0
           },
           {
            "bin_end": 842,
            "bin_start": 795.5,
            "count": 0
           },
           {
            "bin_end": 888.5,
            "bin_start": 842,
            "count": 0
           },
           {
            "bin_end": 935,
            "bin_start": 888.5,
            "count": 2
           },
           {
            "bin_end": 981.5,
            "bin_start": 935,
            "count": 1
           },
           {
            "bin_end": 1028,
            "bin_start": 981.5,
            "count": 3
           }
          ],
          "max": 1028,
          "min": 563,
          "nan_count": 0,
          "unique_count": 7
         }
        },
        {
         "dtype": "int64",
         "name": "won",
         "stats": {
          "histogram": [
           {
            "bin_end": 236.7,
            "bin_start": 190,
            "count": 1
           },
           {
            "bin_end": 283.4,
            "bin_start": 236.7,
            "count": 0
           },
           {
            "bin_end": 330.1,
            "bin_start": 283.4,
            "count": 1
           },
           {
            "bin_end": 376.8,
            "bin_start": 330.1,
            "count": 1
           },
           {
            "bin_end": 423.5,
            "bin_start": 376.8,
            "count": 1
           },
           {
            "bin_end": 470.20000000000005,
            "bin_start": 423.5,
            "count": 1
           },
           {
            "bin_end": 516.9000000000001,
            "bin_start": 470.20000000000005,
            "count": 1
           },
           {
            "bin_end": 563.6,
            "bin_start": 516.9000000000001,
            "count": 0
           },
           {
            "bin_end": 610.3,
            "bin_start": 563.6,
            "count": 0
           },
           {
            "bin_end": 657,
            "bin_start": 610.3,
            "count": 2
           }
          ],
          "max": 657,
          "min": 190,
          "nan_count": 0,
          "unique_count": 8
         }
        },
        {
         "dtype": "int64",
         "name": "tie",
         "stats": {
          "histogram": [
           {
            "bin_end": 155.6,
            "bin_start": 145,
            "count": 1
           },
           {
            "bin_end": 166.2,
            "bin_start": 155.6,
            "count": 0
           },
           {
            "bin_end": 176.8,
            "bin_start": 166.2,
            "count": 0
           },
           {
            "bin_end": 187.4,
            "bin_start": 176.8,
            "count": 1
           },
           {
            "bin_end": 198,
            "bin_start": 187.4,
            "count": 1
           },
           {
            "bin_end": 208.6,
            "bin_start": 198,
            "count": 1
           },
           {
            "bin_end": 219.2,
            "bin_start": 208.6,
            "count": 0
           },
           {
            "bin_end": 229.8,
            "bin_start": 219.2,
            "count": 1
           },
           {
            "bin_end": 240.39999999999998,
            "bin_start": 229.8,
            "count": 1
           },
           {
            "bin_end": 251,
            "bin_start": 240.39999999999998,
            "count": 2
           }
          ],
          "max": 251,
          "min": 145,
          "nan_count": 0,
          "unique_count": 8
         }
        },
        {
         "dtype": "float64",
         "name": "elo",
         "stats": {
          "histogram": [
           {
            "bin_end": 1289.8269340860181,
            "bin_start": 1266.0466852325687,
            "count": 2
           },
           {
            "bin_end": 1313.6071829394677,
            "bin_start": 1289.8269340860181,
            "count": 2
           },
           {
            "bin_end": 1337.3874317929171,
            "bin_start": 1313.6071829394677,
            "count": 0
           },
           {
            "bin_end": 1361.1676806463668,
            "bin_start": 1337.3874317929171,
            "count": 1
           },
           {
            "bin_end": 1384.9479294998162,
            "bin_start": 1361.1676806463668,
            "count": 0
           },
           {
            "bin_end": 1408.7281783532658,
            "bin_start": 1384.9479294998162,
            "count": 0
           },
           {
            "bin_end": 1432.5084272067152,
            "bin_start": 1408.7281783532658,
            "count": 1
           },
           {
            "bin_end": 1456.2886760601646,
            "bin_start": 1432.5084272067152,
            "count": 0
           },
           {
            "bin_end": 1480.0689249136142,
            "bin_start": 1456.2886760601646,
            "count": 1
           },
           {
            "bin_end": 1503.8491737670636,
            "bin_start": 1480.0689249136142,
            "count": 1
           }
          ],
          "max": 1503.8491737670636,
          "min": 1266.0466852325687,
          "nan_count": 0,
          "unique_count": 8
         }
        },
        {
         "dtype": "object",
         "name": "Team",
         "stats": {
          "categories": [
           {
            "count": 1,
            "name": "Barcelona"
           },
           {
            "count": 1,
            "name": "Real Madrid"
           },
           {
            "count": 6,
            "name": "6 others"
           }
          ],
          "nan_count": 0,
          "unique_count": 8
         }
        },
        {
         "dtype": "object",
         "name": "_deepnote_index_column"
        }
       ],
       "row_count": 8,
       "rows_bottom": null,
       "rows_top": [
        {
         "Team": "Barcelona",
         "_deepnote_index_column": "Barcelona",
         "elo": 1503.8491737670636,
         "matches_played": 1026,
         "tie": 207,
         "won": 657
        },
        {
         "Team": "Real Madrid",
         "_deepnote_index_column": "Real Madrid",
         "elo": 1461.1550858990279,
         "matches_played": 1028,
         "tie": 196,
         "won": 646
        },
        {
         "Team": "Ath Madrid",
         "_deepnote_index_column": "Ath Madrid",
         "elo": 1415.8882171896967,
         "matches_played": 950,
         "tie": 234,
         "won": 448
        },
        {
         "Team": "Sevilla",
         "_deepnote_index_column": "Sevilla",
         "elo": 1347.5700109795564,
         "matches_played": 912,
         "tie": 220,
         "won": 389
        },
        {
         "Team": "Villarreal",
         "_deepnote_index_column": "Villarreal",
         "elo": 1297.2655930954434,
         "matches_played": 715,
         "tie": 186,
         "won": 301
        },
        {
         "Team": "Valencia",
         "_deepnote_index_column": "Valencia",
         "elo": 1292.1511667898274,
         "matches_played": 1027,
         "tie": 251,
         "won": 474
        },
        {
         "Team": "Sociedad",
         "_deepnote_index_column": "Sociedad",
         "elo": 1271.994147559593,
         "matches_played": 912,
         "tie": 247,
         "won": 331
        },
        {
         "Team": "Getafe",
         "_deepnote_index_column": "Getafe",
         "elo": 1266.0466852325687,
         "matches_played": 563,
         "tie": 145,
         "won": 190
        }
       ]
      },
      "text/html": [
       "<div>\n",
       "<style scoped>\n",
       "    .dataframe tbody tr th:only-of-type {\n",
       "        vertical-align: middle;\n",
       "    }\n",
       "\n",
       "    .dataframe tbody tr th {\n",
       "        vertical-align: top;\n",
       "    }\n",
       "\n",
       "    .dataframe thead th {\n",
       "        text-align: right;\n",
       "    }\n",
       "</style>\n",
       "<table border=\"1\" class=\"dataframe\">\n",
       "  <thead>\n",
       "    <tr style=\"text-align: right;\">\n",
       "      <th></th>\n",
       "      <th>matches_played</th>\n",
       "      <th>won</th>\n",
       "      <th>tie</th>\n",
       "      <th>elo</th>\n",
       "      <th>Team</th>\n",
       "    </tr>\n",
       "  </thead>\n",
       "  <tbody>\n",
       "    <tr>\n",
       "      <th>Barcelona</th>\n",
       "      <td>1026</td>\n",
       "      <td>657</td>\n",
       "      <td>207</td>\n",
       "      <td>1503.849174</td>\n",
       "      <td>Barcelona</td>\n",
       "    </tr>\n",
       "    <tr>\n",
       "      <th>Real Madrid</th>\n",
       "      <td>1028</td>\n",
       "      <td>646</td>\n",
       "      <td>196</td>\n",
       "      <td>1461.155086</td>\n",
       "      <td>Real Madrid</td>\n",
       "    </tr>\n",
       "    <tr>\n",
       "      <th>Ath Madrid</th>\n",
       "      <td>950</td>\n",
       "      <td>448</td>\n",
       "      <td>234</td>\n",
       "      <td>1415.888217</td>\n",
       "      <td>Ath Madrid</td>\n",
       "    </tr>\n",
       "    <tr>\n",
       "      <th>Sevilla</th>\n",
       "      <td>912</td>\n",
       "      <td>389</td>\n",
       "      <td>220</td>\n",
       "      <td>1347.570011</td>\n",
       "      <td>Sevilla</td>\n",
       "    </tr>\n",
       "    <tr>\n",
       "      <th>Villarreal</th>\n",
       "      <td>715</td>\n",
       "      <td>301</td>\n",
       "      <td>186</td>\n",
       "      <td>1297.265593</td>\n",
       "      <td>Villarreal</td>\n",
       "    </tr>\n",
       "    <tr>\n",
       "      <th>Valencia</th>\n",
       "      <td>1027</td>\n",
       "      <td>474</td>\n",
       "      <td>251</td>\n",
       "      <td>1292.151167</td>\n",
       "      <td>Valencia</td>\n",
       "    </tr>\n",
       "    <tr>\n",
       "      <th>Sociedad</th>\n",
       "      <td>912</td>\n",
       "      <td>331</td>\n",
       "      <td>247</td>\n",
       "      <td>1271.994148</td>\n",
       "      <td>Sociedad</td>\n",
       "    </tr>\n",
       "    <tr>\n",
       "      <th>Getafe</th>\n",
       "      <td>563</td>\n",
       "      <td>190</td>\n",
       "      <td>145</td>\n",
       "      <td>1266.046685</td>\n",
       "      <td>Getafe</td>\n",
       "    </tr>\n",
       "  </tbody>\n",
       "</table>\n",
       "</div>"
      ],
      "text/plain": [
       "             matches_played  won  tie          elo         Team\n",
       "Barcelona              1026  657  207  1503.849174    Barcelona\n",
       "Real Madrid            1028  646  196  1461.155086  Real Madrid\n",
       "Ath Madrid              950  448  234  1415.888217   Ath Madrid\n",
       "Sevilla                 912  389  220  1347.570011      Sevilla\n",
       "Villarreal              715  301  186  1297.265593   Villarreal\n",
       "Valencia               1027  474  251  1292.151167     Valencia\n",
       "Sociedad                912  331  247  1271.994148     Sociedad\n",
       "Getafe                  563  190  145  1266.046685       Getafe"
      ]
     },
     "execution_count": 8,
     "metadata": {},
     "output_type": "execute_result"
    }
   ],
   "source": [
    "teamstable=pd.DataFrame.from_dict(teamsdata,orient='Index')\n",
    "teamstable['Team']=teamstable.index\n",
    "teamstable.sort_values(by=['elo'],inplace=True,ascending=False)\n",
    "topteams=teamstable.head(8)\n",
    "topteams"
   ]
  },
  {
   "cell_type": "code",
   "execution_count": 8,
   "metadata": {
    "cell_id": "00012-1f4a1885-48aa-44db-ac3f-f23cc139c9e3",
    "execution_millis": 1,
    "execution_start": 1605460295656,
    "output_cleared": false,
    "source_hash": "b623e53d"
   },
   "outputs": [],
   "source": []
  },
  {
   "cell_type": "code",
   "execution_count": 9,
   "metadata": {
    "cell_id": "00013-2cc21f82-c623-4b8f-990f-cb485c027243",
    "execution_millis": 50,
    "execution_start": 1605460295660,
    "output_cleared": false,
    "source_hash": "d2fffdcf"
   },
   "outputs": [
    {
     "name": "stderr",
     "output_type": "stream",
     "text": [
      "/opt/venv/lib/python3.7/site-packages/seaborn/_decorators.py:43: FutureWarning: Pass the following variable as a keyword arg: x. From version 0.12, the only valid positional argument will be `data`, and passing other arguments without an explicit keyword will result in an error or misinterpretation.\n",
      "  FutureWarning\n"
     ]
    },
    {
     "ename": "ValueError",
     "evalue": "Could not interpret input 'elo'",
     "output_type": "error",
     "traceback": [
      "\u001b[0;31m---------------------------------------------------------------------------\u001b[0m",
      "\u001b[0;31mValueError\u001b[0m                                Traceback (most recent call last)",
      "\u001b[0;32m<ipython-input-9-a12879611fac>\u001b[0m in \u001b[0;36m<module>\u001b[0;34m\u001b[0m\n\u001b[0;32m----> 1\u001b[0;31m \u001b[0msns\u001b[0m\u001b[0;34m.\u001b[0m\u001b[0mcatplot\u001b[0m\u001b[0;34m(\u001b[0m\u001b[0mtopteams\u001b[0m\u001b[0;34m,\u001b[0m \u001b[0mx\u001b[0m\u001b[0;34m=\u001b[0m\u001b[0;34m\"Team\"\u001b[0m\u001b[0;34m,\u001b[0m\u001b[0my\u001b[0m\u001b[0;34m=\u001b[0m\u001b[0;34m\"elo\"\u001b[0m\u001b[0;34m)\u001b[0m\u001b[0;34m\u001b[0m\u001b[0;34m\u001b[0m\u001b[0m\n\u001b[0m",
      "\u001b[0;32m/opt/venv/lib/python3.7/site-packages/seaborn/_decorators.py\u001b[0m in \u001b[0;36minner_f\u001b[0;34m(*args, **kwargs)\u001b[0m\n\u001b[1;32m     44\u001b[0m             )\n\u001b[1;32m     45\u001b[0m         \u001b[0mkwargs\u001b[0m\u001b[0;34m.\u001b[0m\u001b[0mupdate\u001b[0m\u001b[0;34m(\u001b[0m\u001b[0;34m{\u001b[0m\u001b[0mk\u001b[0m\u001b[0;34m:\u001b[0m \u001b[0marg\u001b[0m \u001b[0;32mfor\u001b[0m \u001b[0mk\u001b[0m\u001b[0;34m,\u001b[0m \u001b[0marg\u001b[0m \u001b[0;32min\u001b[0m \u001b[0mzip\u001b[0m\u001b[0;34m(\u001b[0m\u001b[0msig\u001b[0m\u001b[0;34m.\u001b[0m\u001b[0mparameters\u001b[0m\u001b[0;34m,\u001b[0m \u001b[0margs\u001b[0m\u001b[0;34m)\u001b[0m\u001b[0;34m}\u001b[0m\u001b[0;34m)\u001b[0m\u001b[0;34m\u001b[0m\u001b[0;34m\u001b[0m\u001b[0m\n\u001b[0;32m---> 46\u001b[0;31m         \u001b[0;32mreturn\u001b[0m \u001b[0mf\u001b[0m\u001b[0;34m(\u001b[0m\u001b[0;34m**\u001b[0m\u001b[0mkwargs\u001b[0m\u001b[0;34m)\u001b[0m\u001b[0;34m\u001b[0m\u001b[0;34m\u001b[0m\u001b[0m\n\u001b[0m\u001b[1;32m     47\u001b[0m     \u001b[0;32mreturn\u001b[0m \u001b[0minner_f\u001b[0m\u001b[0;34m\u001b[0m\u001b[0;34m\u001b[0m\u001b[0m\n\u001b[1;32m     48\u001b[0m \u001b[0;34m\u001b[0m\u001b[0m\n",
      "\u001b[0;32m/opt/venv/lib/python3.7/site-packages/seaborn/categorical.py\u001b[0m in \u001b[0;36mcatplot\u001b[0;34m(x, y, hue, data, row, col, col_wrap, estimator, ci, n_boot, units, seed, order, hue_order, row_order, col_order, kind, height, aspect, orient, color, palette, legend, legend_out, sharex, sharey, margin_titles, facet_kws, **kwargs)\u001b[0m\n\u001b[1;32m   3777\u001b[0m     \u001b[0mp\u001b[0m \u001b[0;34m=\u001b[0m \u001b[0m_CategoricalPlotter\u001b[0m\u001b[0;34m(\u001b[0m\u001b[0;34m)\u001b[0m\u001b[0;34m\u001b[0m\u001b[0;34m\u001b[0m\u001b[0m\n\u001b[1;32m   3778\u001b[0m     \u001b[0mp\u001b[0m\u001b[0;34m.\u001b[0m\u001b[0mrequire_numeric\u001b[0m \u001b[0;34m=\u001b[0m \u001b[0mplotter_class\u001b[0m\u001b[0;34m.\u001b[0m\u001b[0mrequire_numeric\u001b[0m\u001b[0;34m\u001b[0m\u001b[0;34m\u001b[0m\u001b[0m\n\u001b[0;32m-> 3779\u001b[0;31m     \u001b[0mp\u001b[0m\u001b[0;34m.\u001b[0m\u001b[0mestablish_variables\u001b[0m\u001b[0;34m(\u001b[0m\u001b[0mx_\u001b[0m\u001b[0;34m,\u001b[0m \u001b[0my_\u001b[0m\u001b[0;34m,\u001b[0m \u001b[0mhue\u001b[0m\u001b[0;34m,\u001b[0m \u001b[0mdata\u001b[0m\u001b[0;34m,\u001b[0m \u001b[0morient\u001b[0m\u001b[0;34m,\u001b[0m \u001b[0morder\u001b[0m\u001b[0;34m,\u001b[0m \u001b[0mhue_order\u001b[0m\u001b[0;34m)\u001b[0m\u001b[0;34m\u001b[0m\u001b[0;34m\u001b[0m\u001b[0m\n\u001b[0m\u001b[1;32m   3780\u001b[0m     if (\n\u001b[1;32m   3781\u001b[0m         \u001b[0morder\u001b[0m \u001b[0;32mis\u001b[0m \u001b[0;32mnot\u001b[0m \u001b[0;32mNone\u001b[0m\u001b[0;34m\u001b[0m\u001b[0;34m\u001b[0m\u001b[0m\n",
      "\u001b[0;32m/opt/venv/lib/python3.7/site-packages/seaborn/categorical.py\u001b[0m in \u001b[0;36mestablish_variables\u001b[0;34m(self, x, y, hue, data, orient, order, hue_order, units)\u001b[0m\n\u001b[1;32m    151\u001b[0m                 \u001b[0;32mif\u001b[0m \u001b[0misinstance\u001b[0m\u001b[0;34m(\u001b[0m\u001b[0mvar\u001b[0m\u001b[0;34m,\u001b[0m \u001b[0mstr\u001b[0m\u001b[0;34m)\u001b[0m\u001b[0;34m:\u001b[0m\u001b[0;34m\u001b[0m\u001b[0;34m\u001b[0m\u001b[0m\n\u001b[1;32m    152\u001b[0m                     \u001b[0merr\u001b[0m \u001b[0;34m=\u001b[0m \u001b[0;34m\"Could not interpret input '{}'\"\u001b[0m\u001b[0;34m.\u001b[0m\u001b[0mformat\u001b[0m\u001b[0;34m(\u001b[0m\u001b[0mvar\u001b[0m\u001b[0;34m)\u001b[0m\u001b[0;34m\u001b[0m\u001b[0;34m\u001b[0m\u001b[0m\n\u001b[0;32m--> 153\u001b[0;31m                     \u001b[0;32mraise\u001b[0m \u001b[0mValueError\u001b[0m\u001b[0;34m(\u001b[0m\u001b[0merr\u001b[0m\u001b[0;34m)\u001b[0m\u001b[0;34m\u001b[0m\u001b[0;34m\u001b[0m\u001b[0m\n\u001b[0m\u001b[1;32m    154\u001b[0m \u001b[0;34m\u001b[0m\u001b[0m\n\u001b[1;32m    155\u001b[0m             \u001b[0;31m# Figure out the plotting orientation\u001b[0m\u001b[0;34m\u001b[0m\u001b[0;34m\u001b[0m\u001b[0;34m\u001b[0m\u001b[0m\n",
      "\u001b[0;31mValueError\u001b[0m: Could not interpret input 'elo'"
     ]
    }
   ],
   "source": [
    "sns.catplot(topteams, x=\"Team\",y=\"elo\")"
   ]
  },
  {
   "cell_type": "code",
   "execution_count": 20,
   "metadata": {
    "cell_id": "00014-9cdb0be8-a34a-4610-9905-13e01b2a7d8c",
    "output_cleared": false,
    "source_hash": "457a4519"
   },
   "outputs": [],
   "source": [
    "players=pd.read_csv('player_scraper/playerdata.csv',low_memory=False)"
   ]
  },
  {
   "cell_type": "code",
   "execution_count": 21,
   "metadata": {
    "cell_id": "00015-a896917c-2627-44b6-a5a1-3a09327e6329",
    "output_cleared": false,
    "source_hash": "d0d74415"
   },
   "outputs": [],
   "source": [
    "players.head()"
   ]
  },
  {
   "cell_type": "code",
   "execution_count": 22,
   "metadata": {
    "cell_id": "00016-f1ed8d88-86d0-4f15-a1bc-d1bff93e57d1",
    "output_cleared": false,
    "source_hash": "63da7366"
   },
   "outputs": [],
   "source": [
    "# We will compute three seasons average of all stats\n",
    "def calcaverage(listt):\n",
    "    if(pd.isna(listt)):\n",
    "        return\n",
    "    else:\n",
    "        listt=listt.strip('][').split(',')\n",
    "        cc=0\n",
    "        val=0\n",
    "        for x in listt:\n",
    "            x=x.strip('\\' ')\n",
    "            \n",
    "            if(x!=\"None\"):\n",
    "                cc+=1\n",
    "                val=val+float(x)\n",
    "        if(cc==0):\n",
    "            return\n",
    "        return (val/cc)\n",
    "for c in players.columns:\n",
    "    if(c==\"name\"):\n",
    "        continue\n",
    "    players[c]=players[c].apply(calcaverage)\n",
    "    \n",
    "#     players[c]=scipy.stats.norm.sf(abs(scipy.stats.zscore((players[c].to_numpy()),nan_policy='omit')))*200\n",
    "    \n",
    "\n",
    "\n"
   ]
  },
  {
   "cell_type": "code",
   "execution_count": 23,
   "metadata": {
    "cell_id": "00017-7de67d04-98aa-4696-ad72-199640d092fb",
    "output_cleared": false,
    "source_hash": "eeada341"
   },
   "outputs": [],
   "source": [
    "currentcol=\"\"\n",
    "playerscores=pd.DataFrame()\n",
    "def calcscore(x):\n",
    "    return scipy.stats.percentileofscore(players[c].to_numpy(), x , kind='rank')\n",
    "for c in players.columns:\n",
    "    if(c==\"name\"):\n",
    "        playerscores[c]=players[c]\n",
    "        continue\n",
    "    playerscores[c]=players[c].apply(calcscore)\n",
    "#     players[c]=scipy.stats.norm.sf(abs(scipy.stats.zscore((players[c].to_numpy()),nan_policy='omit')))*200\n",
    "    \n",
    "\n",
    "\n"
   ]
  },
  {
   "cell_type": "code",
   "execution_count": 24,
   "metadata": {
    "cell_id": "00018-01af0786-1c5d-4ef1-85df-d83fc91e3dea",
    "output_cleared": false,
    "source_hash": "32c2305a"
   },
   "outputs": [],
   "source": [
    "\n",
    "\n",
    "temp=playerscores.sort_values(by=\"goals_assists_pens_per90\",ascending=False)\n",
    "temp.head()\n",
    "# temp[temp['goals']>10]"
   ]
  },
  {
   "cell_type": "code",
   "execution_count": 25,
   "metadata": {
    "cell_id": "00019-b567d48c-e937-498a-af4d-ba49cffa9e78",
    "output_cleared": false,
    "source_hash": "3b81dac0"
   },
   "outputs": [],
   "source": [
    "\n",
    "def givescorehelper(features,weightage):\n",
    "    val=0\n",
    "    cc=0\n",
    "    for i in range(0, len(features)):\n",
    "        if(pd.isna(features[i])):\n",
    "            continue\n",
    "        val+=features[i]*weightage[i]\n",
    "        cc+=weightage[i]\n",
    "    if(cc==0):\n",
    "        return\n",
    "    return val/cc\n",
    "\n",
    "\n",
    "finalscores=pd.DataFrame()\n",
    "finalscores['name']=players['name']\n",
    "finalscores\n",
    "maxscore=-1\n",
    "def roundoff(x):\n",
    "    if(pd.isna(x)):\n",
    "        return\n",
    "    global maxscore\n",
    "    fact=100/maxscore\n",
    "    return round(x*fact)\n",
    "def  givescore(stylename , featurenames ,weightage):\n",
    "    global maxscore\n",
    "    maxscore=-1\n",
    "    for i,row in playerscores.iterrows():\n",
    "        name=row['name']\n",
    "        features=[]\n",
    "        for x in featurenames:\n",
    "            features.append(playerscores.loc[i,x])\n",
    "        \n",
    "        score=givescorehelper(features,weightage)\n",
    "        if(score==None):\n",
    "            continue\n",
    "        maxscore=max(maxscore,score)\n",
    "        finalscores.loc[i,stylename]=score\n",
    "    finalscores[stylename]=finalscores[stylename].apply(roundoff)\n",
    "        \n",
    "    \n",
    "# this is where we give scores\n",
    "givescore('striker',['goals_assists_pens_per90','shots_on_target_per90','goals'],[2,1,1])  \n",
    "givescore('midfeilder',['carry_distance','passes_completed'],[1,1])"
   ]
  },
  {
   "cell_type": "code",
   "execution_count": 26,
   "metadata": {
    "cell_id": "00020-74f40d5b-232b-4147-8c11-bbdf1afd75bf",
    "output_cleared": false,
    "source_hash": "a3a49398"
   },
   "outputs": [],
   "source": [
    "finalscores.sort_values(by=\"midfeilder\",ascending=False)"
   ]
  },
  {
   "cell_type": "code",
   "execution_count": 27,
   "metadata": {
    "cell_id": "00021-d5cead00-e60b-4ed7-99bc-fea2daed6835",
    "output_cleared": false,
    "source_hash": "69827b44"
   },
   "outputs": [],
   "source": [
    "finalscores.sort_values(by=\"striker\",ascending=False)"
   ]
  },
  {
   "cell_type": "code",
   "execution_count": 28,
   "metadata": {
    "cell_id": "00022-a2e27938-f598-464f-8ad1-4e5c8b4ed2fc",
    "output_cleared": false,
    "source_hash": "3ac9a4a"
   },
   "outputs": [],
   "source": [
    "plt.figure(figsize=(13,10))\n",
    "plt.subplot(211)\n",
    "sns.boxplot(x = matches[\"Season\"],y = matches[\"FTAG\"],palette=\"rainbow\")\n",
    "plt.title(\"HOME GOALS BY SEASON\")\n",
    "plt.subplot(212)\n",
    "sns.boxplot(x = matches[\"Season\"],y = matches[\"FTHG\"],palette=\"rainbow\")\n",
    "plt.title(\"AWAY GOALS BY SEASON\")\n",
    "plt.show()"
   ]
  },
  {
   "cell_type": "markdown",
   "metadata": {
    "cell_id": "00023-86a3aeda-2e64-4767-be29-0721f723e951",
    "output_cleared": false
   },
   "source": [
    "## Shots vs Goals"
   ]
  },
  {
   "cell_type": "code",
   "execution_count": 29,
   "metadata": {
    "cell_id": "00024-1f713642-1127-4f06-9bb5-d122d25e4b95",
    "output_cleared": false,
    "source_hash": "3fa52039"
   },
   "outputs": [],
   "source": [
    "correlation = players[['sca_per90','shots_total_per90','goals_assists_pens_per90','gca_per90']].corr()\n",
    "sns.heatmap(correlation,annot=True,fmt=\"f\",linecolor=\"k\",linewidths=1)\n",
    "plt.title(\"CORRELATION BETWEEN FEATURES\")\n",
    "plt.show()"
   ]
  },
  {
   "cell_type": "code",
   "execution_count": 30,
   "metadata": {
    "cell_id": "00025-f4d1b7a1-4d95-4699-b912-eedf8b24602e",
    "output_cleared": false,
    "source_hash": "618cecd6"
   },
   "outputs": [],
   "source": [
    "bx = sns.relplot(data=players, x=\"sca_per90\", y=\"gca_per90\")\n",
    "xlim = bx.set(xlim=(0,5))\n",
    "ylim = bx.set(ylim=(0,1))"
   ]
  },
  {
   "cell_type": "code",
   "execution_count": 31,
   "metadata": {
    "cell_id": "00026-c9043d63-27be-484e-bee2-818e846bdeec",
    "output_cleared": false,
    "source_hash": "480be00a"
   },
   "outputs": [],
   "source": [
    "plt.figure(figsize=(16,7))\n",
    "sns.barplot(x = matches[\"HomeTeam\"],\n",
    "            y = matches[\"FTAG\"],\n",
    "            palette = \"Blues\").set(xlabel='TEAMS', ylabel='GOALS CONCEDED')\n",
    "plt.xticks(rotation=45)\n",
    "plt.title(\"GOALS CONCEDED BY HOME TEAM\")\n",
    "# Show the plot\n",
    "plt.show()"
   ]
  },
  {
   "cell_type": "code",
   "execution_count": 32,
   "metadata": {
    "cell_id": "00027-ebfff1a7-9a7d-4db6-8128-d61e0a74e228",
    "output_cleared": false,
    "source_hash": "a7f82613"
   },
   "outputs": [],
   "source": [
    "plt.figure(figsize=(16,7))\n",
    "sns.barplot(x = matches[\"AwayTeam\"],\n",
    "            y = matches[\"FTHG\"],\n",
    "            palette = \"Blues\").set(xlabel='TEAMS', ylabel='GOALS CONCEDED')\n",
    "plt.title(\"GOALS CONCEDED BY AWAY TEAM\")\n",
    "plt.xticks(rotation=45)\n",
    "# Show the plot\n",
    "plt.show()"
   ]
  },
  {
   "cell_type": "code",
   "execution_count": 33,
   "metadata": {
    "cell_id": "00028-4d1d75aa-2074-4d0c-a03c-28d60c2c772d",
    "output_cleared": false,
    "source_hash": "9cbfb20d"
   },
   "outputs": [],
   "source": [
    "plt.figure(figsize=(20,7))\n",
    "sns.countplot(x = matches[\"HomeTeam\"],\n",
    "            hue = matches['FTR']).set(xlabel='TEAMS', ylabel='MATCHES')\n",
    "plt.title(\"WIN Vs DRAW Vs LOOSE IN HOME GROUND\")\n",
    "plt.legend(title='RESULT', labels=['WIN', 'DRAW', 'LOST'])\n",
    "plt.xticks(rotation=45)\n",
    "# Show the plot\n",
    "plt.show()"
   ]
  },
  {
   "cell_type": "code",
   "execution_count": 34,
   "metadata": {
    "cell_id": "00029-68d6d143-c483-4a28-a5bb-fba71ab22882",
    "output_cleared": false,
    "source_hash": "e02285d7"
   },
   "outputs": [],
   "source": [
    "plt.figure(figsize=(20,7))\n",
    "sns.countplot(x = matches[\"AwayTeam\"],\n",
    "            hue = matches['FTR']).set(xlabel='TEAMS', ylabel='MATCHES')\n",
    "plt.title(\"WIN Vs DRAW Vs LOOSE IN AWAY GROUND\")\n",
    "plt.legend(title='RESULT', labels=['LOST', 'DRAW', 'WIN'])\n",
    "plt.xticks(rotation=45)\n",
    "# Show the plot\n",
    "plt.show()"
   ]
  },
  {
   "cell_type": "code",
   "execution_count": 79,
   "metadata": {
    "cell_id": "00030-87eccd50-1eff-4927-8918-ebca4df49f89",
    "execution_millis": 1088,
    "execution_start": 1605462786390,
    "output_cleared": false,
    "source_hash": "720cdb52"
   },
   "outputs": [
    {
     "data": {
      "application/vnd.deepnote.dataframe.v2+json": {
       "column_count": 155,
       "columns": [
        {
         "dtype": "float64",
         "name": "Unnamed: 0",
         "stats": {
          "histogram": [
           {
            "bin_end": 1105.1,
            "bin_start": 0,
            "count": 7
           },
           {
            "bin_end": 2210.2,
            "bin_start": 1105.1,
            "count": 0
           },
           {
            "bin_end": 3315.2999999999997,
            "bin_start": 2210.2,
            "count": 0
           },
           {
            "bin_end": 4420.4,
            "bin_start": 3315.2999999999997,
            "count": 0
           },
           {
            "bin_end": 5525.5,
            "bin_start": 4420.4,
            "count": 0
           },
           {
            "bin_end": 6630.599999999999,
            "bin_start": 5525.5,
            "count": 0
           },
           {
            "bin_end": 7735.699999999999,
            "bin_start": 6630.599999999999,
            "count": 0
           },
           {
            "bin_end": 8840.8,
            "bin_start": 7735.699999999999,
            "count": 0
           },
           {
            "bin_end": 9945.9,
            "bin_start": 8840.8,
            "count": 0
           },
           {
            "bin_end": 11051,
            "bin_start": 9945.9,
            "count": 1
           }
          ],
          "max": 11051,
          "min": 0,
          "nan_count": 0,
          "unique_count": 8
         }
        },
        {
         "dtype": "float64",
         "name": "FTHG",
         "stats": {
          "histogram": [
           {
            "bin_end": 1035.5,
            "bin_start": 0,
            "count": 7
           },
           {
            "bin_end": 2071,
            "bin_start": 1035.5,
            "count": 0
           },
           {
            "bin_end": 3106.5,
            "bin_start": 2071,
            "count": 0
           },
           {
            "bin_end": 4142,
            "bin_start": 3106.5,
            "count": 0
           },
           {
            "bin_end": 5177.5,
            "bin_start": 4142,
            "count": 0
           },
           {
            "bin_end": 6213,
            "bin_start": 5177.5,
            "count": 0
           },
           {
            "bin_end": 7248.5,
            "bin_start": 6213,
            "count": 0
           },
           {
            "bin_end": 8284,
            "bin_start": 7248.5,
            "count": 0
           },
           {
            "bin_end": 9319.5,
            "bin_start": 8284,
            "count": 0
           },
           {
            "bin_end": 10355,
            "bin_start": 9319.5,
            "count": 1
           }
          ],
          "max": 10355,
          "min": 0,
          "nan_count": 0,
          "unique_count": 7
         }
        },
        {
         "dtype": "float64",
         "name": "FTAG",
         "stats": {
          "histogram": [
           {
            "bin_end": 1035.5,
            "bin_start": 0,
            "count": 7
           },
           {
            "bin_end": 2071,
            "bin_start": 1035.5,
            "count": 0
           },
           {
            "bin_end": 3106.5,
            "bin_start": 2071,
            "count": 0
           },
           {
            "bin_end": 4142,
            "bin_start": 3106.5,
            "count": 0
           },
           {
            "bin_end": 5177.5,
            "bin_start": 4142,
            "count": 0
           },
           {
            "bin_end": 6213,
            "bin_start": 5177.5,
            "count": 0
           },
           {
            "bin_end": 7248.5,
            "bin_start": 6213,
            "count": 0
           },
           {
            "bin_end": 8284,
            "bin_start": 7248.5,
            "count": 0
           },
           {
            "bin_end": 9319.5,
            "bin_start": 8284,
            "count": 0
           },
           {
            "bin_end": 10355,
            "bin_start": 9319.5,
            "count": 1
           }
          ],
          "max": 10355,
          "min": 0,
          "nan_count": 0,
          "unique_count": 7
         }
        },
        {
         "dtype": "float64",
         "name": "Season",
         "stats": {
          "histogram": [
           {
            "bin_end": 1112.3874187849717,
            "bin_start": 8.097131983301951,
            "count": 1
           },
           {
            "bin_end": 2216.6777055866414,
            "bin_start": 1112.3874187849717,
            "count": 6
           },
           {
            "bin_end": 3320.967992388311,
            "bin_start": 2216.6777055866414,
            "count": 0
           },
           {
            "bin_end": 4425.25827918998,
            "bin_start": 3320.967992388311,
            "count": 0
           },
           {
            "bin_end": 5529.54856599165,
            "bin_start": 4425.25827918998,
            "count": 0
           },
           {
            "bin_end": 6633.838852793319,
            "bin_start": 5529.54856599165,
            "count": 0
           },
           {
            "bin_end": 7738.129139594989,
            "bin_start": 6633.838852793319,
            "count": 0
           },
           {
            "bin_end": 8842.41942639666,
            "bin_start": 7738.129139594989,
            "count": 0
           },
           {
            "bin_end": 9946.70971319833,
            "bin_start": 8842.41942639666,
            "count": 0
           },
           {
            "bin_end": 11051,
            "bin_start": 9946.70971319833,
            "count": 1
           }
          ],
          "max": 11051,
          "min": 8.097131983301951,
          "nan_count": 0,
          "unique_count": 8
         }
        },
        {
         "dtype": "float64",
         "name": "HTHG",
         "stats": {
          "histogram": [
           {
            "bin_end": 959.3,
            "bin_start": 0,
            "count": 7
           },
           {
            "bin_end": 1918.6,
            "bin_start": 959.3,
            "count": 0
           },
           {
            "bin_end": 2877.8999999999996,
            "bin_start": 1918.6,
            "count": 0
           },
           {
            "bin_end": 3837.2,
            "bin_start": 2877.8999999999996,
            "count": 0
           },
           {
            "bin_end": 4796.5,
            "bin_start": 3837.2,
            "count": 0
           },
           {
            "bin_end": 5755.799999999999,
            "bin_start": 4796.5,
            "count": 0
           },
           {
            "bin_end": 6715.099999999999,
            "bin_start": 5755.799999999999,
            "count": 0
           },
           {
            "bin_end": 7674.4,
            "bin_start": 6715.099999999999,
            "count": 0
           },
           {
            "bin_end": 8633.699999999999,
            "bin_start": 7674.4,
            "count": 0
           },
           {
            "bin_end": 9593,
            "bin_start": 8633.699999999999,
            "count": 1
           }
          ],
          "max": 9593,
          "min": 0,
          "nan_count": 0,
          "unique_count": 6
         }
        },
        {
         "dtype": "float64",
         "name": "HTAG",
         "stats": {
          "histogram": [
           {
            "bin_end": 959.3,
            "bin_start": 0,
            "count": 7
           },
           {
            "bin_end": 1918.6,
            "bin_start": 959.3,
            "count": 0
           },
           {
            "bin_end": 2877.8999999999996,
            "bin_start": 1918.6,
            "count": 0
           },
           {
            "bin_end": 3837.2,
            "bin_start": 2877.8999999999996,
            "count": 0
           },
           {
            "bin_end": 4796.5,
            "bin_start": 3837.2,
            "count": 0
           },
           {
            "bin_end": 5755.799999999999,
            "bin_start": 4796.5,
            "count": 0
           },
           {
            "bin_end": 6715.099999999999,
            "bin_start": 5755.799999999999,
            "count": 0
           },
           {
            "bin_end": 7674.4,
            "bin_start": 6715.099999999999,
            "count": 0
           },
           {
            "bin_end": 8633.699999999999,
            "bin_start": 7674.4,
            "count": 0
           },
           {
            "bin_end": 9593,
            "bin_start": 8633.699999999999,
            "count": 1
           }
          ],
          "max": 9593,
          "min": 0,
          "nan_count": 0,
          "unique_count": 6
         }
        },
        {
         "dtype": "float64",
         "name": "GBH",
         "stats": {
          "histogram": [
           {
            "bin_end": 473.84499999999997,
            "bin_start": 1.05,
            "count": 7
           },
           {
            "bin_end": 946.6399999999999,
            "bin_start": 473.84499999999997,
            "count": 0
           },
           {
            "bin_end": 1419.4349999999997,
            "bin_start": 946.6399999999999,
            "count": 0
           },
           {
            "bin_end": 1892.2299999999998,
            "bin_start": 1419.4349999999997,
            "count": 0
           },
           {
            "bin_end": 2365.025,
            "bin_start": 1892.2299999999998,
            "count": 0
           },
           {
            "bin_end": 2837.8199999999997,
            "bin_start": 2365.025,
            "count": 0
           },
           {
            "bin_end": 3310.615,
            "bin_start": 2837.8199999999997,
            "count": 0
           },
           {
            "bin_end": 3783.41,
            "bin_start": 3310.615,
            "count": 0
           },
           {
            "bin_end": 4256.205,
            "bin_start": 3783.41,
            "count": 0
           },
           {
            "bin_end": 4729,
            "bin_start": 4256.205,
            "count": 1
           }
          ],
          "max": 4729,
          "min": 1.05,
          "nan_count": 0,
          "unique_count": 8
         }
        },
        {
         "dtype": "float64",
         "name": "GBD",
         "stats": {
          "histogram": [
           {
            "bin_end": 473.74865031345774,
            "bin_start": 0.9429447927307899,
            "count": 7
           },
           {
            "bin_end": 946.5543558341848,
            "bin_start": 473.74865031345774,
            "count": 0
           },
           {
            "bin_end": 1419.3600613549117,
            "bin_start": 946.5543558341848,
            "count": 0
           },
           {
            "bin_end": 1892.1657668756386,
            "bin_start": 1419.3600613549117,
            "count": 0
           },
           {
            "bin_end": 2364.9714723963657,
            "bin_start": 1892.1657668756386,
            "count": 0
           },
           {
            "bin_end": 2837.777177917093,
            "bin_start": 2364.9714723963657,
            "count": 0
           },
           {
            "bin_end": 3310.58288343782,
            "bin_start": 2837.777177917093,
            "count": 0
           },
           {
            "bin_end": 3783.3885889585467,
            "bin_start": 3310.58288343782,
            "count": 0
           },
           {
            "bin_end": 4256.194294479274,
            "bin_start": 3783.3885889585467,
            "count": 0
           },
           {
            "bin_end": 4729,
            "bin_start": 4256.194294479274,
            "count": 1
           }
          ],
          "max": 4729,
          "min": 0.9429447927307899,
          "nan_count": 0,
          "unique_count": 8
         }
        },
        {
         "dtype": "float64",
         "name": "GBA",
         "stats": {
          "histogram": [
           {
            "bin_end": 473.908,
            "bin_start": 1.12,
            "count": 7
           },
           {
            "bin_end": 946.696,
            "bin_start": 473.908,
            "count": 0
           },
           {
            "bin_end": 1419.484,
            "bin_start": 946.696,
            "count": 0
           },
           {
            "bin_end": 1892.272,
            "bin_start": 1419.484,
            "count": 0
           },
           {
            "bin_end": 2365.06,
            "bin_start": 1892.272,
            "count": 0
           },
           {
            "bin_end": 2837.848,
            "bin_start": 2365.06,
            "count": 0
           },
           {
            "bin_end": 3310.636,
            "bin_start": 2837.848,
            "count": 0
           },
           {
            "bin_end": 3783.424,
            "bin_start": 3310.636,
            "count": 0
           },
           {
            "bin_end": 4256.212,
            "bin_start": 3783.424,
            "count": 0
           },
           {
            "bin_end": 4729,
            "bin_start": 4256.212,
            "count": 1
           }
          ],
          "max": 4729,
          "min": 1.12,
          "nan_count": 0,
          "unique_count": 8
         }
        },
        {
         "dtype": "float64",
         "name": "IWH",
         "stats": {
          "histogram": [
           {
            "bin_end": 751.827,
            "bin_start": 1.03,
            "count": 7
           },
           {
            "bin_end": 1502.624,
            "bin_start": 751.827,
            "count": 0
           },
           {
            "bin_end": 2253.4210000000003,
            "bin_start": 1502.624,
            "count": 0
           },
           {
            "bin_end": 3004.2180000000003,
            "bin_start": 2253.4210000000003,
            "count": 0
           },
           {
            "bin_end": 3755.0150000000003,
            "bin_start": 3004.2180000000003,
            "count": 0
           },
           {
            "bin_end": 4505.812,
            "bin_start": 3755.0150000000003,
            "count": 0
           },
           {
            "bin_end": 5256.6089999999995,
            "bin_start": 4505.812,
            "count": 0
           },
           {
            "bin_end": 6007.406,
            "bin_start": 5256.6089999999995,
            "count": 0
           },
           {
            "bin_end": 6758.203,
            "bin_start": 6007.406,
            "count": 0
           },
           {
            "bin_end": 7509,
            "bin_start": 6758.203,
            "count": 1
           }
          ],
          "max": 7509,
          "min": 1.03,
          "nan_count": 0,
          "unique_count": 8
         }
        },
        {
         "dtype": "float64",
         "name": "IWD",
         "stats": {
          "histogram": [
           {
            "bin_end": 751.8992340596569,
            "bin_start": 1.1102600662854978,
            "count": 7
           },
           {
            "bin_end": 1502.6882080530283,
            "bin_start": 751.8992340596569,
            "count": 0
           },
           {
            "bin_end": 2253.4771820464,
            "bin_start": 1502.6882080530283,
            "count": 0
           },
           {
            "bin_end": 3004.2661560397714,
            "bin_start": 2253.4771820464,
            "count": 0
           },
           {
            "bin_end": 3755.055130033143,
            "bin_start": 3004.2661560397714,
            "count": 0
           },
           {
            "bin_end": 4505.844104026513,
            "bin_start": 3755.055130033143,
            "count": 0
           },
           {
            "bin_end": 5256.633078019885,
            "bin_start": 4505.844104026513,
            "count": 0
           },
           {
            "bin_end": 6007.422052013257,
            "bin_start": 5256.633078019885,
            "count": 0
           },
           {
            "bin_end": 6758.211026006628,
            "bin_start": 6007.422052013257,
            "count": 0
           },
           {
            "bin_end": 7509,
            "bin_start": 6758.211026006628,
            "count": 1
           }
          ],
          "max": 7509,
          "min": 1.1102600662854978,
          "nan_count": 0,
          "unique_count": 8
         }
        },
        {
         "dtype": "float64",
         "name": "IWA",
         "stats": {
          "histogram": [
           {
            "bin_end": 751.89,
            "bin_start": 1.1,
            "count": 7
           },
           {
            "bin_end": 1502.6799999999998,
            "bin_start": 751.89,
            "count": 0
           },
           {
            "bin_end": 2253.47,
            "bin_start": 1502.6799999999998,
            "count": 0
           },
           {
            "bin_end": 3004.2599999999998,
            "bin_start": 2253.47,
            "count": 0
           },
           {
            "bin_end": 3755.0499999999997,
            "bin_start": 3004.2599999999998,
            "count": 0
           },
           {
            "bin_end": 4505.84,
            "bin_start": 3755.0499999999997,
            "count": 0
           },
           {
            "bin_end": 5256.63,
            "bin_start": 4505.84,
            "count": 0
           },
           {
            "bin_end": 6007.42,
            "bin_start": 5256.63,
            "count": 0
           },
           {
            "bin_end": 6758.21,
            "bin_start": 6007.42,
            "count": 0
           },
           {
            "bin_end": 7509,
            "bin_start": 6758.21,
            "count": 1
           }
          ],
          "max": 7509,
          "min": 1.1,
          "nan_count": 0,
          "unique_count": 8
         }
        },
        {
         "dtype": "float64",
         "name": "LBH",
         "stats": {
          "histogram": [
           {
            "bin_end": 666.636,
            "bin_start": 1.04,
            "count": 7
           },
           {
            "bin_end": 1332.232,
            "bin_start": 666.636,
            "count": 0
           },
           {
            "bin_end": 1997.828,
            "bin_start": 1332.232,
            "count": 0
           },
           {
            "bin_end": 2663.424,
            "bin_start": 1997.828,
            "count": 0
           },
           {
            "bin_end": 3329.02,
            "bin_start": 2663.424,
            "count": 0
           },
           {
            "bin_end": 3994.616,
            "bin_start": 3329.02,
            "count": 0
           },
           {
            "bin_end": 4660.212,
            "bin_start": 3994.616,
            "count": 0
           },
           {
            "bin_end": 5325.808,
            "bin_start": 4660.212,
            "count": 0
           },
           {
            "bin_end": 5991.4039999999995,
            "bin_start": 5325.808,
            "count": 0
           },
           {
            "bin_end": 6657,
            "bin_start": 5991.4039999999995,
            "count": 1
           }
          ],
          "max": 6657,
          "min": 1.04,
          "nan_count": 0,
          "unique_count": 8
         }
        },
        {
         "dtype": "float64",
         "name": "LBD",
         "stats": {
          "histogram": [
           {
            "bin_end": 666.9543997776667,
            "bin_start": 1.3937775307407332,
            "count": 7
           },
           {
            "bin_end": 1332.5150220245926,
            "bin_start": 666.9543997776667,
            "count": 0
           },
           {
            "bin_end": 1998.0756442715185,
            "bin_start": 1332.5150220245926,
            "count": 0
           },
           {
            "bin_end": 2663.6362665184447,
            "bin_start": 1998.0756442715185,
            "count": 0
           },
           {
            "bin_end": 3329.1968887653707,
            "bin_start": 2663.6362665184447,
            "count": 0
           },
           {
            "bin_end": 3994.7575110122966,
            "bin_start": 3329.1968887653707,
            "count": 0
           },
           {
            "bin_end": 4660.318133259222,
            "bin_start": 3994.7575110122966,
            "count": 0
           },
           {
            "bin_end": 5325.878755506148,
            "bin_start": 4660.318133259222,
            "count": 0
           },
           {
            "bin_end": 5991.439377753074,
            "bin_start": 5325.878755506148,
            "count": 0
           },
           {
            "bin_end": 6657,
            "bin_start": 5991.439377753074,
            "count": 1
           }
          ],
          "max": 6657,
          "min": 1.3937775307407332,
          "nan_count": 0,
          "unique_count": 8
         }
        },
        {
         "dtype": "float64",
         "name": "LBA",
         "stats": {
          "histogram": [
           {
            "bin_end": 666.6539999999999,
            "bin_start": 1.06,
            "count": 7
           },
           {
            "bin_end": 1332.2479999999998,
            "bin_start": 666.6539999999999,
            "count": 0
           },
           {
            "bin_end": 1997.8419999999996,
            "bin_start": 1332.2479999999998,
            "count": 0
           },
           {
            "bin_end": 2663.4359999999997,
            "bin_start": 1997.8419999999996,
            "count": 0
           },
           {
            "bin_end": 3329.0299999999997,
            "bin_start": 2663.4359999999997,
            "count": 0
           },
           {
            "bin_end": 3994.6239999999993,
            "bin_start": 3329.0299999999997,
            "count": 0
           },
           {
            "bin_end": 4660.218,
            "bin_start": 3994.6239999999993,
            "count": 0
           },
           {
            "bin_end": 5325.812,
            "bin_start": 4660.218,
            "count": 0
           },
           {
            "bin_end": 5991.406,
            "bin_start": 5325.812,
            "count": 0
           },
           {
            "bin_end": 6657,
            "bin_start": 5991.406,
            "count": 1
           }
          ],
          "max": 6657,
          "min": 1.06,
          "nan_count": 0,
          "unique_count": 8
         }
        },
        {
         "dtype": "float64",
         "name": "SBH",
         "stats": {
          "histogram": [
           {
            "bin_end": 440.427,
            "bin_start": 1.03,
            "count": 7
           },
           {
            "bin_end": 879.8240000000001,
            "bin_start": 440.427,
            "count": 0
           },
           {
            "bin_end": 1319.2210000000002,
            "bin_start": 879.8240000000001,
            "count": 0
           },
           {
            "bin_end": 1758.6180000000002,
            "bin_start": 1319.2210000000002,
            "count": 0
           },
           {
            "bin_end": 2198.0150000000003,
            "bin_start": 1758.6180000000002,
            "count": 0
           },
           {
            "bin_end": 2637.4120000000007,
            "bin_start": 2198.0150000000003,
            "count": 0
           },
           {
            "bin_end": 3076.8090000000007,
            "bin_start": 2637.4120000000007,
            "count": 0
           },
           {
            "bin_end": 3516.2060000000006,
            "bin_start": 3076.8090000000007,
            "count": 0
           },
           {
            "bin_end": 3955.6030000000005,
            "bin_start": 3516.2060000000006,
            "count": 0
           },
           {
            "bin_end": 4395,
            "bin_start": 3955.6030000000005,
            "count": 1
           }
          ],
          "max": 4395,
          "min": 1.03,
          "nan_count": 0,
          "unique_count": 8
         }
        },
        {
         "dtype": "float64",
         "name": "SBD",
         "stats": {
          "histogram": [
           {
            "bin_end": 440.2927406660597,
            "bin_start": 0.8808229622884827,
            "count": 7
           },
           {
            "bin_end": 879.7046583698308,
            "bin_start": 440.2927406660597,
            "count": 0
           },
           {
            "bin_end": 1319.116576073602,
            "bin_start": 879.7046583698308,
            "count": 0
           },
           {
            "bin_end": 1758.5284937773731,
            "bin_start": 1319.116576073602,
            "count": 0
           },
           {
            "bin_end": 2197.9404114811446,
            "bin_start": 1758.5284937773731,
            "count": 0
           },
           {
            "bin_end": 2637.3523291849156,
            "bin_start": 2197.9404114811446,
            "count": 0
           },
           {
            "bin_end": 3076.764246888687,
            "bin_start": 2637.3523291849156,
            "count": 0
           },
           {
            "bin_end": 3516.176164592458,
            "bin_start": 3076.764246888687,
            "count": 0
           },
           {
            "bin_end": 3955.588082296229,
            "bin_start": 3516.176164592458,
            "count": 0
           },
           {
            "bin_end": 4395,
            "bin_start": 3955.588082296229,
            "count": 1
           }
          ],
          "max": 4395,
          "min": 0.8808229622884827,
          "nan_count": 0,
          "unique_count": 8
         }
        },
        {
         "dtype": "float64",
         "name": "SBA",
         "stats": {
          "histogram": [
           {
            "bin_end": 440.4999,
            "bin_start": 1.111,
            "count": 7
           },
           {
            "bin_end": 879.8888000000001,
            "bin_start": 440.4999,
            "count": 0
           },
           {
            "bin_end": 1319.2777000000003,
            "bin_start": 879.8888000000001,
            "count": 0
           },
           {
            "bin_end": 1758.6666000000002,
            "bin_start": 1319.2777000000003,
            "count": 0
           },
           {
            "bin_end": 2198.0555,
            "bin_start": 1758.6666000000002,
            "count": 0
           },
           {
            "bin_end": 2637.4444000000003,
            "bin_start": 2198.0555,
            "count": 0
           },
           {
            "bin_end": 3076.8333000000002,
            "bin_start": 2637.4444000000003,
            "count": 0
           },
           {
            "bin_end": 3516.2222,
            "bin_start": 3076.8333000000002,
            "count": 0
           },
           {
            "bin_end": 3955.6111,
            "bin_start": 3516.2222,
            "count": 0
           },
           {
            "bin_end": 4395,
            "bin_start": 3955.6111,
            "count": 1
           }
          ],
          "max": 4395,
          "min": 1.111,
          "nan_count": 0,
          "unique_count": 8
         }
        },
        {
         "dtype": "float64",
         "name": "WHH",
         "stats": {
          "histogram": [
           {
            "bin_end": 733.9179999999999,
            "bin_start": 1.02,
            "count": 7
           },
           {
            "bin_end": 1466.8159999999998,
            "bin_start": 733.9179999999999,
            "count": 0
           },
           {
            "bin_end": 2199.7139999999995,
            "bin_start": 1466.8159999999998,
            "count": 0
           },
           {
            "bin_end": 2932.6119999999996,
            "bin_start": 2199.7139999999995,
            "count": 0
           },
           {
            "bin_end": 3665.5099999999998,
            "bin_start": 2932.6119999999996,
            "count": 0
           },
           {
            "bin_end": 4398.407999999999,
            "bin_start": 3665.5099999999998,
            "count": 0
           },
           {
            "bin_end": 5131.306,
            "bin_start": 4398.407999999999,
            "count": 0
           },
           {
            "bin_end": 5864.204,
            "bin_start": 5131.306,
            "count": 0
           },
           {
            "bin_end": 6597.102,
            "bin_start": 5864.204,
            "count": 0
           },
           {
            "bin_end": 7330,
            "bin_start": 6597.102,
            "count": 1
           }
          ],
          "max": 7330,
          "min": 1.02,
          "nan_count": 0,
          "unique_count": 8
         }
        },
        {
         "dtype": "float64",
         "name": "WHD",
         "stats": {
          "histogram": [
           {
            "bin_end": 734.1600063018559,
            "bin_start": 1.2888958909509205,
            "count": 7
           },
           {
            "bin_end": 1467.0311167127609,
            "bin_start": 734.1600063018559,
            "count": 0
           },
           {
            "bin_end": 2199.9022271236654,
            "bin_start": 1467.0311167127609,
            "count": 0
           },
           {
            "bin_end": 2932.7733375345706,
            "bin_start": 2199.9022271236654,
            "count": 0
           },
           {
            "bin_end": 3665.644447945476,
            "bin_start": 2932.7733375345706,
            "count": 0
           },
           {
            "bin_end": 4398.51555835638,
            "bin_start": 3665.644447945476,
            "count": 0
           },
           {
            "bin_end": 5131.386668767285,
            "bin_start": 4398.51555835638,
            "count": 0
           },
           {
            "bin_end": 5864.2577791781905,
            "bin_start": 5131.386668767285,
            "count": 0
           },
           {
            "bin_end": 6597.128889589096,
            "bin_start": 5864.2577791781905,
            "count": 0
           },
           {
            "bin_end": 7330,
            "bin_start": 6597.128889589096,
            "count": 1
           }
          ],
          "max": 7330,
          "min": 1.2888958909509205,
          "nan_count": 0,
          "unique_count": 8
         }
        },
        {
         "dtype": "float64",
         "name": "WHA",
         "stats": {
          "histogram": [
           {
            "bin_end": 733.9720000000001,
            "bin_start": 1.08,
            "count": 7
           },
           {
            "bin_end": 1466.864,
            "bin_start": 733.9720000000001,
            "count": 0
           },
           {
            "bin_end": 2199.7560000000003,
            "bin_start": 1466.864,
            "count": 0
           },
           {
            "bin_end": 2932.648,
            "bin_start": 2199.7560000000003,
            "count": 0
           },
           {
            "bin_end": 3665.54,
            "bin_start": 2932.648,
            "count": 0
           },
           {
            "bin_end": 4398.432000000001,
            "bin_start": 3665.54,
            "count": 0
           },
           {
            "bin_end": 5131.3240000000005,
            "bin_start": 4398.432000000001,
            "count": 0
           },
           {
            "bin_end": 5864.216,
            "bin_start": 5131.3240000000005,
            "count": 0
           },
           {
            "bin_end": 6597.108,
            "bin_start": 5864.216,
            "count": 0
           },
           {
            "bin_end": 7330,
            "bin_start": 6597.108,
            "count": 1
           }
          ],
          "max": 7330,
          "min": 1.08,
          "nan_count": 0,
          "unique_count": 8
         }
        },
        {
         "dtype": "float64",
         "name": "SYH",
         "stats": {
          "histogram": [
           {
            "bin_end": 36.16076010551759,
            "bin_start": 0.623066783908436,
            "count": 7
           },
           {
            "bin_end": 71.69845342712675,
            "bin_start": 36.16076010551759,
            "count": 0
           },
           {
            "bin_end": 107.2361467487359,
            "bin_start": 71.69845342712675,
            "count": 0
           },
           {
            "bin_end": 142.77384007034505,
            "bin_start": 107.2361467487359,
            "count": 0
           },
           {
            "bin_end": 178.31153339195419,
            "bin_start": 142.77384007034505,
            "count": 0
           },
           {
            "bin_end": 213.84922671356335,
            "bin_start": 178.31153339195419,
            "count": 0
           },
           {
            "bin_end": 249.38692003517252,
            "bin_start": 213.84922671356335,
            "count": 0
           },
           {
            "bin_end": 284.92461335678166,
            "bin_start": 249.38692003517252,
            "count": 0
           },
           {
            "bin_end": 320.4623066783908,
            "bin_start": 284.92461335678166,
            "count": 0
           },
           {
            "bin_end": 356,
            "bin_start": 320.4623066783908,
            "count": 1
           }
          ],
          "max": 356,
          "min": 0.623066783908436,
          "nan_count": 0,
          "unique_count": 8
         }
        },
        {
         "dtype": "float64",
         "name": "SYD",
         "stats": {
          "histogram": [
           {
            "bin_end": 35.978243856505635,
            "bin_start": 0.42027095167292544,
            "count": 7
           },
           {
            "bin_end": 71.53621676133834,
            "bin_start": 35.978243856505635,
            "count": 0
           },
           {
            "bin_end": 107.09418966617105,
            "bin_start": 71.53621676133834,
            "count": 0
           },
           {
            "bin_end": 142.65216257100377,
            "bin_start": 107.09418966617105,
            "count": 0
           },
           {
            "bin_end": 178.21013547583647,
            "bin_start": 142.65216257100377,
            "count": 0
           },
           {
            "bin_end": 213.7681083806692,
            "bin_start": 178.21013547583647,
            "count": 0
           },
           {
            "bin_end": 249.3260812855019,
            "bin_start": 213.7681083806692,
            "count": 0
           },
           {
            "bin_end": 284.8840541903346,
            "bin_start": 249.3260812855019,
            "count": 0
           },
           {
            "bin_end": 320.4420270951673,
            "bin_start": 284.8840541903346,
            "count": 0
           },
           {
            "bin_end": 356,
            "bin_start": 320.4420270951673,
            "count": 1
           }
          ],
          "max": 356,
          "min": 0.42027095167292544,
          "nan_count": 0,
          "unique_count": 8
         }
        },
        {
         "dtype": "float64",
         "name": "SYA",
         "stats": {
          "histogram": [
           {
            "bin_end": 37.01389999999999,
            "bin_start": 1.571,
            "count": 7
           },
           {
            "bin_end": 72.45679999999999,
            "bin_start": 37.01389999999999,
            "count": 0
           },
           {
            "bin_end": 107.89969999999998,
            "bin_start": 72.45679999999999,
            "count": 0
           },
           {
            "bin_end": 143.34259999999998,
            "bin_start": 107.89969999999998,
            "count": 0
           },
           {
            "bin_end": 178.78549999999998,
            "bin_start": 143.34259999999998,
            "count": 0
           },
           {
            "bin_end": 214.22839999999997,
            "bin_start": 178.78549999999998,
            "count": 0
           },
           {
            "bin_end": 249.67129999999995,
            "bin_start": 214.22839999999997,
            "count": 0
           },
           {
            "bin_end": 285.1142,
            "bin_start": 249.67129999999995,
            "count": 0
           },
           {
            "bin_end": 320.5571,
            "bin_start": 285.1142,
            "count": 0
           },
           {
            "bin_end": 356,
            "bin_start": 320.5571,
            "count": 1
           }
          ],
          "max": 356,
          "min": 1.571,
          "nan_count": 0,
          "unique_count": 8
         }
        },
        {
         "dtype": "float64",
         "name": "B365H",
         "stats": {
          "histogram": [
           {
            "bin_end": 677.4179999999999,
            "bin_start": 1.02,
            "count": 7
           },
           {
            "bin_end": 1353.8159999999998,
            "bin_start": 677.4179999999999,
            "count": 0
           },
           {
            "bin_end": 2030.2139999999997,
            "bin_start": 1353.8159999999998,
            "count": 0
           },
           {
            "bin_end": 2706.6119999999996,
            "bin_start": 2030.2139999999997,
            "count": 0
           },
           {
            "bin_end": 3383.0099999999998,
            "bin_start": 2706.6119999999996,
            "count": 0
           },
           {
            "bin_end": 4059.4079999999994,
            "bin_start": 3383.0099999999998,
            "count": 0
           },
           {
            "bin_end": 4735.806,
            "bin_start": 4059.4079999999994,
            "count": 0
           },
           {
            "bin_end": 5412.204,
            "bin_start": 4735.806,
            "count": 0
           },
           {
            "bin_end": 6088.602,
            "bin_start": 5412.204,
            "count": 0
           },
           {
            "bin_end": 6765,
            "bin_start": 6088.602,
            "count": 1
           }
          ],
          "max": 6765,
          "min": 1.02,
          "nan_count": 0,
          "unique_count": 8
         }
        },
        {
         "dtype": "float64",
         "name": "B365D",
         "stats": {
          "histogram": [
           {
            "bin_end": 677.8771026422495,
            "bin_start": 1.5301140469437875,
            "count": 7
           },
           {
            "bin_end": 1354.224091237555,
            "bin_start": 677.8771026422495,
            "count": 0
           },
           {
            "bin_end": 2030.5710798328607,
            "bin_start": 1354.224091237555,
            "count": 0
           },
           {
            "bin_end": 2706.9180684281664,
            "bin_start": 2030.5710798328607,
            "count": 0
           },
           {
            "bin_end": 3383.265057023472,
            "bin_start": 2706.9180684281664,
            "count": 0
           },
           {
            "bin_end": 4059.6120456187778,
            "bin_start": 3383.265057023472,
            "count": 0
           },
           {
            "bin_end": 4735.959034214084,
            "bin_start": 4059.6120456187778,
            "count": 0
           },
           {
            "bin_end": 5412.306022809389,
            "bin_start": 4735.959034214084,
            "count": 0
           },
           {
            "bin_end": 6088.653011404695,
            "bin_start": 5412.306022809389,
            "count": 0
           },
           {
            "bin_end": 6765,
            "bin_start": 6088.653011404695,
            "count": 1
           }
          ],
          "max": 6765,
          "min": 1.5301140469437875,
          "nan_count": 0,
          "unique_count": 8
         }
        },
        {
         "dtype": "float64",
         "name": "B365A",
         "stats": {
          "histogram": [
           {
            "bin_end": 677.4720000000001,
            "bin_start": 1.08,
            "count": 7
           },
           {
            "bin_end": 1353.864,
            "bin_start": 677.4720000000001,
            "count": 0
           },
           {
            "bin_end": 2030.256,
            "bin_start": 1353.864,
            "count": 0
           },
           {
            "bin_end": 2706.648,
            "bin_start": 2030.256,
            "count": 0
           },
           {
            "bin_end": 3383.04,
            "bin_start": 2706.648,
            "count": 0
           },
           {
            "bin_end": 4059.4320000000002,
            "bin_start": 3383.04,
            "count": 0
           },
           {
            "bin_end": 4735.8240000000005,
            "bin_start": 4059.4320000000002,
            "count": 0
           },
           {
            "bin_end": 5412.216,
            "bin_start": 4735.8240000000005,
            "count": 0
           },
           {
            "bin_end": 6088.608,
            "bin_start": 5412.216,
            "count": 0
           },
           {
            "bin_end": 6765,
            "bin_start": 6088.608,
            "count": 1
           }
          ],
          "max": 6765,
          "min": 1.08,
          "nan_count": 0,
          "unique_count": 8
         }
        },
        {
         "dtype": "float64",
         "name": "SOH",
         "stats": {
          "histogram": [
           {
            "bin_end": 75.25471221431567,
            "bin_start": 0.7274580159063108,
            "count": 7
           },
           {
            "bin_end": 149.78196641272504,
            "bin_start": 75.25471221431567,
            "count": 0
           },
           {
            "bin_end": 224.3092206111344,
            "bin_start": 149.78196641272504,
            "count": 0
           },
           {
            "bin_end": 298.8364748095438,
            "bin_start": 224.3092206111344,
            "count": 0
           },
           {
            "bin_end": 373.36372900795317,
            "bin_start": 298.8364748095438,
            "count": 0
           },
           {
            "bin_end": 447.89098320636253,
            "bin_start": 373.36372900795317,
            "count": 0
           },
           {
            "bin_end": 522.418237404772,
            "bin_start": 447.89098320636253,
            "count": 0
           },
           {
            "bin_end": 596.9454916031813,
            "bin_start": 522.418237404772,
            "count": 0
           },
           {
            "bin_end": 671.4727458015906,
            "bin_start": 596.9454916031813,
            "count": 0
           },
           {
            "bin_end": 746,
            "bin_start": 671.4727458015906,
            "count": 1
           }
          ],
          "max": 746,
          "min": 0.7274580159063108,
          "nan_count": 0,
          "unique_count": 8
         }
        },
        {
         "dtype": "float64",
         "name": "SOD",
         "stats": {
          "histogram": [
           {
            "bin_end": 74.97491371284292,
            "bin_start": 0.41657079204768077,
            "count": 7
           },
           {
            "bin_end": 149.53325663363816,
            "bin_start": 74.97491371284292,
            "count": 0
           },
           {
            "bin_end": 224.0915995544334,
            "bin_start": 149.53325663363816,
            "count": 0
           },
           {
            "bin_end": 298.64994247522867,
            "bin_start": 224.0915995544334,
            "count": 0
           },
           {
            "bin_end": 373.2082853960239,
            "bin_start": 298.64994247522867,
            "count": 0
           },
           {
            "bin_end": 447.76662831681915,
            "bin_start": 373.2082853960239,
            "count": 0
           },
           {
            "bin_end": 522.3249712376144,
            "bin_start": 447.76662831681915,
            "count": 0
           },
           {
            "bin_end": 596.8833141584096,
            "bin_start": 522.3249712376144,
            "count": 0
           },
           {
            "bin_end": 671.4416570792048,
            "bin_start": 596.8833141584096,
            "count": 0
           },
           {
            "bin_end": 746,
            "bin_start": 671.4416570792048,
            "count": 1
           }
          ],
          "max": 746,
          "min": 0.41657079204768077,
          "nan_count": 0,
          "unique_count": 8
         }
        },
        {
         "dtype": "float64",
         "name": "SOA",
         "stats": {
          "histogram": [
           {
            "bin_end": 75.89599999999999,
            "bin_start": 1.44,
            "count": 7
           },
           {
            "bin_end": 150.35199999999998,
            "bin_start": 75.89599999999999,
            "count": 0
           },
           {
            "bin_end": 224.80799999999996,
            "bin_start": 150.35199999999998,
            "count": 0
           },
           {
            "bin_end": 299.26399999999995,
            "bin_start": 224.80799999999996,
            "count": 0
           },
           {
            "bin_end": 373.71999999999997,
            "bin_start": 299.26399999999995,
            "count": 0
           },
           {
            "bin_end": 448.17599999999993,
            "bin_start": 373.71999999999997,
            "count": 0
           },
           {
            "bin_end": 522.632,
            "bin_start": 448.17599999999993,
            "count": 0
           },
           {
            "bin_end": 597.088,
            "bin_start": 522.632,
            "count": 0
           },
           {
            "bin_end": 671.544,
            "bin_start": 597.088,
            "count": 0
           },
           {
            "bin_end": 746,
            "bin_start": 671.544,
            "count": 1
           }
          ],
          "max": 746,
          "min": 1.44,
          "nan_count": 0,
          "unique_count": 8
         }
        },
        {
         "dtype": "float64",
         "name": "GB>2.5",
         "stats": {
          "histogram": [
           {
            "bin_end": 97.9161626327871,
            "bin_start": 0.1290695919856626,
            "count": 7
           },
           {
            "bin_end": 195.70325567358853,
            "bin_start": 97.9161626327871,
            "count": 0
           },
           {
            "bin_end": 293.49034871439,
            "bin_start": 195.70325567358853,
            "count": 0
           },
           {
            "bin_end": 391.27744175519143,
            "bin_start": 293.49034871439,
            "count": 0
           },
           {
            "bin_end": 489.06453479599287,
            "bin_start": 391.27744175519143,
            "count": 0
           },
           {
            "bin_end": 586.8516278367943,
            "bin_start": 489.06453479599287,
            "count": 0
           },
           {
            "bin_end": 684.6387208775957,
            "bin_start": 586.8516278367943,
            "count": 0
           },
           {
            "bin_end": 782.4258139183971,
            "bin_start": 684.6387208775957,
            "count": 0
           },
           {
            "bin_end": 880.2129069591986,
            "bin_start": 782.4258139183971,
            "count": 0
           },
           {
            "bin_end": 978,
            "bin_start": 880.2129069591986,
            "count": 1
           }
          ],
          "max": 978,
          "min": 0.1290695919856626,
          "nan_count": 0,
          "unique_count": 8
         }
        },
        {
         "dtype": "float64",
         "name": "GB<2.5",
         "stats": {
          "histogram": [
           {
            "bin_end": 97.92542815052317,
            "bin_start": 0.13936461169243128,
            "count": 7
           },
           {
            "bin_end": 195.71149168935392,
            "bin_start": 97.92542815052317,
            "count": 0
           },
           {
            "bin_end": 293.4975552281847,
            "bin_start": 195.71149168935392,
            "count": 0
           },
           {
            "bin_end": 391.2836187670154,
            "bin_start": 293.4975552281847,
            "count": 0
           },
           {
            "bin_end": 489.06968230584613,
            "bin_start": 391.2836187670154,
            "count": 0
           },
           {
            "bin_end": 586.855745844677,
            "bin_start": 489.06968230584613,
            "count": 0
           },
           {
            "bin_end": 684.6418093835077,
            "bin_start": 586.855745844677,
            "count": 0
           },
           {
            "bin_end": 782.4278729223385,
            "bin_start": 684.6418093835077,
            "count": 0
           },
           {
            "bin_end": 880.2139364611692,
            "bin_start": 782.4278729223385,
            "count": 0
           },
           {
            "bin_end": 978,
            "bin_start": 880.2139364611692,
            "count": 1
           }
          ],
          "max": 978,
          "min": 0.13936461169243128,
          "nan_count": 0,
          "unique_count": 8
         }
        },
        {
         "dtype": "float64",
         "name": "B365>2.5",
         "stats": {
          "histogram": [
           {
            "bin_end": 126.86215269161043,
            "bin_start": 0.2912807684560468,
            "count": 7
           },
           {
            "bin_end": 253.4330246147648,
            "bin_start": 126.86215269161043,
            "count": 0
           },
           {
            "bin_end": 380.00389653791916,
            "bin_start": 253.4330246147648,
            "count": 0
           },
           {
            "bin_end": 506.5747684610736,
            "bin_start": 380.00389653791916,
            "count": 0
           },
           {
            "bin_end": 633.145640384228,
            "bin_start": 506.5747684610736,
            "count": 0
           },
           {
            "bin_end": 759.7165123073823,
            "bin_start": 633.145640384228,
            "count": 0
           },
           {
            "bin_end": 886.2873842305368,
            "bin_start": 759.7165123073823,
            "count": 0
           },
           {
            "bin_end": 1012.8582561536912,
            "bin_start": 886.2873842305368,
            "count": 0
           },
           {
            "bin_end": 1139.4291280768455,
            "bin_start": 1012.8582561536912,
            "count": 0
           },
           {
            "bin_end": 1266,
            "bin_start": 1139.4291280768455,
            "count": 1
           }
          ],
          "max": 1266,
          "min": 0.2912807684560468,
          "nan_count": 0,
          "unique_count": 8
         }
        },
        {
         "dtype": "float64",
         "name": "B365<2.5",
         "stats": {
          "histogram": [
           {
            "bin_end": 126.84302595215325,
            "bin_start": 0.2700288357258536,
            "count": 7
           },
           {
            "bin_end": 253.41602306858067,
            "bin_start": 126.84302595215325,
            "count": 0
           },
           {
            "bin_end": 379.98902018500803,
            "bin_start": 253.41602306858067,
            "count": 0
           },
           {
            "bin_end": 506.56201730143545,
            "bin_start": 379.98902018500803,
            "count": 0
           },
           {
            "bin_end": 633.1350144178629,
            "bin_start": 506.56201730143545,
            "count": 0
           },
           {
            "bin_end": 759.7080115342902,
            "bin_start": 633.1350144178629,
            "count": 0
           },
           {
            "bin_end": 886.2810086507177,
            "bin_start": 759.7080115342902,
            "count": 0
           },
           {
            "bin_end": 1012.854005767145,
            "bin_start": 886.2810086507177,
            "count": 0
           },
           {
            "bin_end": 1139.4270028835726,
            "bin_start": 1012.854005767145,
            "count": 0
           },
           {
            "bin_end": 1266,
            "bin_start": 1139.4270028835726,
            "count": 1
           }
          ],
          "max": 1266,
          "min": 0.2700288357258536,
          "nan_count": 0,
          "unique_count": 8
         }
        },
        {
         "dtype": "float64",
         "name": "GBAHH",
         "stats": {
          "histogram": [
           {
            "bin_end": 62.972898760248654,
            "bin_start": 0.1921097336096206,
            "count": 7
           },
           {
            "bin_end": 125.7536877868877,
            "bin_start": 62.972898760248654,
            "count": 0
           },
           {
            "bin_end": 188.5344768135267,
            "bin_start": 125.7536877868877,
            "count": 0
           },
           {
            "bin_end": 251.31526584016575,
            "bin_start": 188.5344768135267,
            "count": 0
           },
           {
            "bin_end": 314.0960548668048,
            "bin_start": 251.31526584016575,
            "count": 0
           },
           {
            "bin_end": 376.87684389344383,
            "bin_start": 314.0960548668048,
            "count": 0
           },
           {
            "bin_end": 439.6576329200829,
            "bin_start": 376.87684389344383,
            "count": 0
           },
           {
            "bin_end": 502.4384219467219,
            "bin_start": 439.6576329200829,
            "count": 0
           },
           {
            "bin_end": 565.219210973361,
            "bin_start": 502.4384219467219,
            "count": 0
           },
           {
            "bin_end": 628,
            "bin_start": 565.219210973361,
            "count": 1
           }
          ],
          "max": 628,
          "min": 0.1921097336096206,
          "nan_count": 0,
          "unique_count": 8
         }
        },
        {
         "dtype": "float64",
         "name": "GBAHA",
         "stats": {
          "histogram": [
           {
            "bin_end": 62.98601776127764,
            "bin_start": 0.2066864014195929,
            "count": 7
           },
           {
            "bin_end": 125.76534912113567,
            "bin_start": 62.98601776127764,
            "count": 0
           },
           {
            "bin_end": 188.54468048099372,
            "bin_start": 125.76534912113567,
            "count": 0
           },
           {
            "bin_end": 251.32401184085177,
            "bin_start": 188.54468048099372,
            "count": 0
           },
           {
            "bin_end": 314.1033432007098,
            "bin_start": 251.32401184085177,
            "count": 0
           },
           {
            "bin_end": 376.8826745605678,
            "bin_start": 314.1033432007098,
            "count": 0
           },
           {
            "bin_end": 439.6620059204259,
            "bin_start": 376.8826745605678,
            "count": 0
           },
           {
            "bin_end": 502.4413372802839,
            "bin_start": 439.6620059204259,
            "count": 0
           },
           {
            "bin_end": 565.220668640142,
            "bin_start": 502.4413372802839,
            "count": 0
           },
           {
            "bin_end": 628,
            "bin_start": 565.220668640142,
            "count": 1
           }
          ],
          "max": 628,
          "min": 0.2066864014195929,
          "nan_count": 0,
          "unique_count": 8
         }
        },
        {
         "dtype": "float64",
         "name": "GBAH",
         "stats": {
          "histogram": [
           {
            "bin_end": 60.775,
            "bin_start": -2.25,
            "count": 7
           },
           {
            "bin_end": 123.8,
            "bin_start": 60.775,
            "count": 0
           },
           {
            "bin_end": 186.825,
            "bin_start": 123.8,
            "count": 0
           },
           {
            "bin_end": 249.85,
            "bin_start": 186.825,
            "count": 0
           },
           {
            "bin_end": 312.875,
            "bin_start": 249.85,
            "count": 0
           },
           {
            "bin_end": 375.9,
            "bin_start": 312.875,
            "count": 0
           },
           {
            "bin_end": 438.925,
            "bin_start": 375.9,
            "count": 0
           },
           {
            "bin_end": 501.95,
            "bin_start": 438.925,
            "count": 0
           },
           {
            "bin_end": 564.975,
            "bin_start": 501.95,
            "count": 0
           },
           {
            "bin_end": 628,
            "bin_start": 564.975,
            "count": 1
           }
          ],
          "max": 628,
          "min": -2.25,
          "nan_count": 0,
          "unique_count": 8
         }
        },
        {
         "dtype": "float64",
         "name": "LBAHH",
         "stats": {
          "histogram": [
           {
            "bin_end": 58.093071143403854,
            "bin_start": 0.10341238155983698,
            "count": 7
           },
           {
            "bin_end": 116.08272990524787,
            "bin_start": 58.093071143403854,
            "count": 0
           },
           {
            "bin_end": 174.0723886670919,
            "bin_start": 116.08272990524787,
            "count": 0
           },
           {
            "bin_end": 232.06204742893593,
            "bin_start": 174.0723886670919,
            "count": 0
           },
           {
            "bin_end": 290.05170619077995,
            "bin_start": 232.06204742893593,
            "count": 0
           },
           {
            "bin_end": 348.04136495262395,
            "bin_start": 290.05170619077995,
            "count": 0
           },
           {
            "bin_end": 406.031023714468,
            "bin_start": 348.04136495262395,
            "count": 0
           },
           {
            "bin_end": 464.020682476312,
            "bin_start": 406.031023714468,
            "count": 0
           },
           {
            "bin_end": 522.010341238156,
            "bin_start": 464.020682476312,
            "count": 0
           },
           {
            "bin_end": 580,
            "bin_start": 522.010341238156,
            "count": 1
           }
          ],
          "max": 580,
          "min": 0.10341238155983698,
          "nan_count": 0,
          "unique_count": 8
         }
        },
        {
         "dtype": "float64",
         "name": "LBAHA",
         "stats": {
          "histogram": [
           {
            "bin_end": 58.09331241708594,
            "bin_start": 0.10368046342881461,
            "count": 7
           },
           {
            "bin_end": 116.08294437074306,
            "bin_start": 58.09331241708594,
            "count": 0
           },
           {
            "bin_end": 174.0725763244002,
            "bin_start": 116.08294437074306,
            "count": 0
           },
           {
            "bin_end": 232.0622082780573,
            "bin_start": 174.0725763244002,
            "count": 0
           },
           {
            "bin_end": 290.05184023171444,
            "bin_start": 232.0622082780573,
            "count": 0
           },
           {
            "bin_end": 348.04147218537156,
            "bin_start": 290.05184023171444,
            "count": 0
           },
           {
            "bin_end": 406.0311041390287,
            "bin_start": 348.04147218537156,
            "count": 0
           },
           {
            "bin_end": 464.0207360926858,
            "bin_start": 406.0311041390287,
            "count": 0
           },
           {
            "bin_end": 522.0103680463429,
            "bin_start": 464.0207360926858,
            "count": 0
           },
           {
            "bin_end": 580,
            "bin_start": 522.0103680463429,
            "count": 1
           }
          ],
          "max": 580,
          "min": 0.10368046342881461,
          "nan_count": 0,
          "unique_count": 8
         }
        },
        {
         "dtype": "float64",
         "name": "LBAH",
         "stats": {
          "histogram": [
           {
            "bin_end": 55.975,
            "bin_start": -2.25,
            "count": 7
           },
           {
            "bin_end": 114.2,
            "bin_start": 55.975,
            "count": 0
           },
           {
            "bin_end": 172.425,
            "bin_start": 114.2,
            "count": 0
           },
           {
            "bin_end": 230.65,
            "bin_start": 172.425,
            "count": 0
           },
           {
            "bin_end": 288.875,
            "bin_start": 230.65,
            "count": 0
           },
           {
            "bin_end": 347.1,
            "bin_start": 288.875,
            "count": 0
           },
           {
            "bin_end": 405.325,
            "bin_start": 347.1,
            "count": 0
           },
           {
            "bin_end": 463.55,
            "bin_start": 405.325,
            "count": 0
           },
           {
            "bin_end": 521.775,
            "bin_start": 463.55,
            "count": 0
           },
           {
            "bin_end": 580,
            "bin_start": 521.775,
            "count": 1
           }
          ],
          "max": 580,
          "min": -2.25,
          "nan_count": 0,
          "unique_count": 8
         }
        },
        {
         "dtype": "float64",
         "name": "B365AHH",
         "stats": {
          "histogram": [
           {
            "bin_end": 104.19418827036341,
            "bin_start": 0.10465363373713103,
            "count": 7
           },
           {
            "bin_end": 208.2837229069897,
            "bin_start": 104.19418827036341,
            "count": 0
           },
           {
            "bin_end": 312.373257543616,
            "bin_start": 208.2837229069897,
            "count": 0
           },
           {
            "bin_end": 416.4627921802423,
            "bin_start": 312.373257543616,
            "count": 0
           },
           {
            "bin_end": 520.5523268168686,
            "bin_start": 416.4627921802423,
            "count": 0
           },
           {
            "bin_end": 624.6418614534948,
            "bin_start": 520.5523268168686,
            "count": 0
           },
           {
            "bin_end": 728.7313960901212,
            "bin_start": 624.6418614534948,
            "count": 0
           },
           {
            "bin_end": 832.8209307267474,
            "bin_start": 728.7313960901212,
            "count": 0
           },
           {
            "bin_end": 936.9104653633736,
            "bin_start": 832.8209307267474,
            "count": 0
           },
           {
            "bin_end": 1041,
            "bin_start": 936.9104653633736,
            "count": 1
           }
          ],
          "max": 1041,
          "min": 0.10465363373713103,
          "nan_count": 0,
          "unique_count": 8
         }
        },
        {
         "dtype": "float64",
         "name": "B365AHA",
         "stats": {
          "histogram": [
           {
            "bin_end": 104.19483395786764,
            "bin_start": 0.10537106429737882,
            "count": 7
           },
           {
            "bin_end": 208.28429685143792,
            "bin_start": 104.19483395786764,
            "count": 0
           },
           {
            "bin_end": 312.3737597450082,
            "bin_start": 208.28429685143792,
            "count": 0
           },
           {
            "bin_end": 416.4632226385785,
            "bin_start": 312.3737597450082,
            "count": 0
           },
           {
            "bin_end": 520.5526855321488,
            "bin_start": 416.4632226385785,
            "count": 0
           },
           {
            "bin_end": 624.642148425719,
            "bin_start": 520.5526855321488,
            "count": 0
           },
           {
            "bin_end": 728.7316113192893,
            "bin_start": 624.642148425719,
            "count": 0
           },
           {
            "bin_end": 832.8210742128596,
            "bin_start": 728.7316113192893,
            "count": 0
           },
           {
            "bin_end": 936.9105371064298,
            "bin_start": 832.8210742128596,
            "count": 0
           },
           {
            "bin_end": 1041,
            "bin_start": 936.9105371064298,
            "count": 1
           }
          ],
          "max": 1041,
          "min": 0.10537106429737882,
          "nan_count": 0,
          "unique_count": 8
         }
        },
        {
         "dtype": "float64",
         "name": "B365AH",
         "stats": {
          "histogram": [
           {
            "bin_end": 61,
            "bin_start": -2,
            "count": 7
           },
           {
            "bin_end": 124,
            "bin_start": 61,
            "count": 0
           },
           {
            "bin_end": 187,
            "bin_start": 124,
            "count": 0
           },
           {
            "bin_end": 250,
            "bin_start": 187,
            "count": 0
           },
           {
            "bin_end": 313,
            "bin_start": 250,
            "count": 0
           },
           {
            "bin_end": 376,
            "bin_start": 313,
            "count": 0
           },
           {
            "bin_end": 439,
            "bin_start": 376,
            "count": 0
           },
           {
            "bin_end": 502,
            "bin_start": 439,
            "count": 0
           },
           {
            "bin_end": 565,
            "bin_start": 502,
            "count": 0
           },
           {
            "bin_end": 628,
            "bin_start": 565,
            "count": 1
           }
          ],
          "max": 628,
          "min": -2,
          "nan_count": 0,
          "unique_count": 8
         }
        },
        {
         "dtype": "float64",
         "name": "Unnamed: 44",
         "stats": {
          "histogram": [
           {
            "bin_end": -0.4,
            "bin_start": -0.5,
            "count": 0
           },
           {
            "bin_end": -0.3,
            "bin_start": -0.4,
            "count": 0
           },
           {
            "bin_end": -0.19999999999999996,
            "bin_start": -0.3,
            "count": 0
           },
           {
            "bin_end": -0.09999999999999998,
            "bin_start": -0.19999999999999996,
            "count": 0
           },
           {
            "bin_end": 0,
            "bin_start": -0.09999999999999998,
            "count": 0
           },
           {
            "bin_end": 0.10000000000000009,
            "bin_start": 0,
            "count": 1
           },
           {
            "bin_end": 0.20000000000000007,
            "bin_start": 0.10000000000000009,
            "count": 0
           },
           {
            "bin_end": 0.30000000000000004,
            "bin_start": 0.20000000000000007,
            "count": 0
           },
           {
            "bin_end": 0.4,
            "bin_start": 0.30000000000000004,
            "count": 0
           },
           {
            "bin_end": 0.5,
            "bin_start": 0.4,
            "count": 0
           }
          ],
          "max": 0,
          "min": 0,
          "nan_count": 7,
          "unique_count": 1
         }
        },
        {
         "dtype": "float64",
         "name": "Unnamed: 45",
         "stats": {
          "histogram": [
           {
            "bin_end": -0.4,
            "bin_start": -0.5,
            "count": 0
           },
           {
            "bin_end": -0.3,
            "bin_start": -0.4,
            "count": 0
           },
           {
            "bin_end": -0.19999999999999996,
            "bin_start": -0.3,
            "count": 0
           },
           {
            "bin_end": -0.09999999999999998,
            "bin_start": -0.19999999999999996,
            "count": 0
           },
           {
            "bin_end": 0,
            "bin_start": -0.09999999999999998,
            "count": 0
           },
           {
            "bin_end": 0.10000000000000009,
            "bin_start": 0,
            "count": 1
           },
           {
            "bin_end": 0.20000000000000007,
            "bin_start": 0.10000000000000009,
            "count": 0
           },
           {
            "bin_end": 0.30000000000000004,
            "bin_start": 0.20000000000000007,
            "count": 0
           },
           {
            "bin_end": 0.4,
            "bin_start": 0.30000000000000004,
            "count": 0
           },
           {
            "bin_end": 0.5,
            "bin_start": 0.4,
            "count": 0
           }
          ],
          "max": 0,
          "min": 0,
          "nan_count": 7,
          "unique_count": 1
         }
        },
        {
         "dtype": "float64",
         "name": "Unnamed: 46",
         "stats": {
          "histogram": [
           {
            "bin_end": -0.4,
            "bin_start": -0.5,
            "count": 0
           },
           {
            "bin_end": -0.3,
            "bin_start": -0.4,
            "count": 0
           },
           {
            "bin_end": -0.19999999999999996,
            "bin_start": -0.3,
            "count": 0
           },
           {
            "bin_end": -0.09999999999999998,
            "bin_start": -0.19999999999999996,
            "count": 0
           },
           {
            "bin_end": 0,
            "bin_start": -0.09999999999999998,
            "count": 0
           },
           {
            "bin_end": 0.10000000000000009,
            "bin_start": 0,
            "count": 1
           },
           {
            "bin_end": 0.20000000000000007,
            "bin_start": 0.10000000000000009,
            "count": 0
           },
           {
            "bin_end": 0.30000000000000004,
            "bin_start": 0.20000000000000007,
            "count": 0
           },
           {
            "bin_end": 0.4,
            "bin_start": 0.30000000000000004,
            "count": 0
           },
           {
            "bin_end": 0.5,
            "bin_start": 0.4,
            "count": 0
           }
          ],
          "max": 0,
          "min": 0,
          "nan_count": 7,
          "unique_count": 1
         }
        },
        {
         "dtype": "float64",
         "name": "Unnamed: 47",
         "stats": {
          "histogram": [
           {
            "bin_end": -0.4,
            "bin_start": -0.5,
            "count": 0
           },
           {
            "bin_end": -0.3,
            "bin_start": -0.4,
            "count": 0
           },
           {
            "bin_end": -0.19999999999999996,
            "bin_start": -0.3,
            "count": 0
           },
           {
            "bin_end": -0.09999999999999998,
            "bin_start": -0.19999999999999996,
            "count": 0
           },
           {
            "bin_end": 0,
            "bin_start": -0.09999999999999998,
            "count": 0
           },
           {
            "bin_end": 0.10000000000000009,
            "bin_start": 0,
            "count": 1
           },
           {
            "bin_end": 0.20000000000000007,
            "bin_start": 0.10000000000000009,
            "count": 0
           },
           {
            "bin_end": 0.30000000000000004,
            "bin_start": 0.20000000000000007,
            "count": 0
           },
           {
            "bin_end": 0.4,
            "bin_start": 0.30000000000000004,
            "count": 0
           },
           {
            "bin_end": 0.5,
            "bin_start": 0.4,
            "count": 0
           }
          ],
          "max": 0,
          "min": 0,
          "nan_count": 7,
          "unique_count": 1
         }
        },
        {
         "dtype": "float64",
         "name": "Unnamed: 48",
         "stats": {
          "histogram": [
           {
            "bin_end": -0.4,
            "bin_start": -0.5,
            "count": 0
           },
           {
            "bin_end": -0.3,
            "bin_start": -0.4,
            "count": 0
           },
           {
            "bin_end": -0.19999999999999996,
            "bin_start": -0.3,
            "count": 0
           },
           {
            "bin_end": -0.09999999999999998,
            "bin_start": -0.19999999999999996,
            "count": 0
           },
           {
            "bin_end": 0,
            "bin_start": -0.09999999999999998,
            "count": 0
           },
           {
            "bin_end": 0.10000000000000009,
            "bin_start": 0,
            "count": 1
           },
           {
            "bin_end": 0.20000000000000007,
            "bin_start": 0.10000000000000009,
            "count": 0
           },
           {
            "bin_end": 0.30000000000000004,
            "bin_start": 0.20000000000000007,
            "count": 0
           },
           {
            "bin_end": 0.4,
            "bin_start": 0.30000000000000004,
            "count": 0
           },
           {
            "bin_end": 0.5,
            "bin_start": 0.4,
            "count": 0
           }
          ],
          "max": 0,
          "min": 0,
          "nan_count": 7,
          "unique_count": 1
         }
        },
        {
         "dtype": "float64",
         "name": "Unnamed: 49",
         "stats": {
          "histogram": [
           {
            "bin_end": -0.4,
            "bin_start": -0.5,
            "count": 0
           },
           {
            "bin_end": -0.3,
            "bin_start": -0.4,
            "count": 0
           },
           {
            "bin_end": -0.19999999999999996,
            "bin_start": -0.3,
            "count": 0
           },
           {
            "bin_end": -0.09999999999999998,
            "bin_start": -0.19999999999999996,
            "count": 0
           },
           {
            "bin_end": 0,
            "bin_start": -0.09999999999999998,
            "count": 0
           },
           {
            "bin_end": 0.10000000000000009,
            "bin_start": 0,
            "count": 1
           },
           {
            "bin_end": 0.20000000000000007,
            "bin_start": 0.10000000000000009,
            "count": 0
           },
           {
            "bin_end": 0.30000000000000004,
            "bin_start": 0.20000000000000007,
            "count": 0
           },
           {
            "bin_end": 0.4,
            "bin_start": 0.30000000000000004,
            "count": 0
           },
           {
            "bin_end": 0.5,
            "bin_start": 0.4,
            "count": 0
           }
          ],
          "max": 0,
          "min": 0,
          "nan_count": 7,
          "unique_count": 1
         }
        },
        {
         "dtype": "float64",
         "name": "Unnamed: 50",
         "stats": {
          "histogram": [
           {
            "bin_end": -0.4,
            "bin_start": -0.5,
            "count": 0
           },
           {
            "bin_end": -0.3,
            "bin_start": -0.4,
            "count": 0
           },
           {
            "bin_end": -0.19999999999999996,
            "bin_start": -0.3,
            "count": 0
           },
           {
            "bin_end": -0.09999999999999998,
            "bin_start": -0.19999999999999996,
            "count": 0
           },
           {
            "bin_end": 0,
            "bin_start": -0.09999999999999998,
            "count": 0
           },
           {
            "bin_end": 0.10000000000000009,
            "bin_start": 0,
            "count": 1
           },
           {
            "bin_end": 0.20000000000000007,
            "bin_start": 0.10000000000000009,
            "count": 0
           },
           {
            "bin_end": 0.30000000000000004,
            "bin_start": 0.20000000000000007,
            "count": 0
           },
           {
            "bin_end": 0.4,
            "bin_start": 0.30000000000000004,
            "count": 0
           },
           {
            "bin_end": 0.5,
            "bin_start": 0.4,
            "count": 0
           }
          ],
          "max": 0,
          "min": 0,
          "nan_count": 7,
          "unique_count": 1
         }
        },
        {
         "dtype": "float64",
         "name": "BWH",
         "stats": {
          "histogram": [
           {
            "bin_end": 602.027,
            "bin_start": 1.03,
            "count": 7
           },
           {
            "bin_end": 1203.0240000000001,
            "bin_start": 602.027,
            "count": 0
           },
           {
            "bin_end": 1804.0210000000002,
            "bin_start": 1203.0240000000001,
            "count": 0
           },
           {
            "bin_end": 2405.0180000000005,
            "bin_start": 1804.0210000000002,
            "count": 0
           },
           {
            "bin_end": 3006.015000000001,
            "bin_start": 2405.0180000000005,
            "count": 0
           },
           {
            "bin_end": 3607.0120000000006,
            "bin_start": 3006.015000000001,
            "count": 0
           },
           {
            "bin_end": 4208.009,
            "bin_start": 3607.0120000000006,
            "count": 0
           },
           {
            "bin_end": 4809.006,
            "bin_start": 4208.009,
            "count": 0
           },
           {
            "bin_end": 5410.003000000001,
            "bin_start": 4809.006,
            "count": 0
           },
           {
            "bin_end": 6011,
            "bin_start": 5410.003000000001,
            "count": 1
           }
          ],
          "max": 6011,
          "min": 1.03,
          "nan_count": 0,
          "unique_count": 8
         }
        },
        {
         "dtype": "float64",
         "name": "BWD",
         "stats": {
          "histogram": [
           {
            "bin_end": 602.4638280538702,
            "bin_start": 1.5153645043002542,
            "count": 7
           },
           {
            "bin_end": 1203.4122916034403,
            "bin_start": 602.4638280538702,
            "count": 0
           },
           {
            "bin_end": 1804.3607551530101,
            "bin_start": 1203.4122916034403,
            "count": 0
           },
           {
            "bin_end": 2405.30921870258,
            "bin_start": 1804.3607551530101,
            "count": 0
           },
           {
            "bin_end": 3006.25768225215,
            "bin_start": 2405.30921870258,
            "count": 0
           },
           {
            "bin_end": 3607.2061458017197,
            "bin_start": 3006.25768225215,
            "count": 0
           },
           {
            "bin_end": 4208.15460935129,
            "bin_start": 3607.2061458017197,
            "count": 0
           },
           {
            "bin_end": 4809.10307290086,
            "bin_start": 4208.15460935129,
            "count": 0
           },
           {
            "bin_end": 5410.05153645043,
            "bin_start": 4809.10307290086,
            "count": 0
           },
           {
            "bin_end": 6011,
            "bin_start": 5410.05153645043,
            "count": 1
           }
          ],
          "max": 6011,
          "min": 1.5153645043002542,
          "nan_count": 0,
          "unique_count": 8
         }
        },
        {
         "dtype": "float64",
         "name": "BWA",
         "stats": {
          "histogram": [
           {
            "bin_end": 602.081,
            "bin_start": 1.09,
            "count": 7
           },
           {
            "bin_end": 1203.072,
            "bin_start": 602.081,
            "count": 0
           },
           {
            "bin_end": 1804.0629999999999,
            "bin_start": 1203.072,
            "count": 0
           },
           {
            "bin_end": 2405.054,
            "bin_start": 1804.0629999999999,
            "count": 0
           },
           {
            "bin_end": 3006.045,
            "bin_start": 2405.054,
            "count": 0
           },
           {
            "bin_end": 3607.036,
            "bin_start": 3006.045,
            "count": 0
           },
           {
            "bin_end": 4208.027,
            "bin_start": 3607.036,
            "count": 0
           },
           {
            "bin_end": 4809.018,
            "bin_start": 4208.027,
            "count": 0
           },
           {
            "bin_end": 5410.009,
            "bin_start": 4809.018,
            "count": 0
           },
           {
            "bin_end": 6011,
            "bin_start": 5410.009,
            "count": 1
           }
          ],
          "max": 6011,
          "min": 1.09,
          "nan_count": 0,
          "unique_count": 8
         }
        },
        {
         "dtype": "float64",
         "name": "HS",
         "stats": {
          "histogram": [
           {
            "bin_end": 575.2,
            "bin_start": 1,
            "count": 7
           },
           {
            "bin_end": 1149.4,
            "bin_start": 575.2,
            "count": 0
           },
           {
            "bin_end": 1723.6000000000001,
            "bin_start": 1149.4,
            "count": 0
           },
           {
            "bin_end": 2297.8,
            "bin_start": 1723.6000000000001,
            "count": 0
           },
           {
            "bin_end": 2872,
            "bin_start": 2297.8,
            "count": 0
           },
           {
            "bin_end": 3446.2000000000003,
            "bin_start": 2872,
            "count": 0
           },
           {
            "bin_end": 4020.4000000000005,
            "bin_start": 3446.2000000000003,
            "count": 0
           },
           {
            "bin_end": 4594.6,
            "bin_start": 4020.4000000000005,
            "count": 0
           },
           {
            "bin_end": 5168.8,
            "bin_start": 4594.6,
            "count": 0
           },
           {
            "bin_end": 5743,
            "bin_start": 5168.8,
            "count": 1
           }
          ],
          "max": 5743,
          "min": 1,
          "nan_count": 0,
          "unique_count": 8
         }
        },
        {
         "dtype": "float64",
         "name": "AS",
         "stats": {
          "histogram": [
           {
            "bin_end": 574.3,
            "bin_start": 0,
            "count": 7
           },
           {
            "bin_end": 1148.6,
            "bin_start": 574.3,
            "count": 0
           },
           {
            "bin_end": 1722.8999999999999,
            "bin_start": 1148.6,
            "count": 0
           },
           {
            "bin_end": 2297.2,
            "bin_start": 1722.8999999999999,
            "count": 0
           },
           {
            "bin_end": 2871.5,
            "bin_start": 2297.2,
            "count": 0
           },
           {
            "bin_end": 3445.7999999999997,
            "bin_start": 2871.5,
            "count": 0
           },
           {
            "bin_end": 4020.0999999999995,
            "bin_start": 3445.7999999999997,
            "count": 0
           },
           {
            "bin_end": 4594.4,
            "bin_start": 4020.0999999999995,
            "count": 0
           },
           {
            "bin_end": 5168.7,
            "bin_start": 4594.4,
            "count": 0
           },
           {
            "bin_end": 5743,
            "bin_start": 5168.7,
            "count": 1
           }
          ],
          "max": 5743,
          "min": 0,
          "nan_count": 0,
          "unique_count": 8
         }
        },
        {
         "dtype": "float64",
         "name": "HST",
         "stats": {
          "histogram": [
           {
            "bin_end": 574.3,
            "bin_start": 0,
            "count": 7
           },
           {
            "bin_end": 1148.6,
            "bin_start": 574.3,
            "count": 0
           },
           {
            "bin_end": 1722.8999999999999,
            "bin_start": 1148.6,
            "count": 0
           },
           {
            "bin_end": 2297.2,
            "bin_start": 1722.8999999999999,
            "count": 0
           },
           {
            "bin_end": 2871.5,
            "bin_start": 2297.2,
            "count": 0
           },
           {
            "bin_end": 3445.7999999999997,
            "bin_start": 2871.5,
            "count": 0
           },
           {
            "bin_end": 4020.0999999999995,
            "bin_start": 3445.7999999999997,
            "count": 0
           },
           {
            "bin_end": 4594.4,
            "bin_start": 4020.0999999999995,
            "count": 0
           },
           {
            "bin_end": 5168.7,
            "bin_start": 4594.4,
            "count": 0
           },
           {
            "bin_end": 5743,
            "bin_start": 5168.7,
            "count": 1
           }
          ],
          "max": 5743,
          "min": 0,
          "nan_count": 0,
          "unique_count": 8
         }
        },
        {
         "dtype": "float64",
         "name": "AST",
         "stats": {
          "histogram": [
           {
            "bin_end": 574.3,
            "bin_start": 0,
            "count": 7
           },
           {
            "bin_end": 1148.6,
            "bin_start": 574.3,
            "count": 0
           },
           {
            "bin_end": 1722.8999999999999,
            "bin_start": 1148.6,
            "count": 0
           },
           {
            "bin_end": 2297.2,
            "bin_start": 1722.8999999999999,
            "count": 0
           },
           {
            "bin_end": 2871.5,
            "bin_start": 2297.2,
            "count": 0
           },
           {
            "bin_end": 3445.7999999999997,
            "bin_start": 2871.5,
            "count": 0
           },
           {
            "bin_end": 4020.0999999999995,
            "bin_start": 3445.7999999999997,
            "count": 0
           },
           {
            "bin_end": 4594.4,
            "bin_start": 4020.0999999999995,
            "count": 0
           },
           {
            "bin_end": 5168.7,
            "bin_start": 4594.4,
            "count": 0
           },
           {
            "bin_end": 5743,
            "bin_start": 5168.7,
            "count": 1
           }
          ],
          "max": 5743,
          "min": 0,
          "nan_count": 0,
          "unique_count": 8
         }
        },
        {
         "dtype": "float64",
         "name": "HF",
         "stats": {
          "histogram": [
           {
            "bin_end": 574.3,
            "bin_start": 0,
            "count": 7
           },
           {
            "bin_end": 1148.6,
            "bin_start": 574.3,
            "count": 0
           },
           {
            "bin_end": 1722.8999999999999,
            "bin_start": 1148.6,
            "count": 0
           },
           {
            "bin_end": 2297.2,
            "bin_start": 1722.8999999999999,
            "count": 0
           },
           {
            "bin_end": 2871.5,
            "bin_start": 2297.2,
            "count": 0
           },
           {
            "bin_end": 3445.7999999999997,
            "bin_start": 2871.5,
            "count": 0
           },
           {
            "bin_end": 4020.0999999999995,
            "bin_start": 3445.7999999999997,
            "count": 0
           },
           {
            "bin_end": 4594.4,
            "bin_start": 4020.0999999999995,
            "count": 0
           },
           {
            "bin_end": 5168.7,
            "bin_start": 4594.4,
            "count": 0
           },
           {
            "bin_end": 5743,
            "bin_start": 5168.7,
            "count": 1
           }
          ],
          "max": 5743,
          "min": 0,
          "nan_count": 0,
          "unique_count": 8
         }
        },
        {
         "dtype": "float64",
         "name": "AF",
         "stats": {
          "histogram": [
           {
            "bin_end": 574.3,
            "bin_start": 0,
            "count": 7
           },
           {
            "bin_end": 1148.6,
            "bin_start": 574.3,
            "count": 0
           },
           {
            "bin_end": 1722.8999999999999,
            "bin_start": 1148.6,
            "count": 0
           },
           {
            "bin_end": 2297.2,
            "bin_start": 1722.8999999999999,
            "count": 0
           },
           {
            "bin_end": 2871.5,
            "bin_start": 2297.2,
            "count": 0
           },
           {
            "bin_end": 3445.7999999999997,
            "bin_start": 2871.5,
            "count": 0
           },
           {
            "bin_end": 4020.0999999999995,
            "bin_start": 3445.7999999999997,
            "count": 0
           },
           {
            "bin_end": 4594.4,
            "bin_start": 4020.0999999999995,
            "count": 0
           },
           {
            "bin_end": 5168.7,
            "bin_start": 4594.4,
            "count": 0
           },
           {
            "bin_end": 5743,
            "bin_start": 5168.7,
            "count": 1
           }
          ],
          "max": 5743,
          "min": 0,
          "nan_count": 0,
          "unique_count": 8
         }
        },
        {
         "dtype": "float64",
         "name": "HC",
         "stats": {
          "histogram": [
           {
            "bin_end": 574.3,
            "bin_start": 0,
            "count": 7
           },
           {
            "bin_end": 1148.6,
            "bin_start": 574.3,
            "count": 0
           },
           {
            "bin_end": 1722.8999999999999,
            "bin_start": 1148.6,
            "count": 0
           },
           {
            "bin_end": 2297.2,
            "bin_start": 1722.8999999999999,
            "count": 0
           },
           {
            "bin_end": 2871.5,
            "bin_start": 2297.2,
            "count": 0
           },
           {
            "bin_end": 3445.7999999999997,
            "bin_start": 2871.5,
            "count": 0
           },
           {
            "bin_end": 4020.0999999999995,
            "bin_start": 3445.7999999999997,
            "count": 0
           },
           {
            "bin_end": 4594.4,
            "bin_start": 4020.0999999999995,
            "count": 0
           },
           {
            "bin_end": 5168.7,
            "bin_start": 4594.4,
            "count": 0
           },
           {
            "bin_end": 5743,
            "bin_start": 5168.7,
            "count": 1
           }
          ],
          "max": 5743,
          "min": 0,
          "nan_count": 0,
          "unique_count": 8
         }
        },
        {
         "dtype": "float64",
         "name": "AC",
         "stats": {
          "histogram": [
           {
            "bin_end": 574.3,
            "bin_start": 0,
            "count": 7
           },
           {
            "bin_end": 1148.6,
            "bin_start": 574.3,
            "count": 0
           },
           {
            "bin_end": 1722.8999999999999,
            "bin_start": 1148.6,
            "count": 0
           },
           {
            "bin_end": 2297.2,
            "bin_start": 1722.8999999999999,
            "count": 0
           },
           {
            "bin_end": 2871.5,
            "bin_start": 2297.2,
            "count": 0
           },
           {
            "bin_end": 3445.7999999999997,
            "bin_start": 2871.5,
            "count": 0
           },
           {
            "bin_end": 4020.0999999999995,
            "bin_start": 3445.7999999999997,
            "count": 0
           },
           {
            "bin_end": 4594.4,
            "bin_start": 4020.0999999999995,
            "count": 0
           },
           {
            "bin_end": 5168.7,
            "bin_start": 4594.4,
            "count": 0
           },
           {
            "bin_end": 5743,
            "bin_start": 5168.7,
            "count": 1
           }
          ],
          "max": 5743,
          "min": 0,
          "nan_count": 0,
          "unique_count": 8
         }
        },
        {
         "dtype": "float64",
         "name": "HY",
         "stats": {
          "histogram": [
           {
            "bin_end": 574.3,
            "bin_start": 0,
            "count": 7
           },
           {
            "bin_end": 1148.6,
            "bin_start": 574.3,
            "count": 0
           },
           {
            "bin_end": 1722.8999999999999,
            "bin_start": 1148.6,
            "count": 0
           },
           {
            "bin_end": 2297.2,
            "bin_start": 1722.8999999999999,
            "count": 0
           },
           {
            "bin_end": 2871.5,
            "bin_start": 2297.2,
            "count": 0
           },
           {
            "bin_end": 3445.7999999999997,
            "bin_start": 2871.5,
            "count": 0
           },
           {
            "bin_end": 4020.0999999999995,
            "bin_start": 3445.7999999999997,
            "count": 0
           },
           {
            "bin_end": 4594.4,
            "bin_start": 4020.0999999999995,
            "count": 0
           },
           {
            "bin_end": 5168.7,
            "bin_start": 4594.4,
            "count": 0
           },
           {
            "bin_end": 5743,
            "bin_start": 5168.7,
            "count": 1
           }
          ],
          "max": 5743,
          "min": 0,
          "nan_count": 0,
          "unique_count": 8
         }
        },
        {
         "dtype": "float64",
         "name": "AY",
         "stats": {
          "histogram": [
           {
            "bin_end": 574.3,
            "bin_start": 0,
            "count": 7
           },
           {
            "bin_end": 1148.6,
            "bin_start": 574.3,
            "count": 0
           },
           {
            "bin_end": 1722.8999999999999,
            "bin_start": 1148.6,
            "count": 0
           },
           {
            "bin_end": 2297.2,
            "bin_start": 1722.8999999999999,
            "count": 0
           },
           {
            "bin_end": 2871.5,
            "bin_start": 2297.2,
            "count": 0
           },
           {
            "bin_end": 3445.7999999999997,
            "bin_start": 2871.5,
            "count": 0
           },
           {
            "bin_end": 4020.0999999999995,
            "bin_start": 3445.7999999999997,
            "count": 0
           },
           {
            "bin_end": 4594.4,
            "bin_start": 4020.0999999999995,
            "count": 0
           },
           {
            "bin_end": 5168.7,
            "bin_start": 4594.4,
            "count": 0
           },
           {
            "bin_end": 5743,
            "bin_start": 5168.7,
            "count": 1
           }
          ],
          "max": 5743,
          "min": 0,
          "nan_count": 0,
          "unique_count": 8
         }
        },
        {
         "dtype": "float64",
         "name": "HR",
         "stats": {
          "histogram": [
           {
            "bin_end": 574.3,
            "bin_start": 0,
            "count": 7
           },
           {
            "bin_end": 1148.6,
            "bin_start": 574.3,
            "count": 0
           },
           {
            "bin_end": 1722.8999999999999,
            "bin_start": 1148.6,
            "count": 0
           },
           {
            "bin_end": 2297.2,
            "bin_start": 1722.8999999999999,
            "count": 0
           },
           {
            "bin_end": 2871.5,
            "bin_start": 2297.2,
            "count": 0
           },
           {
            "bin_end": 3445.7999999999997,
            "bin_start": 2871.5,
            "count": 0
           },
           {
            "bin_end": 4020.0999999999995,
            "bin_start": 3445.7999999999997,
            "count": 0
           },
           {
            "bin_end": 4594.4,
            "bin_start": 4020.0999999999995,
            "count": 0
           },
           {
            "bin_end": 5168.7,
            "bin_start": 4594.4,
            "count": 0
           },
           {
            "bin_end": 5743,
            "bin_start": 5168.7,
            "count": 1
           }
          ],
          "max": 5743,
          "min": 0,
          "nan_count": 0,
          "unique_count": 5
         }
        },
        {
         "dtype": "float64",
         "name": "AR",
         "stats": {
          "histogram": [
           {
            "bin_end": 574.3,
            "bin_start": 0,
            "count": 7
           },
           {
            "bin_end": 1148.6,
            "bin_start": 574.3,
            "count": 0
           },
           {
            "bin_end": 1722.8999999999999,
            "bin_start": 1148.6,
            "count": 0
           },
           {
            "bin_end": 2297.2,
            "bin_start": 1722.8999999999999,
            "count": 0
           },
           {
            "bin_end": 2871.5,
            "bin_start": 2297.2,
            "count": 0
           },
           {
            "bin_end": 3445.7999999999997,
            "bin_start": 2871.5,
            "count": 0
           },
           {
            "bin_end": 4020.0999999999995,
            "bin_start": 3445.7999999999997,
            "count": 0
           },
           {
            "bin_end": 4594.4,
            "bin_start": 4020.0999999999995,
            "count": 0
           },
           {
            "bin_end": 5168.7,
            "bin_start": 4594.4,
            "count": 0
           },
           {
            "bin_end": 5743,
            "bin_start": 5168.7,
            "count": 1
           }
          ],
          "max": 5743,
          "min": 0,
          "nan_count": 0,
          "unique_count": 5
         }
        },
        {
         "dtype": "float64",
         "name": "SJH",
         "stats": {
          "histogram": [
           {
            "bin_end": 345.636,
            "bin_start": 1.04,
            "count": 7
           },
           {
            "bin_end": 690.232,
            "bin_start": 345.636,
            "count": 0
           },
           {
            "bin_end": 1034.828,
            "bin_start": 690.232,
            "count": 0
           },
           {
            "bin_end": 1379.424,
            "bin_start": 1034.828,
            "count": 0
           },
           {
            "bin_end": 1724.02,
            "bin_start": 1379.424,
            "count": 0
           },
           {
            "bin_end": 2068.616,
            "bin_start": 1724.02,
            "count": 0
           },
           {
            "bin_end": 2413.212,
            "bin_start": 2068.616,
            "count": 0
           },
           {
            "bin_end": 2757.808,
            "bin_start": 2413.212,
            "count": 0
           },
           {
            "bin_end": 3102.404,
            "bin_start": 2757.808,
            "count": 0
           },
           {
            "bin_end": 3447,
            "bin_start": 3102.404,
            "count": 1
           }
          ],
          "max": 3447,
          "min": 1.04,
          "nan_count": 0,
          "unique_count": 8
         }
        },
        {
         "dtype": "float64",
         "name": "SJD",
         "stats": {
          "histogram": [
           {
            "bin_end": 345.95023427952015,
            "bin_start": 1.3891491994668255,
            "count": 7
           },
           {
            "bin_end": 690.5113193595735,
            "bin_start": 345.95023427952015,
            "count": 0
           },
           {
            "bin_end": 1035.0724044396268,
            "bin_start": 690.5113193595735,
            "count": 0
           },
           {
            "bin_end": 1379.63348951968,
            "bin_start": 1035.0724044396268,
            "count": 0
           },
           {
            "bin_end": 1724.1945745997334,
            "bin_start": 1379.63348951968,
            "count": 0
           },
           {
            "bin_end": 2068.7556596797867,
            "bin_start": 1724.1945745997334,
            "count": 0
           },
           {
            "bin_end": 2413.3167447598403,
            "bin_start": 2068.7556596797867,
            "count": 0
           },
           {
            "bin_end": 2757.8778298398934,
            "bin_start": 2413.3167447598403,
            "count": 0
           },
           {
            "bin_end": 3102.4389149199465,
            "bin_start": 2757.8778298398934,
            "count": 0
           },
           {
            "bin_end": 3447,
            "bin_start": 3102.4389149199465,
            "count": 1
           }
          ],
          "max": 3447,
          "min": 1.3891491994668255,
          "nan_count": 0,
          "unique_count": 8
         }
        },
        {
         "dtype": "float64",
         "name": "SJA",
         "stats": {
          "histogram": [
           {
            "bin_end": 345.717,
            "bin_start": 1.13,
            "count": 7
           },
           {
            "bin_end": 690.304,
            "bin_start": 345.717,
            "count": 0
           },
           {
            "bin_end": 1034.891,
            "bin_start": 690.304,
            "count": 0
           },
           {
            "bin_end": 1379.478,
            "bin_start": 1034.891,
            "count": 0
           },
           {
            "bin_end": 1724.065,
            "bin_start": 1379.478,
            "count": 0
           },
           {
            "bin_end": 2068.652,
            "bin_start": 1724.065,
            "count": 0
           },
           {
            "bin_end": 2413.239,
            "bin_start": 2068.652,
            "count": 0
           },
           {
            "bin_end": 2757.826,
            "bin_start": 2413.239,
            "count": 0
           },
           {
            "bin_end": 3102.413,
            "bin_start": 2757.826,
            "count": 0
           },
           {
            "bin_end": 3447,
            "bin_start": 3102.413,
            "count": 1
           }
          ],
          "max": 3447,
          "min": 1.13,
          "nan_count": 0,
          "unique_count": 8
         }
        },
        {
         "dtype": "float64",
         "name": "VCH",
         "stats": {
          "histogram": [
           {
            "bin_end": 574.727,
            "bin_start": 1.03,
            "count": 7
           },
           {
            "bin_end": 1148.424,
            "bin_start": 574.727,
            "count": 0
           },
           {
            "bin_end": 1722.1209999999999,
            "bin_start": 1148.424,
            "count": 0
           },
           {
            "bin_end": 2295.818,
            "bin_start": 1722.1209999999999,
            "count": 0
           },
           {
            "bin_end": 2869.5150000000003,
            "bin_start": 2295.818,
            "count": 0
           },
           {
            "bin_end": 3443.212,
            "bin_start": 2869.5150000000003,
            "count": 0
           },
           {
            "bin_end": 4016.909,
            "bin_start": 3443.212,
            "count": 0
           },
           {
            "bin_end": 4590.606,
            "bin_start": 4016.909,
            "count": 0
           },
           {
            "bin_end": 5164.303,
            "bin_start": 4590.606,
            "count": 0
           },
           {
            "bin_end": 5738,
            "bin_start": 5164.303,
            "count": 1
           }
          ],
          "max": 5738,
          "min": 1.03,
          "nan_count": 0,
          "unique_count": 8
         }
        },
        {
         "dtype": "float64",
         "name": "VCD",
         "stats": {
          "histogram": [
           {
            "bin_end": 575.5003256401312,
            "bin_start": 1.8892507112569166,
            "count": 7
           },
           {
            "bin_end": 1149.1114005690056,
            "bin_start": 575.5003256401312,
            "count": 0
           },
           {
            "bin_end": 1722.72247549788,
            "bin_start": 1149.1114005690056,
            "count": 0
           },
           {
            "bin_end": 2296.3335504267543,
            "bin_start": 1722.72247549788,
            "count": 0
           },
           {
            "bin_end": 2869.944625355629,
            "bin_start": 2296.3335504267543,
            "count": 0
           },
           {
            "bin_end": 3443.555700284503,
            "bin_start": 2869.944625355629,
            "count": 0
           },
           {
            "bin_end": 4017.166775213377,
            "bin_start": 3443.555700284503,
            "count": 0
           },
           {
            "bin_end": 4590.777850142252,
            "bin_start": 4017.166775213377,
            "count": 0
           },
           {
            "bin_end": 5164.388925071126,
            "bin_start": 4590.777850142252,
            "count": 0
           },
           {
            "bin_end": 5738,
            "bin_start": 5164.388925071126,
            "count": 1
           }
          ],
          "max": 5738,
          "min": 1.8892507112569166,
          "nan_count": 0,
          "unique_count": 8
         }
        },
        {
         "dtype": "float64",
         "name": "VCA",
         "stats": {
          "histogram": [
           {
            "bin_end": 574.772,
            "bin_start": 1.08,
            "count": 7
           },
           {
            "bin_end": 1148.464,
            "bin_start": 574.772,
            "count": 0
           },
           {
            "bin_end": 1722.156,
            "bin_start": 1148.464,
            "count": 0
           },
           {
            "bin_end": 2295.848,
            "bin_start": 1722.156,
            "count": 0
           },
           {
            "bin_end": 2869.54,
            "bin_start": 2295.848,
            "count": 0
           },
           {
            "bin_end": 3443.232,
            "bin_start": 2869.54,
            "count": 0
           },
           {
            "bin_end": 4016.924,
            "bin_start": 3443.232,
            "count": 0
           },
           {
            "bin_end": 4590.616,
            "bin_start": 4016.924,
            "count": 0
           },
           {
            "bin_end": 5164.308,
            "bin_start": 4590.616,
            "count": 0
           },
           {
            "bin_end": 5738,
            "bin_start": 5164.308,
            "count": 1
           }
          ],
          "max": 5738,
          "min": 1.08,
          "nan_count": 0,
          "unique_count": 8
         }
        },
        {
         "dtype": "float64",
         "name": "Bb1X2",
         "stats": {
          "histogram": [
           {
            "bin_end": 532,
            "bin_start": 0,
            "count": 7
           },
           {
            "bin_end": 1064,
            "bin_start": 532,
            "count": 0
           },
           {
            "bin_end": 1596,
            "bin_start": 1064,
            "count": 0
           },
           {
            "bin_end": 2128,
            "bin_start": 1596,
            "count": 0
           },
           {
            "bin_end": 2660,
            "bin_start": 2128,
            "count": 0
           },
           {
            "bin_end": 3192,
            "bin_start": 2660,
            "count": 0
           },
           {
            "bin_end": 3724,
            "bin_start": 3192,
            "count": 0
           },
           {
            "bin_end": 4256,
            "bin_start": 3724,
            "count": 0
           },
           {
            "bin_end": 4788,
            "bin_start": 4256,
            "count": 0
           },
           {
            "bin_end": 5320,
            "bin_start": 4788,
            "count": 1
           }
          ],
          "max": 5320,
          "min": 0,
          "nan_count": 0,
          "unique_count": 8
         }
        },
        {
         "dtype": "float64",
         "name": "BbMxH",
         "stats": {
          "histogram": [
           {
            "bin_end": 532.9449999999999,
            "bin_start": 1.05,
            "count": 7
           },
           {
            "bin_end": 1064.84,
            "bin_start": 532.9449999999999,
            "count": 0
           },
           {
            "bin_end": 1596.735,
            "bin_start": 1064.84,
            "count": 0
           },
           {
            "bin_end": 2128.63,
            "bin_start": 1596.735,
            "count": 0
           },
           {
            "bin_end": 2660.525,
            "bin_start": 2128.63,
            "count": 0
           },
           {
            "bin_end": 3192.42,
            "bin_start": 2660.525,
            "count": 0
           },
           {
            "bin_end": 3724.315,
            "bin_start": 3192.42,
            "count": 0
           },
           {
            "bin_end": 4256.21,
            "bin_start": 3724.315,
            "count": 0
           },
           {
            "bin_end": 4788.1050000000005,
            "bin_start": 4256.21,
            "count": 0
           },
           {
            "bin_end": 5320,
            "bin_start": 4788.1050000000005,
            "count": 1
           }
          ],
          "max": 5320,
          "min": 1.05,
          "nan_count": 0,
          "unique_count": 8
         }
        },
        {
         "dtype": "float64",
         "name": "BbAvH",
         "stats": {
          "histogram": [
           {
            "bin_end": 532.927,
            "bin_start": 1.03,
            "count": 7
           },
           {
            "bin_end": 1064.824,
            "bin_start": 532.927,
            "count": 0
           },
           {
            "bin_end": 1596.7210000000002,
            "bin_start": 1064.824,
            "count": 0
           },
           {
            "bin_end": 2128.6180000000004,
            "bin_start": 1596.7210000000002,
            "count": 0
           },
           {
            "bin_end": 2660.5150000000003,
            "bin_start": 2128.6180000000004,
            "count": 0
           },
           {
            "bin_end": 3192.4120000000007,
            "bin_start": 2660.5150000000003,
            "count": 0
           },
           {
            "bin_end": 3724.3090000000007,
            "bin_start": 3192.4120000000007,
            "count": 0
           },
           {
            "bin_end": 4256.206,
            "bin_start": 3724.3090000000007,
            "count": 0
           },
           {
            "bin_end": 4788.103,
            "bin_start": 4256.206,
            "count": 0
           },
           {
            "bin_end": 5320,
            "bin_start": 4788.103,
            "count": 1
           }
          ],
          "max": 5320,
          "min": 1.03,
          "nan_count": 0,
          "unique_count": 8
         }
        },
        {
         "dtype": "float64",
         "name": "BbMxD",
         "stats": {
          "histogram": [
           {
            "bin_end": 534.1004949288672,
            "bin_start": 2.333883254296859,
            "count": 7
           },
           {
            "bin_end": 1065.8671066034374,
            "bin_start": 534.1004949288672,
            "count": 0
           },
           {
            "bin_end": 1597.6337182780076,
            "bin_start": 1065.8671066034374,
            "count": 0
           },
           {
            "bin_end": 2129.400329952578,
            "bin_start": 1597.6337182780076,
            "count": 0
           },
           {
            "bin_end": 2661.1669416271484,
            "bin_start": 2129.400329952578,
            "count": 0
           },
           {
            "bin_end": 3192.9335533017183,
            "bin_start": 2661.1669416271484,
            "count": 0
           },
           {
            "bin_end": 3724.7001649762888,
            "bin_start": 3192.9335533017183,
            "count": 0
           },
           {
            "bin_end": 4256.466776650859,
            "bin_start": 3724.7001649762888,
            "count": 0
           },
           {
            "bin_end": 4788.23338832543,
            "bin_start": 4256.466776650859,
            "count": 0
           },
           {
            "bin_end": 5320,
            "bin_start": 4788.23338832543,
            "count": 1
           }
          ],
          "max": 5320,
          "min": 2.333883254296859,
          "nan_count": 0,
          "unique_count": 8
         }
        },
        {
         "dtype": "float64",
         "name": "BbAvD",
         "stats": {
          "histogram": [
           {
            "bin_end": 533.4727977449169,
            "bin_start": 1.6364419387965723,
            "count": 7
           },
           {
            "bin_end": 1065.3091535510373,
            "bin_start": 533.4727977449169,
            "count": 0
           },
           {
            "bin_end": 1597.1455093571576,
            "bin_start": 1065.3091535510373,
            "count": 0
           },
           {
            "bin_end": 2128.9818651632777,
            "bin_start": 1597.1455093571576,
            "count": 0
           },
           {
            "bin_end": 2660.8182209693978,
            "bin_start": 2128.9818651632777,
            "count": 0
           },
           {
            "bin_end": 3192.6545767755183,
            "bin_start": 2660.8182209693978,
            "count": 0
           },
           {
            "bin_end": 3724.490932581639,
            "bin_start": 3192.6545767755183,
            "count": 0
           },
           {
            "bin_end": 4256.327288387759,
            "bin_start": 3724.490932581639,
            "count": 0
           },
           {
            "bin_end": 4788.163644193879,
            "bin_start": 4256.327288387759,
            "count": 0
           },
           {
            "bin_end": 5320,
            "bin_start": 4788.163644193879,
            "count": 1
           }
          ],
          "max": 5320,
          "min": 1.6364419387965723,
          "nan_count": 0,
          "unique_count": 8
         }
        },
        {
         "dtype": "float64",
         "name": "BbMxA",
         "stats": {
          "histogram": [
           {
            "bin_end": 532.99,
            "bin_start": 1.1,
            "count": 7
           },
           {
            "bin_end": 1064.8799999999999,
            "bin_start": 532.99,
            "count": 0
           },
           {
            "bin_end": 1596.77,
            "bin_start": 1064.8799999999999,
            "count": 0
           },
           {
            "bin_end": 2128.66,
            "bin_start": 1596.77,
            "count": 0
           },
           {
            "bin_end": 2660.5499999999997,
            "bin_start": 2128.66,
            "count": 0
           },
           {
            "bin_end": 3192.44,
            "bin_start": 2660.5499999999997,
            "count": 0
           },
           {
            "bin_end": 3724.33,
            "bin_start": 3192.44,
            "count": 0
           },
           {
            "bin_end": 4256.22,
            "bin_start": 3724.33,
            "count": 0
           },
           {
            "bin_end": 4788.110000000001,
            "bin_start": 4256.22,
            "count": 0
           },
           {
            "bin_end": 5320,
            "bin_start": 4788.110000000001,
            "count": 1
           }
          ],
          "max": 5320,
          "min": 1.1,
          "nan_count": 0,
          "unique_count": 8
         }
        },
        {
         "dtype": "float64",
         "name": "BbAvA",
         "stats": {
          "histogram": [
           {
            "bin_end": 532.981,
            "bin_start": 1.09,
            "count": 7
           },
           {
            "bin_end": 1064.8719999999998,
            "bin_start": 532.981,
            "count": 0
           },
           {
            "bin_end": 1596.7629999999997,
            "bin_start": 1064.8719999999998,
            "count": 0
           },
           {
            "bin_end": 2128.654,
            "bin_start": 1596.7629999999997,
            "count": 0
           },
           {
            "bin_end": 2660.545,
            "bin_start": 2128.654,
            "count": 0
           },
           {
            "bin_end": 3192.4359999999997,
            "bin_start": 2660.545,
            "count": 0
           },
           {
            "bin_end": 3724.3269999999998,
            "bin_start": 3192.4359999999997,
            "count": 0
           },
           {
            "bin_end": 4256.218,
            "bin_start": 3724.3269999999998,
            "count": 0
           },
           {
            "bin_end": 4788.1089999999995,
            "bin_start": 4256.218,
            "count": 0
           },
           {
            "bin_end": 5320,
            "bin_start": 4788.1089999999995,
            "count": 1
           }
          ],
          "max": 5320,
          "min": 1.09,
          "nan_count": 0,
          "unique_count": 8
         }
        },
        {
         "dtype": "float64",
         "name": "BbOU",
         "stats": {
          "histogram": [
           {
            "bin_end": 534.7,
            "bin_start": 3,
            "count": 7
           },
           {
            "bin_end": 1066.4,
            "bin_start": 534.7,
            "count": 0
           },
           {
            "bin_end": 1598.1000000000001,
            "bin_start": 1066.4,
            "count": 0
           },
           {
            "bin_end": 2129.8,
            "bin_start": 1598.1000000000001,
            "count": 0
           },
           {
            "bin_end": 2661.5,
            "bin_start": 2129.8,
            "count": 0
           },
           {
            "bin_end": 3193.2000000000003,
            "bin_start": 2661.5,
            "count": 0
           },
           {
            "bin_end": 3724.9000000000005,
            "bin_start": 3193.2000000000003,
            "count": 0
           },
           {
            "bin_end": 4256.6,
            "bin_start": 3724.9000000000005,
            "count": 0
           },
           {
            "bin_end": 4788.3,
            "bin_start": 4256.6,
            "count": 0
           },
           {
            "bin_end": 5320,
            "bin_start": 4788.3,
            "count": 1
           }
          ],
          "max": 5320,
          "min": 3,
          "nan_count": 0,
          "unique_count": 8
         }
        },
        {
         "dtype": "float64",
         "name": "BbMx>2.5",
         "stats": {
          "histogram": [
           {
            "bin_end": 532.2011406735921,
            "bin_start": 0.3346007484355562,
            "count": 7
           },
           {
            "bin_end": 1064.0676805987487,
            "bin_start": 532.2011406735921,
            "count": 0
           },
           {
            "bin_end": 1595.9342205239052,
            "bin_start": 1064.0676805987487,
            "count": 0
           },
           {
            "bin_end": 2127.8007604490617,
            "bin_start": 1595.9342205239052,
            "count": 0
           },
           {
            "bin_end": 2659.6673003742185,
            "bin_start": 2127.8007604490617,
            "count": 0
           },
           {
            "bin_end": 3191.533840299375,
            "bin_start": 2659.6673003742185,
            "count": 0
           },
           {
            "bin_end": 3723.400380224531,
            "bin_start": 3191.533840299375,
            "count": 0
           },
           {
            "bin_end": 4255.266920149687,
            "bin_start": 3723.400380224531,
            "count": 0
           },
           {
            "bin_end": 4787.133460074844,
            "bin_start": 4255.266920149687,
            "count": 0
           },
           {
            "bin_end": 5319,
            "bin_start": 4787.133460074844,
            "count": 1
           }
          ],
          "max": 5319,
          "min": 0.3346007484355562,
          "nan_count": 0,
          "unique_count": 8
         }
        },
        {
         "dtype": "float64",
         "name": "BbAv>2.5",
         "stats": {
          "histogram": [
           {
            "bin_end": 532.1687368239591,
            "bin_start": 0.2985964710656923,
            "count": 7
           },
           {
            "bin_end": 1064.0388771768523,
            "bin_start": 532.1687368239591,
            "count": 0
           },
           {
            "bin_end": 1595.9090175297456,
            "bin_start": 1064.0388771768523,
            "count": 0
           },
           {
            "bin_end": 2127.779157882639,
            "bin_start": 1595.9090175297456,
            "count": 0
           },
           {
            "bin_end": 2659.6492982355326,
            "bin_start": 2127.779157882639,
            "count": 0
           },
           {
            "bin_end": 3191.5194385884256,
            "bin_start": 2659.6492982355326,
            "count": 0
           },
           {
            "bin_end": 3723.389578941319,
            "bin_start": 3191.5194385884256,
            "count": 0
           },
           {
            "bin_end": 4255.259719294213,
            "bin_start": 3723.389578941319,
            "count": 0
           },
           {
            "bin_end": 4787.129859647106,
            "bin_start": 4255.259719294213,
            "count": 0
           },
           {
            "bin_end": 5319,
            "bin_start": 4787.129859647106,
            "count": 1
           }
          ],
          "max": 5319,
          "min": 0.2985964710656923,
          "nan_count": 0,
          "unique_count": 8
         }
        },
        {
         "dtype": "float64",
         "name": "BbMx<2.5",
         "stats": {
          "histogram": [
           {
            "bin_end": 532.4795292592639,
            "bin_start": 0.64392139918215,
            "count": 7
           },
           {
            "bin_end": 1064.3151371193455,
            "bin_start": 532.4795292592639,
            "count": 0
           },
           {
            "bin_end": 1596.1507449794271,
            "bin_start": 1064.3151371193455,
            "count": 0
           },
           {
            "bin_end": 2127.986352839509,
            "bin_start": 1596.1507449794271,
            "count": 0
           },
           {
            "bin_end": 2659.821960699591,
            "bin_start": 2127.986352839509,
            "count": 0
           },
           {
            "bin_end": 3191.657568559672,
            "bin_start": 2659.821960699591,
            "count": 0
           },
           {
            "bin_end": 3723.493176419754,
            "bin_start": 3191.657568559672,
            "count": 0
           },
           {
            "bin_end": 4255.328784279836,
            "bin_start": 3723.493176419754,
            "count": 0
           },
           {
            "bin_end": 4787.164392139918,
            "bin_start": 4255.328784279836,
            "count": 0
           },
           {
            "bin_end": 5319,
            "bin_start": 4787.164392139918,
            "count": 1
           }
          ],
          "max": 5319,
          "min": 0.64392139918215,
          "nan_count": 0,
          "unique_count": 8
         }
        },
        {
         "dtype": "float64",
         "name": "BbAv<2.5",
         "stats": {
          "histogram": [
           {
            "bin_end": 532.3969977436535,
            "bin_start": 0.5522197151704887,
            "count": 7
           },
           {
            "bin_end": 1064.2417757721364,
            "bin_start": 532.3969977436535,
            "count": 0
           },
           {
            "bin_end": 1596.0865538006194,
            "bin_start": 1064.2417757721364,
            "count": 0
           },
           {
            "bin_end": 2127.9313318291024,
            "bin_start": 1596.0865538006194,
            "count": 0
           },
           {
            "bin_end": 2659.7761098575857,
            "bin_start": 2127.9313318291024,
            "count": 0
           },
           {
            "bin_end": 3191.6208878860684,
            "bin_start": 2659.7761098575857,
            "count": 0
           },
           {
            "bin_end": 3723.465665914551,
            "bin_start": 3191.6208878860684,
            "count": 0
           },
           {
            "bin_end": 4255.310443943034,
            "bin_start": 3723.465665914551,
            "count": 0
           },
           {
            "bin_end": 4787.155221971518,
            "bin_start": 4255.310443943034,
            "count": 0
           },
           {
            "bin_end": 5319,
            "bin_start": 4787.155221971518,
            "count": 1
           }
          ],
          "max": 5319,
          "min": 0.5522197151704887,
          "nan_count": 0,
          "unique_count": 8
         }
        },
        {
         "dtype": "float64",
         "name": "BbAH",
         "stats": {
          "histogram": [
           {
            "bin_end": 531.9,
            "bin_start": 1,
            "count": 7
           },
           {
            "bin_end": 1062.8,
            "bin_start": 531.9,
            "count": 0
           },
           {
            "bin_end": 1593.6999999999998,
            "bin_start": 1062.8,
            "count": 0
           },
           {
            "bin_end": 2124.6,
            "bin_start": 1593.6999999999998,
            "count": 0
           },
           {
            "bin_end": 2655.5,
            "bin_start": 2124.6,
            "count": 0
           },
           {
            "bin_end": 3186.3999999999996,
            "bin_start": 2655.5,
            "count": 0
           },
           {
            "bin_end": 3717.2999999999997,
            "bin_start": 3186.3999999999996,
            "count": 0
           },
           {
            "bin_end": 4248.2,
            "bin_start": 3717.2999999999997,
            "count": 0
           },
           {
            "bin_end": 4779.099999999999,
            "bin_start": 4248.2,
            "count": 0
           },
           {
            "bin_end": 5310,
            "bin_start": 4779.099999999999,
            "count": 1
           }
          ],
          "max": 5310,
          "min": 1,
          "nan_count": 0,
          "unique_count": 8
         }
        },
        {
         "dtype": "float64",
         "name": "BbAHh",
         "stats": {
          "histogram": [
           {
            "bin_end": 527.85,
            "bin_start": -3.5,
            "count": 7
           },
           {
            "bin_end": 1059.2,
            "bin_start": 527.85,
            "count": 0
           },
           {
            "bin_end": 1590.5500000000002,
            "bin_start": 1059.2,
            "count": 0
           },
           {
            "bin_end": 2121.9,
            "bin_start": 1590.5500000000002,
            "count": 0
           },
           {
            "bin_end": 2653.25,
            "bin_start": 2121.9,
            "count": 0
           },
           {
            "bin_end": 3184.6000000000004,
            "bin_start": 2653.25,
            "count": 0
           },
           {
            "bin_end": 3715.9500000000003,
            "bin_start": 3184.6000000000004,
            "count": 0
           },
           {
            "bin_end": 4247.3,
            "bin_start": 3715.9500000000003,
            "count": 0
           },
           {
            "bin_end": 4778.650000000001,
            "bin_start": 4247.3,
            "count": 0
           },
           {
            "bin_end": 5310,
            "bin_start": 4778.650000000001,
            "count": 1
           }
          ],
          "max": 5310,
          "min": -3.5,
          "nan_count": 0,
          "unique_count": 8
         }
        },
        {
         "dtype": "float64",
         "name": "BbMxAHH",
         "stats": {
          "histogram": [
           {
            "bin_end": 531.3862982160011,
            "bin_start": 0.4292202400012114,
            "count": 7
           },
           {
            "bin_end": 1062.3433761920012,
            "bin_start": 531.3862982160011,
            "count": 0
           },
           {
            "bin_end": 1593.3004541680011,
            "bin_start": 1062.3433761920012,
            "count": 0
           },
           {
            "bin_end": 2124.257532144001,
            "bin_start": 1593.3004541680011,
            "count": 0
           },
           {
            "bin_end": 2655.2146101200005,
            "bin_start": 2124.257532144001,
            "count": 0
           },
           {
            "bin_end": 3186.1716880960007,
            "bin_start": 2655.2146101200005,
            "count": 0
           },
           {
            "bin_end": 3717.128766072001,
            "bin_start": 3186.1716880960007,
            "count": 0
           },
           {
            "bin_end": 4248.085844048001,
            "bin_start": 3717.128766072001,
            "count": 0
           },
           {
            "bin_end": 4779.042922024,
            "bin_start": 4248.085844048001,
            "count": 0
           },
           {
            "bin_end": 5310,
            "bin_start": 4779.042922024,
            "count": 1
           }
          ],
          "max": 5310,
          "min": 0.4292202400012114,
          "nan_count": 0,
          "unique_count": 8
         }
        },
        {
         "dtype": "float64",
         "name": "BbAvAHH",
         "stats": {
          "histogram": [
           {
            "bin_end": 531.3275556298585,
            "bin_start": 0.36395069984269013,
            "count": 7
           },
           {
            "bin_end": 1062.2911605598742,
            "bin_start": 531.3275556298585,
            "count": 0
           },
           {
            "bin_end": 1593.2547654898901,
            "bin_start": 1062.2911605598742,
            "count": 0
           },
           {
            "bin_end": 2124.218370419906,
            "bin_start": 1593.2547654898901,
            "count": 0
           },
           {
            "bin_end": 2655.1819753499217,
            "bin_start": 2124.218370419906,
            "count": 0
           },
           {
            "bin_end": 3186.145580279938,
            "bin_start": 2655.1819753499217,
            "count": 0
           },
           {
            "bin_end": 3717.1091852099535,
            "bin_start": 3186.145580279938,
            "count": 0
           },
           {
            "bin_end": 4248.072790139969,
            "bin_start": 3717.1091852099535,
            "count": 0
           },
           {
            "bin_end": 4779.036395069985,
            "bin_start": 4248.072790139969,
            "count": 0
           },
           {
            "bin_end": 5310,
            "bin_start": 4779.036395069985,
            "count": 1
           }
          ],
          "max": 5310,
          "min": 0.36395069984269013,
          "nan_count": 0,
          "unique_count": 8
         }
        },
        {
         "dtype": "float64",
         "name": "BbMxAHA",
         "stats": {
          "histogram": [
           {
            "bin_end": 531.5448249477887,
            "bin_start": 0.6053610530985598,
            "count": 7
           },
           {
            "bin_end": 1062.4842888424787,
            "bin_start": 531.5448249477887,
            "count": 0
           },
           {
            "bin_end": 1593.4237527371688,
            "bin_start": 1062.4842888424787,
            "count": 0
           },
           {
            "bin_end": 2124.363216631859,
            "bin_start": 1593.4237527371688,
            "count": 0
           },
           {
            "bin_end": 2655.302680526549,
            "bin_start": 2124.363216631859,
            "count": 0
           },
           {
            "bin_end": 3186.242144421239,
            "bin_start": 2655.302680526549,
            "count": 0
           },
           {
            "bin_end": 3717.181608315929,
            "bin_start": 3186.242144421239,
            "count": 0
           },
           {
            "bin_end": 4248.12107221062,
            "bin_start": 3717.181608315929,
            "count": 0
           },
           {
            "bin_end": 4779.06053610531,
            "bin_start": 4248.12107221062,
            "count": 0
           },
           {
            "bin_end": 5310,
            "bin_start": 4779.06053610531,
            "count": 1
           }
          ],
          "max": 5310,
          "min": 0.6053610530985598,
          "nan_count": 0,
          "unique_count": 8
         }
        },
        {
         "dtype": "float64",
         "name": "BbAvAHA",
         "stats": {
          "histogram": [
           {
            "bin_end": 531.4523073885885,
            "bin_start": 0.5025637650983392,
            "count": 7
           },
           {
            "bin_end": 1062.4020510120786,
            "bin_start": 531.4523073885885,
            "count": 0
           },
           {
            "bin_end": 1593.3517946355687,
            "bin_start": 1062.4020510120786,
            "count": 0
           },
           {
            "bin_end": 2124.301538259059,
            "bin_start": 1593.3517946355687,
            "count": 0
           },
           {
            "bin_end": 2655.251281882549,
            "bin_start": 2124.301538259059,
            "count": 0
           },
           {
            "bin_end": 3186.201025506039,
            "bin_start": 2655.251281882549,
            "count": 0
           },
           {
            "bin_end": 3717.150769129529,
            "bin_start": 3186.201025506039,
            "count": 0
           },
           {
            "bin_end": 4248.10051275302,
            "bin_start": 3717.150769129529,
            "count": 0
           },
           {
            "bin_end": 4779.05025637651,
            "bin_start": 4248.10051275302,
            "count": 0
           },
           {
            "bin_end": 5310,
            "bin_start": 4779.05025637651,
            "count": 1
           }
          ],
          "max": 5310,
          "min": 0.5025637650983392,
          "nan_count": 0,
          "unique_count": 8
         }
        },
        {
         "dtype": "float64",
         "name": "BSH",
         "stats": {
          "histogram": [
           {
            "bin_end": 228.936,
            "bin_start": 1.04,
            "count": 7
           },
           {
            "bin_end": 456.83200000000005,
            "bin_start": 228.936,
            "count": 0
           },
           {
            "bin_end": 684.7280000000001,
            "bin_start": 456.83200000000005,
            "count": 0
           },
           {
            "bin_end": 912.624,
            "bin_start": 684.7280000000001,
            "count": 0
           },
           {
            "bin_end": 1140.52,
            "bin_start": 912.624,
            "count": 0
           },
           {
            "bin_end": 1368.4160000000002,
            "bin_start": 1140.52,
            "count": 0
           },
           {
            "bin_end": 1596.3120000000001,
            "bin_start": 1368.4160000000002,
            "count": 0
           },
           {
            "bin_end": 1824.208,
            "bin_start": 1596.3120000000001,
            "count": 0
           },
           {
            "bin_end": 2052.1040000000003,
            "bin_start": 1824.208,
            "count": 0
           },
           {
            "bin_end": 2280,
            "bin_start": 2052.1040000000003,
            "count": 1
           }
          ],
          "max": 2280,
          "min": 1.04,
          "nan_count": 0,
          "unique_count": 8
         }
        },
        {
         "dtype": "float64",
         "name": "BSD",
         "stats": {
          "histogram": [
           {
            "bin_end": 229.08269544944272,
            "bin_start": 1.202994943825241,
            "count": 7
           },
           {
            "bin_end": 456.9623959550602,
            "bin_start": 229.08269544944272,
            "count": 0
           },
           {
            "bin_end": 684.8420964606777,
            "bin_start": 456.9623959550602,
            "count": 0
           },
           {
            "bin_end": 912.7217969662952,
            "bin_start": 684.8420964606777,
            "count": 0
           },
           {
            "bin_end": 1140.6014974719126,
            "bin_start": 912.7217969662952,
            "count": 0
           },
           {
            "bin_end": 1368.48119797753,
            "bin_start": 1140.6014974719126,
            "count": 0
           },
           {
            "bin_end": 1596.3608984831476,
            "bin_start": 1368.48119797753,
            "count": 0
           },
           {
            "bin_end": 1824.240598988765,
            "bin_start": 1596.3608984831476,
            "count": 0
           },
           {
            "bin_end": 2052.1202994943824,
            "bin_start": 1824.240598988765,
            "count": 0
           },
           {
            "bin_end": 2280,
            "bin_start": 2052.1202994943824,
            "count": 1
           }
          ],
          "max": 2280,
          "min": 1.202994943825241,
          "nan_count": 0,
          "unique_count": 8
         }
        },
        {
         "dtype": "float64",
         "name": "BSA",
         "stats": {
          "histogram": [
           {
            "bin_end": 229.026,
            "bin_start": 1.14,
            "count": 7
           },
           {
            "bin_end": 456.91200000000003,
            "bin_start": 229.026,
            "count": 0
           },
           {
            "bin_end": 684.7980000000001,
            "bin_start": 456.91200000000003,
            "count": 0
           },
           {
            "bin_end": 912.6840000000001,
            "bin_start": 684.7980000000001,
            "count": 0
           },
           {
            "bin_end": 1140.5700000000002,
            "bin_start": 912.6840000000001,
            "count": 0
           },
           {
            "bin_end": 1368.4560000000004,
            "bin_start": 1140.5700000000002,
            "count": 0
           },
           {
            "bin_end": 1596.3420000000003,
            "bin_start": 1368.4560000000004,
            "count": 0
           },
           {
            "bin_end": 1824.2280000000003,
            "bin_start": 1596.3420000000003,
            "count": 0
           },
           {
            "bin_end": 2052.114,
            "bin_start": 1824.2280000000003,
            "count": 0
           },
           {
            "bin_end": 2280,
            "bin_start": 2052.114,
            "count": 1
           }
          ],
          "max": 2280,
          "min": 1.14,
          "nan_count": 0,
          "unique_count": 8
         }
        },
        {
         "dtype": "float64",
         "name": "PSH",
         "stats": {
          "histogram": [
           {
            "bin_end": 308.73600000000005,
            "bin_start": 1.04,
            "count": 7
           },
           {
            "bin_end": 616.432,
            "bin_start": 308.73600000000005,
            "count": 0
           },
           {
            "bin_end": 924.128,
            "bin_start": 616.432,
            "count": 0
           },
           {
            "bin_end": 1231.824,
            "bin_start": 924.128,
            "count": 0
           },
           {
            "bin_end": 1539.52,
            "bin_start": 1231.824,
            "count": 0
           },
           {
            "bin_end": 1847.2160000000001,
            "bin_start": 1539.52,
            "count": 0
           },
           {
            "bin_end": 2154.9120000000003,
            "bin_start": 1847.2160000000001,
            "count": 0
           },
           {
            "bin_end": 2462.608,
            "bin_start": 2154.9120000000003,
            "count": 0
           },
           {
            "bin_end": 2770.304,
            "bin_start": 2462.608,
            "count": 0
           },
           {
            "bin_end": 3078,
            "bin_start": 2770.304,
            "count": 1
           }
          ],
          "max": 3078,
          "min": 1.04,
          "nan_count": 0,
          "unique_count": 8
         }
        },
        {
         "dtype": "float64",
         "name": "PSD",
         "stats": {
          "histogram": [
           {
            "bin_end": 310.0152314767912,
            "bin_start": 2.461368307545786,
            "count": 7
           },
           {
            "bin_end": 617.5690946460365,
            "bin_start": 310.0152314767912,
            "count": 0
           },
           {
            "bin_end": 925.1229578152819,
            "bin_start": 617.5690946460365,
            "count": 0
           },
           {
            "bin_end": 1232.6768209845275,
            "bin_start": 925.1229578152819,
            "count": 0
           },
           {
            "bin_end": 1540.230684153773,
            "bin_start": 1232.6768209845275,
            "count": 0
           },
           {
            "bin_end": 1847.7845473230182,
            "bin_start": 1540.230684153773,
            "count": 0
           },
           {
            "bin_end": 2155.338410492264,
            "bin_start": 1847.7845473230182,
            "count": 0
           },
           {
            "bin_end": 2462.892273661509,
            "bin_start": 2155.338410492264,
            "count": 0
           },
           {
            "bin_end": 2770.4461368307543,
            "bin_start": 2462.892273661509,
            "count": 0
           },
           {
            "bin_end": 3078,
            "bin_start": 2770.4461368307543,
            "count": 1
           }
          ],
          "max": 3078,
          "min": 2.461368307545786,
          "nan_count": 0,
          "unique_count": 8
         }
        },
        {
         "dtype": "float64",
         "name": "PSA",
         "stats": {
          "histogram": [
           {
            "bin_end": 308.78099999999995,
            "bin_start": 1.09,
            "count": 7
           },
           {
            "bin_end": 616.472,
            "bin_start": 308.78099999999995,
            "count": 0
           },
           {
            "bin_end": 924.1629999999999,
            "bin_start": 616.472,
            "count": 0
           },
           {
            "bin_end": 1231.8539999999998,
            "bin_start": 924.1629999999999,
            "count": 0
           },
           {
            "bin_end": 1539.5449999999998,
            "bin_start": 1231.8539999999998,
            "count": 0
           },
           {
            "bin_end": 1847.2359999999996,
            "bin_start": 1539.5449999999998,
            "count": 0
           },
           {
            "bin_end": 2154.927,
            "bin_start": 1847.2359999999996,
            "count": 0
           },
           {
            "bin_end": 2462.618,
            "bin_start": 2154.927,
            "count": 0
           },
           {
            "bin_end": 2770.3089999999997,
            "bin_start": 2462.618,
            "count": 0
           },
           {
            "bin_end": 3078,
            "bin_start": 2770.3089999999997,
            "count": 1
           }
          ],
          "max": 3078,
          "min": 1.09,
          "nan_count": 0,
          "unique_count": 8
         }
        },
        {
         "dtype": "float64",
         "name": "PSCH",
         "stats": {
          "histogram": [
           {
            "bin_end": 309.145,
            "bin_start": 1.05,
            "count": 7
           },
           {
            "bin_end": 617.2399999999999,
            "bin_start": 309.145,
            "count": 0
           },
           {
            "bin_end": 925.3349999999998,
            "bin_start": 617.2399999999999,
            "count": 0
           },
           {
            "bin_end": 1233.4299999999998,
            "bin_start": 925.3349999999998,
            "count": 0
           },
           {
            "bin_end": 1541.5249999999999,
            "bin_start": 1233.4299999999998,
            "count": 0
           },
           {
            "bin_end": 1849.6199999999997,
            "bin_start": 1541.5249999999999,
            "count": 0
           },
           {
            "bin_end": 2157.715,
            "bin_start": 1849.6199999999997,
            "count": 0
           },
           {
            "bin_end": 2465.81,
            "bin_start": 2157.715,
            "count": 0
           },
           {
            "bin_end": 2773.9049999999997,
            "bin_start": 2465.81,
            "count": 0
           },
           {
            "bin_end": 3082,
            "bin_start": 2773.9049999999997,
            "count": 1
           }
          ],
          "max": 3082,
          "min": 1.05,
          "nan_count": 0,
          "unique_count": 8
         }
        },
        {
         "dtype": "float64",
         "name": "PSCD",
         "stats": {
          "histogram": [
           {
            "bin_end": 310.324,
            "bin_start": 2.36,
            "count": 7
           },
           {
            "bin_end": 618.288,
            "bin_start": 310.324,
            "count": 0
           },
           {
            "bin_end": 926.2520000000001,
            "bin_start": 618.288,
            "count": 0
           },
           {
            "bin_end": 1234.216,
            "bin_start": 926.2520000000001,
            "count": 0
           },
           {
            "bin_end": 1542.1799999999998,
            "bin_start": 1234.216,
            "count": 0
           },
           {
            "bin_end": 1850.144,
            "bin_start": 1542.1799999999998,
            "count": 0
           },
           {
            "bin_end": 2158.108,
            "bin_start": 1850.144,
            "count": 0
           },
           {
            "bin_end": 2466.072,
            "bin_start": 2158.108,
            "count": 0
           },
           {
            "bin_end": 2774.036,
            "bin_start": 2466.072,
            "count": 0
           },
           {
            "bin_end": 3082,
            "bin_start": 2774.036,
            "count": 1
           }
          ],
          "max": 3082,
          "min": 2.36,
          "nan_count": 0,
          "unique_count": 8
         }
        },
        {
         "dtype": "float64",
         "name": "PSCA",
         "stats": {
          "histogram": [
           {
            "bin_end": 309.17199999999997,
            "bin_start": 1.08,
            "count": 7
           },
           {
            "bin_end": 617.264,
            "bin_start": 309.17199999999997,
            "count": 0
           },
           {
            "bin_end": 925.356,
            "bin_start": 617.264,
            "count": 0
           },
           {
            "bin_end": 1233.4479999999999,
            "bin_start": 925.356,
            "count": 0
           },
           {
            "bin_end": 1541.54,
            "bin_start": 1233.4479999999999,
            "count": 0
           },
           {
            "bin_end": 1849.6319999999998,
            "bin_start": 1541.54,
            "count": 0
           },
           {
            "bin_end": 2157.7239999999997,
            "bin_start": 1849.6319999999998,
            "count": 0
           },
           {
            "bin_end": 2465.816,
            "bin_start": 2157.7239999999997,
            "count": 0
           },
           {
            "bin_end": 2773.908,
            "bin_start": 2465.816,
            "count": 0
           },
           {
            "bin_end": 3082,
            "bin_start": 2773.908,
            "count": 1
           }
          ],
          "max": 3082,
          "min": 1.08,
          "nan_count": 0,
          "unique_count": 8
         }
        },
        {
         "dtype": "float64",
         "name": "MaxH",
         "stats": {
          "histogram": [
           {
            "bin_end": 43.343999999999994,
            "bin_start": 1.16,
            "count": 7
           },
           {
            "bin_end": 85.52799999999999,
            "bin_start": 43.343999999999994,
            "count": 0
           },
           {
            "bin_end": 127.71199999999999,
            "bin_start": 85.52799999999999,
            "count": 0
           },
           {
            "bin_end": 169.896,
            "bin_start": 127.71199999999999,
            "count": 0
           },
           {
            "bin_end": 212.07999999999998,
            "bin_start": 169.896,
            "count": 0
           },
           {
            "bin_end": 254.26399999999998,
            "bin_start": 212.07999999999998,
            "count": 0
           },
           {
            "bin_end": 296.44800000000004,
            "bin_start": 254.26399999999998,
            "count": 0
           },
           {
            "bin_end": 338.632,
            "bin_start": 296.44800000000004,
            "count": 0
           },
           {
            "bin_end": 380.816,
            "bin_start": 338.632,
            "count": 0
           },
           {
            "bin_end": 423,
            "bin_start": 380.816,
            "count": 1
           }
          ],
          "max": 423,
          "min": 1.16,
          "nan_count": 0,
          "unique_count": 8
         }
        },
        {
         "dtype": "float64",
         "name": "MaxD",
         "stats": {
          "histogram": [
           {
            "bin_end": 43.37092891691475,
            "bin_start": 1.1899210187941665,
            "count": 7
           },
           {
            "bin_end": 85.55193681503533,
            "bin_start": 43.37092891691475,
            "count": 0
           },
           {
            "bin_end": 127.73294471315592,
            "bin_start": 85.55193681503533,
            "count": 0
           },
           {
            "bin_end": 169.9139526112765,
            "bin_start": 127.73294471315592,
            "count": 0
           },
           {
            "bin_end": 212.09496050939708,
            "bin_start": 169.9139526112765,
            "count": 0
           },
           {
            "bin_end": 254.27596840751767,
            "bin_start": 212.09496050939708,
            "count": 0
           },
           {
            "bin_end": 296.45697630563825,
            "bin_start": 254.27596840751767,
            "count": 0
           },
           {
            "bin_end": 338.63798420375883,
            "bin_start": 296.45697630563825,
            "count": 0
           },
           {
            "bin_end": 380.8189921018794,
            "bin_start": 338.63798420375883,
            "count": 0
           },
           {
            "bin_end": 423,
            "bin_start": 380.8189921018794,
            "count": 1
           }
          ],
          "max": 423,
          "min": 1.1899210187941665,
          "nan_count": 0,
          "unique_count": 8
         }
        },
        {
         "dtype": "float64",
         "name": "MaxA",
         "stats": {
          "histogram": [
           {
            "bin_end": 43.488,
            "bin_start": 1.32,
            "count": 7
           },
           {
            "bin_end": 85.65599999999999,
            "bin_start": 43.488,
            "count": 0
           },
           {
            "bin_end": 127.82399999999998,
            "bin_start": 85.65599999999999,
            "count": 0
           },
           {
            "bin_end": 169.992,
            "bin_start": 127.82399999999998,
            "count": 0
           },
           {
            "bin_end": 212.16,
            "bin_start": 169.992,
            "count": 0
           },
           {
            "bin_end": 254.32799999999997,
            "bin_start": 212.16,
            "count": 0
           },
           {
            "bin_end": 296.496,
            "bin_start": 254.32799999999997,
            "count": 0
           },
           {
            "bin_end": 338.664,
            "bin_start": 296.496,
            "count": 0
           },
           {
            "bin_end": 380.832,
            "bin_start": 338.664,
            "count": 0
           },
           {
            "bin_end": 423,
            "bin_start": 380.832,
            "count": 1
           }
          ],
          "max": 423,
          "min": 1.32,
          "nan_count": 0,
          "unique_count": 8
         }
        },
        {
         "dtype": "float64",
         "name": "AvgH",
         "stats": {
          "histogram": [
           {
            "bin_end": 43.308,
            "bin_start": 1.12,
            "count": 7
           },
           {
            "bin_end": 85.49600000000001,
            "bin_start": 43.308,
            "count": 0
           },
           {
            "bin_end": 127.68400000000001,
            "bin_start": 85.49600000000001,
            "count": 0
           },
           {
            "bin_end": 169.872,
            "bin_start": 127.68400000000001,
            "count": 0
           },
           {
            "bin_end": 212.06,
            "bin_start": 169.872,
            "count": 0
           },
           {
            "bin_end": 254.24800000000002,
            "bin_start": 212.06,
            "count": 0
           },
           {
            "bin_end": 296.43600000000004,
            "bin_start": 254.24800000000002,
            "count": 0
           },
           {
            "bin_end": 338.624,
            "bin_start": 296.43600000000004,
            "count": 0
           },
           {
            "bin_end": 380.812,
            "bin_start": 338.624,
            "count": 0
           },
           {
            "bin_end": 423,
            "bin_start": 380.812,
            "count": 1
           }
          ],
          "max": 423,
          "min": 1.12,
          "nan_count": 0,
          "unique_count": 8
         }
        },
        {
         "dtype": "float64",
         "name": "AvgD",
         "stats": {
          "histogram": [
           {
            "bin_end": 43.23669654691061,
            "bin_start": 1.040773941011784,
            "count": 7
           },
           {
            "bin_end": 85.43261915280942,
            "bin_start": 43.23669654691061,
            "count": 0
           },
           {
            "bin_end": 127.62854175870824,
            "bin_start": 85.43261915280942,
            "count": 0
           },
           {
            "bin_end": 169.82446436460708,
            "bin_start": 127.62854175870824,
            "count": 0
           },
           {
            "bin_end": 212.0203869705059,
            "bin_start": 169.82446436460708,
            "count": 0
           },
           {
            "bin_end": 254.2163095764047,
            "bin_start": 212.0203869705059,
            "count": 0
           },
           {
            "bin_end": 296.4122321823035,
            "bin_start": 254.2163095764047,
            "count": 0
           },
           {
            "bin_end": 338.60815478820234,
            "bin_start": 296.4122321823035,
            "count": 0
           },
           {
            "bin_end": 380.80407739410117,
            "bin_start": 338.60815478820234,
            "count": 0
           },
           {
            "bin_end": 423,
            "bin_start": 380.80407739410117,
            "count": 1
           }
          ],
          "max": 423,
          "min": 1.040773941011784,
          "nan_count": 0,
          "unique_count": 8
         }
        },
        {
         "dtype": "float64",
         "name": "AvgA",
         "stats": {
          "histogram": [
           {
            "bin_end": 43.452000000000005,
            "bin_start": 1.28,
            "count": 7
           },
           {
            "bin_end": 85.62400000000001,
            "bin_start": 43.452000000000005,
            "count": 0
           },
           {
            "bin_end": 127.79600000000002,
            "bin_start": 85.62400000000001,
            "count": 0
           },
           {
            "bin_end": 169.96800000000002,
            "bin_start": 127.79600000000002,
            "count": 0
           },
           {
            "bin_end": 212.14000000000001,
            "bin_start": 169.96800000000002,
            "count": 0
           },
           {
            "bin_end": 254.31200000000004,
            "bin_start": 212.14000000000001,
            "count": 0
           },
           {
            "bin_end": 296.484,
            "bin_start": 254.31200000000004,
            "count": 0
           },
           {
            "bin_end": 338.656,
            "bin_start": 296.484,
            "count": 0
           },
           {
            "bin_end": 380.82800000000003,
            "bin_start": 338.656,
            "count": 0
           },
           {
            "bin_end": 423,
            "bin_start": 380.82800000000003,
            "count": 1
           }
          ],
          "max": 423,
          "min": 1.28,
          "nan_count": 0,
          "unique_count": 8
         }
        },
        {
         "dtype": "float64",
         "name": "P>2.5",
         "stats": {
          "histogram": [
           {
            "bin_end": 42.504473167126086,
            "bin_start": 0.449414630140098,
            "count": 7
           },
           {
            "bin_end": 84.55953170411208,
            "bin_start": 42.504473167126086,
            "count": 0
           },
           {
            "bin_end": 126.61459024109806,
            "bin_start": 84.55953170411208,
            "count": 0
           },
           {
            "bin_end": 168.66964877808405,
            "bin_start": 126.61459024109806,
            "count": 0
           },
           {
            "bin_end": 210.72470731507005,
            "bin_start": 168.66964877808405,
            "count": 0
           },
           {
            "bin_end": 252.77976585205602,
            "bin_start": 210.72470731507005,
            "count": 0
           },
           {
            "bin_end": 294.834824389042,
            "bin_start": 252.77976585205602,
            "count": 0
           },
           {
            "bin_end": 336.889882926028,
            "bin_start": 294.834824389042,
            "count": 0
           },
           {
            "bin_end": 378.944941463014,
            "bin_start": 336.889882926028,
            "count": 0
           },
           {
            "bin_end": 421,
            "bin_start": 378.944941463014,
            "count": 1
           }
          ],
          "max": 421,
          "min": 0.449414630140098,
          "nan_count": 0,
          "unique_count": 8
         }
        },
        {
         "dtype": "float64",
         "name": "P<2.5",
         "stats": {
          "histogram": [
           {
            "bin_end": 42.50163968590287,
            "bin_start": 0.44626631766986313,
            "count": 7
           },
           {
            "bin_end": 84.5570130541359,
            "bin_start": 42.50163968590287,
            "count": 0
           },
           {
            "bin_end": 126.61238642236891,
            "bin_start": 84.5570130541359,
            "count": 0
           },
           {
            "bin_end": 168.6677597906019,
            "bin_start": 126.61238642236891,
            "count": 0
           },
           {
            "bin_end": 210.7231331588349,
            "bin_start": 168.6677597906019,
            "count": 0
           },
           {
            "bin_end": 252.77850652706795,
            "bin_start": 210.7231331588349,
            "count": 0
           },
           {
            "bin_end": 294.833879895301,
            "bin_start": 252.77850652706795,
            "count": 0
           },
           {
            "bin_end": 336.889253263534,
            "bin_start": 294.833879895301,
            "count": 0
           },
           {
            "bin_end": 378.944626631767,
            "bin_start": 336.889253263534,
            "count": 0
           },
           {
            "bin_end": 421,
            "bin_start": 378.944626631767,
            "count": 1
           }
          ],
          "max": 421,
          "min": 0.44626631766986313,
          "nan_count": 0,
          "unique_count": 8
         }
        },
        {
         "dtype": "float64",
         "name": "Max>2.5",
         "stats": {
          "histogram": [
           {
            "bin_end": 42.7057000716658,
            "bin_start": 0.4507778574064537,
            "count": 7
           },
           {
            "bin_end": 84.96062228592515,
            "bin_start": 42.7057000716658,
            "count": 0
           },
           {
            "bin_end": 127.2155445001845,
            "bin_start": 84.96062228592515,
            "count": 0
           },
           {
            "bin_end": 169.47046671444386,
            "bin_start": 127.2155445001845,
            "count": 0
           },
           {
            "bin_end": 211.7253889287032,
            "bin_start": 169.47046671444386,
            "count": 0
           },
           {
            "bin_end": 253.98031114296256,
            "bin_start": 211.7253889287032,
            "count": 0
           },
           {
            "bin_end": 296.23523335722194,
            "bin_start": 253.98031114296256,
            "count": 0
           },
           {
            "bin_end": 338.4901555714813,
            "bin_start": 296.23523335722194,
            "count": 0
           },
           {
            "bin_end": 380.74507778574065,
            "bin_start": 338.4901555714813,
            "count": 0
           },
           {
            "bin_end": 423,
            "bin_start": 380.74507778574065,
            "count": 1
           }
          ],
          "max": 423,
          "min": 0.4507778574064537,
          "nan_count": 0,
          "unique_count": 8
         }
        },
        {
         "dtype": "float64",
         "name": "Max<2.5",
         "stats": {
          "histogram": [
           {
            "bin_end": 42.70632778210707,
            "bin_start": 0.4514753134522993,
            "count": 7
           },
           {
            "bin_end": 84.96118025076184,
            "bin_start": 42.70632778210707,
            "count": 0
           },
           {
            "bin_end": 127.2160327194166,
            "bin_start": 84.96118025076184,
            "count": 0
           },
           {
            "bin_end": 169.47088518807138,
            "bin_start": 127.2160327194166,
            "count": 0
           },
           {
            "bin_end": 211.72573765672615,
            "bin_start": 169.47088518807138,
            "count": 0
           },
           {
            "bin_end": 253.9805901253809,
            "bin_start": 211.72573765672615,
            "count": 0
           },
           {
            "bin_end": 296.2354425940357,
            "bin_start": 253.9805901253809,
            "count": 0
           },
           {
            "bin_end": 338.49029506269045,
            "bin_start": 296.2354425940357,
            "count": 0
           },
           {
            "bin_end": 380.7451475313452,
            "bin_start": 338.49029506269045,
            "count": 0
           },
           {
            "bin_end": 423,
            "bin_start": 380.7451475313452,
            "count": 1
           }
          ],
          "max": 423,
          "min": 0.4514753134522993,
          "nan_count": 0,
          "unique_count": 8
         }
        },
        {
         "dtype": "float64",
         "name": "Avg>2.5",
         "stats": {
          "histogram": [
           {
            "bin_end": 42.674358956773695,
            "bin_start": 0.4159543964152156,
            "count": 7
           },
           {
            "bin_end": 84.93276351713217,
            "bin_start": 42.674358956773695,
            "count": 0
           },
           {
            "bin_end": 127.19116807749064,
            "bin_start": 84.93276351713217,
            "count": 0
           },
           {
            "bin_end": 169.44957263784912,
            "bin_start": 127.19116807749064,
            "count": 0
           },
           {
            "bin_end": 211.7079771982076,
            "bin_start": 169.44957263784912,
            "count": 0
           },
           {
            "bin_end": 253.96638175856606,
            "bin_start": 211.7079771982076,
            "count": 0
           },
           {
            "bin_end": 296.22478631892454,
            "bin_start": 253.96638175856606,
            "count": 0
           },
           {
            "bin_end": 338.48319087928303,
            "bin_start": 296.22478631892454,
            "count": 0
           },
           {
            "bin_end": 380.7415954396415,
            "bin_start": 338.48319087928303,
            "count": 0
           },
           {
            "bin_end": 423,
            "bin_start": 380.7415954396415,
            "count": 1
           }
          ],
          "max": 423,
          "min": 0.4159543964152156,
          "nan_count": 0,
          "unique_count": 8
         }
        },
        {
         "dtype": "float64",
         "name": "Avg<2.5",
         "stats": {
          "histogram": [
           {
            "bin_end": 42.67245632485646,
            "bin_start": 0.41384036095162446,
            "count": 7
           },
           {
            "bin_end": 84.9310722887613,
            "bin_start": 42.67245632485646,
            "count": 0
           },
           {
            "bin_end": 127.18968825266613,
            "bin_start": 84.9310722887613,
            "count": 0
           },
           {
            "bin_end": 169.44830421657096,
            "bin_start": 127.18968825266613,
            "count": 0
           },
           {
            "bin_end": 211.7069201804758,
            "bin_start": 169.44830421657096,
            "count": 0
           },
           {
            "bin_end": 253.96553614438062,
            "bin_start": 211.7069201804758,
            "count": 0
           },
           {
            "bin_end": 296.22415210828547,
            "bin_start": 253.96553614438062,
            "count": 0
           },
           {
            "bin_end": 338.4827680721903,
            "bin_start": 296.22415210828547,
            "count": 0
           },
           {
            "bin_end": 380.74138403609516,
            "bin_start": 338.4827680721903,
            "count": 0
           },
           {
            "bin_end": 423,
            "bin_start": 380.74138403609516,
            "count": 1
           }
          ],
          "max": 423,
          "min": 0.41384036095162446,
          "nan_count": 0,
          "unique_count": 8
         }
        },
        {
         "dtype": "float64",
         "name": "AHh",
         "stats": {
          "histogram": [
           {
            "bin_end": 40.05,
            "bin_start": -2.5,
            "count": 7
           },
           {
            "bin_end": 82.6,
            "bin_start": 40.05,
            "count": 0
           },
           {
            "bin_end": 125.14999999999999,
            "bin_start": 82.6,
            "count": 0
           },
           {
            "bin_end": 167.7,
            "bin_start": 125.14999999999999,
            "count": 0
           },
           {
            "bin_end": 210.25,
            "bin_start": 167.7,
            "count": 0
           },
           {
            "bin_end": 252.79999999999998,
            "bin_start": 210.25,
            "count": 0
           },
           {
            "bin_end": 295.34999999999997,
            "bin_start": 252.79999999999998,
            "count": 0
           },
           {
            "bin_end": 337.9,
            "bin_start": 295.34999999999997,
            "count": 0
           },
           {
            "bin_end": 380.45,
            "bin_start": 337.9,
            "count": 0
           },
           {
            "bin_end": 423,
            "bin_start": 380.45,
            "count": 1
           }
          ],
          "max": 423,
          "min": -2.5,
          "nan_count": 0,
          "unique_count": 8
         }
        },
        {
         "dtype": "float64",
         "name": "PAHH",
         "stats": {
          "histogram": [
           {
            "bin_end": 42.18903593083682,
            "bin_start": 0.09892881204091512,
            "count": 7
           },
           {
            "bin_end": 84.27914304963272,
            "bin_start": 42.18903593083682,
            "count": 0
           },
           {
            "bin_end": 126.36925016842862,
            "bin_start": 84.27914304963272,
            "count": 0
           },
           {
            "bin_end": 168.45935728722455,
            "bin_start": 126.36925016842862,
            "count": 0
           },
           {
            "bin_end": 210.54946440602046,
            "bin_start": 168.45935728722455,
            "count": 0
           },
           {
            "bin_end": 252.63957152481635,
            "bin_start": 210.54946440602046,
            "count": 0
           },
           {
            "bin_end": 294.72967864361226,
            "bin_start": 252.63957152481635,
            "count": 0
           },
           {
            "bin_end": 336.8197857624082,
            "bin_start": 294.72967864361226,
            "count": 0
           },
           {
            "bin_end": 378.9098928812041,
            "bin_start": 336.8197857624082,
            "count": 0
           },
           {
            "bin_end": 421,
            "bin_start": 378.9098928812041,
            "count": 1
           }
          ],
          "max": 421,
          "min": 0.09892881204091512,
          "nan_count": 0,
          "unique_count": 8
         }
        },
        {
         "dtype": "float64",
         "name": "PAHA",
         "stats": {
          "histogram": [
           {
            "bin_end": 42.18884216893265,
            "bin_start": 0.0987135210362826,
            "count": 7
           },
           {
            "bin_end": 84.27897081682903,
            "bin_start": 42.18884216893265,
            "count": 0
           },
           {
            "bin_end": 126.36909946472541,
            "bin_start": 84.27897081682903,
            "count": 0
           },
           {
            "bin_end": 168.45922811262176,
            "bin_start": 126.36909946472541,
            "count": 0
           },
           {
            "bin_end": 210.54935676051812,
            "bin_start": 168.45922811262176,
            "count": 0
           },
           {
            "bin_end": 252.63948540841452,
            "bin_start": 210.54935676051812,
            "count": 0
           },
           {
            "bin_end": 294.7296140563109,
            "bin_start": 252.63948540841452,
            "count": 0
           },
           {
            "bin_end": 336.8197427042073,
            "bin_start": 294.7296140563109,
            "count": 0
           },
           {
            "bin_end": 378.90987135210366,
            "bin_start": 336.8197427042073,
            "count": 0
           },
           {
            "bin_end": 421,
            "bin_start": 378.90987135210366,
            "count": 1
           }
          ],
          "max": 421,
          "min": 0.0987135210362826,
          "nan_count": 0,
          "unique_count": 8
         }
        },
        {
         "dtype": "float64",
         "name": "MaxAHH",
         "stats": {
          "histogram": [
           {
            "bin_end": 42.38836596695654,
            "bin_start": 0.09818440772948792,
            "count": 7
           },
           {
            "bin_end": 84.67854752618359,
            "bin_start": 42.38836596695654,
            "count": 0
           },
           {
            "bin_end": 126.96872908541064,
            "bin_start": 84.67854752618359,
            "count": 0
           },
           {
            "bin_end": 169.2589106446377,
            "bin_start": 126.96872908541064,
            "count": 0
           },
           {
            "bin_end": 211.54909220386475,
            "bin_start": 169.2589106446377,
            "count": 0
           },
           {
            "bin_end": 253.8392737630918,
            "bin_start": 211.54909220386475,
            "count": 0
           },
           {
            "bin_end": 296.12945532231885,
            "bin_start": 253.8392737630918,
            "count": 0
           },
           {
            "bin_end": 338.4196368815459,
            "bin_start": 296.12945532231885,
            "count": 0
           },
           {
            "bin_end": 380.70981844077295,
            "bin_start": 338.4196368815459,
            "count": 0
           },
           {
            "bin_end": 423,
            "bin_start": 380.70981844077295,
            "count": 1
           }
          ],
          "max": 423,
          "min": 0.09818440772948792,
          "nan_count": 0,
          "unique_count": 8
         }
        },
        {
         "dtype": "float64",
         "name": "MaxAHA",
         "stats": {
          "histogram": [
           {
            "bin_end": 42.38915582209306,
            "bin_start": 0.0990620245478399,
            "count": 7
           },
           {
            "bin_end": 84.67924961963827,
            "bin_start": 42.38915582209306,
            "count": 0
           },
           {
            "bin_end": 126.9693434171835,
            "bin_start": 84.67924961963827,
            "count": 0
           },
           {
            "bin_end": 169.2594372147287,
            "bin_start": 126.9693434171835,
            "count": 0
           },
           {
            "bin_end": 211.54953101227392,
            "bin_start": 169.2594372147287,
            "count": 0
           },
           {
            "bin_end": 253.83962480981916,
            "bin_start": 211.54953101227392,
            "count": 0
           },
           {
            "bin_end": 296.12971860736434,
            "bin_start": 253.83962480981916,
            "count": 0
           },
           {
            "bin_end": 338.4198124049096,
            "bin_start": 296.12971860736434,
            "count": 0
           },
           {
            "bin_end": 380.7099062024548,
            "bin_start": 338.4198124049096,
            "count": 0
           },
           {
            "bin_end": 423,
            "bin_start": 380.7099062024548,
            "count": 1
           }
          ],
          "max": 423,
          "min": 0.0990620245478399,
          "nan_count": 0,
          "unique_count": 8
         }
        },
        {
         "dtype": "float64",
         "name": "AvgAHH",
         "stats": {
          "histogram": [
           {
            "bin_end": 42.38491434865108,
            "bin_start": 0.09434927627897495,
            "count": 7
           },
           {
            "bin_end": 84.67547942102318,
            "bin_start": 42.38491434865108,
            "count": 0
           },
           {
            "bin_end": 126.96604449339529,
            "bin_start": 84.67547942102318,
            "count": 0
           },
           {
            "bin_end": 169.25660956576738,
            "bin_start": 126.96604449339529,
            "count": 0
           },
           {
            "bin_end": 211.54717463813947,
            "bin_start": 169.25660956576738,
            "count": 0
           },
           {
            "bin_end": 253.83773971051158,
            "bin_start": 211.54717463813947,
            "count": 0
           },
           {
            "bin_end": 296.12830478288373,
            "bin_start": 253.83773971051158,
            "count": 0
           },
           {
            "bin_end": 338.4188698552558,
            "bin_start": 296.12830478288373,
            "count": 0
           },
           {
            "bin_end": 380.7094349276279,
            "bin_start": 338.4188698552558,
            "count": 0
           },
           {
            "bin_end": 423,
            "bin_start": 380.7094349276279,
            "count": 1
           }
          ],
          "max": 423,
          "min": 0.09434927627897495,
          "nan_count": 0,
          "unique_count": 8
         }
        },
        {
         "dtype": "float64",
         "name": "AvgAHA",
         "stats": {
          "histogram": [
           {
            "bin_end": 42.38413558828998,
            "bin_start": 0.09348398698886169,
            "count": 7
           },
           {
            "bin_end": 84.67478718959109,
            "bin_start": 42.38413558828998,
            "count": 0
           },
           {
            "bin_end": 126.96543879089221,
            "bin_start": 84.67478718959109,
            "count": 0
           },
           {
            "bin_end": 169.25609039219333,
            "bin_start": 126.96543879089221,
            "count": 0
           },
           {
            "bin_end": 211.54674199349444,
            "bin_start": 169.25609039219333,
            "count": 0
           },
           {
            "bin_end": 253.83739359479557,
            "bin_start": 211.54674199349444,
            "count": 0
           },
           {
            "bin_end": 296.12804519609665,
            "bin_start": 253.83739359479557,
            "count": 0
           },
           {
            "bin_end": 338.4186967973978,
            "bin_start": 296.12804519609665,
            "count": 0
           },
           {
            "bin_end": 380.7093483986989,
            "bin_start": 338.4186967973978,
            "count": 0
           },
           {
            "bin_end": 423,
            "bin_start": 380.7093483986989,
            "count": 1
           }
          ],
          "max": 423,
          "min": 0.09348398698886169,
          "nan_count": 0,
          "unique_count": 8
         }
        },
        {
         "dtype": "float64",
         "name": "B365CH",
         "stats": {
          "histogram": [
           {
            "bin_end": 43.29,
            "bin_start": 1.1,
            "count": 7
           },
           {
            "bin_end": 85.47999999999999,
            "bin_start": 43.29,
            "count": 0
           },
           {
            "bin_end": 127.66999999999999,
            "bin_start": 85.47999999999999,
            "count": 0
           },
           {
            "bin_end": 169.85999999999999,
            "bin_start": 127.66999999999999,
            "count": 0
           },
           {
            "bin_end": 212.04999999999998,
            "bin_start": 169.85999999999999,
            "count": 0
           },
           {
            "bin_end": 254.23999999999998,
            "bin_start": 212.04999999999998,
            "count": 0
           },
           {
            "bin_end": 296.43,
            "bin_start": 254.23999999999998,
            "count": 0
           },
           {
            "bin_end": 338.62,
            "bin_start": 296.43,
            "count": 0
           },
           {
            "bin_end": 380.81,
            "bin_start": 338.62,
            "count": 0
           },
           {
            "bin_end": 423,
            "bin_start": 380.81,
            "count": 1
           }
          ],
          "max": 423,
          "min": 1.1,
          "nan_count": 0,
          "unique_count": 8
         }
        },
        {
         "dtype": "float64",
         "name": "B365CD",
         "stats": {
          "histogram": [
           {
            "bin_end": 43.32994809830749,
            "bin_start": 1.1443867758972137,
            "count": 7
           },
           {
            "bin_end": 85.51550942071778,
            "bin_start": 43.32994809830749,
            "count": 0
           },
           {
            "bin_end": 127.70107074312806,
            "bin_start": 85.51550942071778,
            "count": 0
           },
           {
            "bin_end": 169.88663206553832,
            "bin_start": 127.70107074312806,
            "count": 0
           },
           {
            "bin_end": 212.0721933879486,
            "bin_start": 169.88663206553832,
            "count": 0
           },
           {
            "bin_end": 254.25775471035888,
            "bin_start": 212.0721933879486,
            "count": 0
           },
           {
            "bin_end": 296.44331603276913,
            "bin_start": 254.25775471035888,
            "count": 0
           },
           {
            "bin_end": 338.62887735517944,
            "bin_start": 296.44331603276913,
            "count": 0
           },
           {
            "bin_end": 380.81443867758975,
            "bin_start": 338.62887735517944,
            "count": 0
           },
           {
            "bin_end": 423,
            "bin_start": 380.81443867758975,
            "count": 1
           }
          ],
          "max": 423,
          "min": 1.1443867758972137,
          "nan_count": 0,
          "unique_count": 8
         }
        },
        {
         "dtype": "float64",
         "name": "B365CA",
         "stats": {
          "histogram": [
           {
            "bin_end": 43.425,
            "bin_start": 1.25,
            "count": 7
           },
           {
            "bin_end": 85.6,
            "bin_start": 43.425,
            "count": 0
           },
           {
            "bin_end": 127.77499999999999,
            "bin_start": 85.6,
            "count": 0
           },
           {
            "bin_end": 169.95,
            "bin_start": 127.77499999999999,
            "count": 0
           },
           {
            "bin_end": 212.125,
            "bin_start": 169.95,
            "count": 0
           },
           {
            "bin_end": 254.29999999999998,
            "bin_start": 212.125,
            "count": 0
           },
           {
            "bin_end": 296.47499999999997,
            "bin_start": 254.29999999999998,
            "count": 0
           },
           {
            "bin_end": 338.65,
            "bin_start": 296.47499999999997,
            "count": 0
           },
           {
            "bin_end": 380.825,
            "bin_start": 338.65,
            "count": 0
           },
           {
            "bin_end": 423,
            "bin_start": 380.825,
            "count": 1
           }
          ],
          "max": 423,
          "min": 1.25,
          "nan_count": 0,
          "unique_count": 8
         }
        },
        {
         "dtype": "float64",
         "name": "BWCH",
         "stats": {
          "histogram": [
           {
            "bin_end": 43.29,
            "bin_start": 1.1,
            "count": 7
           },
           {
            "bin_end": 85.47999999999999,
            "bin_start": 43.29,
            "count": 0
           },
           {
            "bin_end": 127.66999999999999,
            "bin_start": 85.47999999999999,
            "count": 0
           },
           {
            "bin_end": 169.85999999999999,
            "bin_start": 127.66999999999999,
            "count": 0
           },
           {
            "bin_end": 212.04999999999998,
            "bin_start": 169.85999999999999,
            "count": 0
           },
           {
            "bin_end": 254.23999999999998,
            "bin_start": 212.04999999999998,
            "count": 0
           },
           {
            "bin_end": 296.43,
            "bin_start": 254.23999999999998,
            "count": 0
           },
           {
            "bin_end": 338.62,
            "bin_start": 296.43,
            "count": 0
           },
           {
            "bin_end": 380.81,
            "bin_start": 338.62,
            "count": 0
           },
           {
            "bin_end": 423,
            "bin_start": 380.81,
            "count": 1
           }
          ],
          "max": 423,
          "min": 1.1,
          "nan_count": 0,
          "unique_count": 8
         }
        },
        {
         "dtype": "float64",
         "name": "BWCD",
         "stats": {
          "histogram": [
           {
            "bin_end": 43.31202691882217,
            "bin_start": 1.1244743542468536,
            "count": 7
           },
           {
            "bin_end": 85.49957948339748,
            "bin_start": 43.31202691882217,
            "count": 0
           },
           {
            "bin_end": 127.6871320479728,
            "bin_start": 85.49957948339748,
            "count": 0
           },
           {
            "bin_end": 169.8746846125481,
            "bin_start": 127.6871320479728,
            "count": 0
           },
           {
            "bin_end": 212.0622371771234,
            "bin_start": 169.8746846125481,
            "count": 0
           },
           {
            "bin_end": 254.24978974169872,
            "bin_start": 212.0622371771234,
            "count": 0
           },
           {
            "bin_end": 296.43734230627405,
            "bin_start": 254.24978974169872,
            "count": 0
           },
           {
            "bin_end": 338.62489487084935,
            "bin_start": 296.43734230627405,
            "count": 0
           },
           {
            "bin_end": 380.81244743542464,
            "bin_start": 338.62489487084935,
            "count": 0
           },
           {
            "bin_end": 423,
            "bin_start": 380.81244743542464,
            "count": 1
           }
          ],
          "max": 423,
          "min": 1.1244743542468536,
          "nan_count": 0,
          "unique_count": 8
         }
        },
        {
         "dtype": "float64",
         "name": "BWCA",
         "stats": {
          "histogram": [
           {
            "bin_end": 43.452000000000005,
            "bin_start": 1.28,
            "count": 7
           },
           {
            "bin_end": 85.62400000000001,
            "bin_start": 43.452000000000005,
            "count": 0
           },
           {
            "bin_end": 127.79600000000002,
            "bin_start": 85.62400000000001,
            "count": 0
           },
           {
            "bin_end": 169.96800000000002,
            "bin_start": 127.79600000000002,
            "count": 0
           },
           {
            "bin_end": 212.14000000000001,
            "bin_start": 169.96800000000002,
            "count": 0
           },
           {
            "bin_end": 254.31200000000004,
            "bin_start": 212.14000000000001,
            "count": 0
           },
           {
            "bin_end": 296.484,
            "bin_start": 254.31200000000004,
            "count": 0
           },
           {
            "bin_end": 338.656,
            "bin_start": 296.484,
            "count": 0
           },
           {
            "bin_end": 380.82800000000003,
            "bin_start": 338.656,
            "count": 0
           },
           {
            "bin_end": 423,
            "bin_start": 380.82800000000003,
            "count": 1
           }
          ],
          "max": 423,
          "min": 1.28,
          "nan_count": 0,
          "unique_count": 8
         }
        },
        {
         "dtype": "float64",
         "name": "IWCH",
         "stats": {
          "histogram": [
           {
            "bin_end": 43.308,
            "bin_start": 1.12,
            "count": 7
           },
           {
            "bin_end": 85.49600000000001,
            "bin_start": 43.308,
            "count": 0
           },
           {
            "bin_end": 127.68400000000001,
            "bin_start": 85.49600000000001,
            "count": 0
           },
           {
            "bin_end": 169.872,
            "bin_start": 127.68400000000001,
            "count": 0
           },
           {
            "bin_end": 212.06,
            "bin_start": 169.872,
            "count": 0
           },
           {
            "bin_end": 254.24800000000002,
            "bin_start": 212.06,
            "count": 0
           },
           {
            "bin_end": 296.43600000000004,
            "bin_start": 254.24800000000002,
            "count": 0
           },
           {
            "bin_end": 338.624,
            "bin_start": 296.43600000000004,
            "count": 0
           },
           {
            "bin_end": 380.812,
            "bin_start": 338.624,
            "count": 0
           },
           {
            "bin_end": 423,
            "bin_start": 380.812,
            "count": 1
           }
          ],
          "max": 423,
          "min": 1.12,
          "nan_count": 0,
          "unique_count": 8
         }
        },
        {
         "dtype": "float64",
         "name": "IWCD",
         "stats": {
          "histogram": [
           {
            "bin_end": 43.20144825242492,
            "bin_start": 1.0016091693610205,
            "count": 7
           },
           {
            "bin_end": 85.40128733548882,
            "bin_start": 43.20144825242492,
            "count": 0
           },
           {
            "bin_end": 127.60112641855272,
            "bin_start": 85.40128733548882,
            "count": 0
           },
           {
            "bin_end": 169.80096550161662,
            "bin_start": 127.60112641855272,
            "count": 0
           },
           {
            "bin_end": 212.0008045846805,
            "bin_start": 169.80096550161662,
            "count": 0
           },
           {
            "bin_end": 254.20064366774443,
            "bin_start": 212.0008045846805,
            "count": 0
           },
           {
            "bin_end": 296.4004827508083,
            "bin_start": 254.20064366774443,
            "count": 0
           },
           {
            "bin_end": 338.6003218338722,
            "bin_start": 296.4004827508083,
            "count": 0
           },
           {
            "bin_end": 380.80016091693614,
            "bin_start": 338.6003218338722,
            "count": 0
           },
           {
            "bin_end": 423,
            "bin_start": 380.80016091693614,
            "count": 1
           }
          ],
          "max": 423,
          "min": 1.0016091693610205,
          "nan_count": 0,
          "unique_count": 8
         }
        },
        {
         "dtype": "float64",
         "name": "IWCA",
         "stats": {
          "histogram": [
           {
            "bin_end": 43.425,
            "bin_start": 1.25,
            "count": 7
           },
           {
            "bin_end": 85.6,
            "bin_start": 43.425,
            "count": 0
           },
           {
            "bin_end": 127.77499999999999,
            "bin_start": 85.6,
            "count": 0
           },
           {
            "bin_end": 169.95,
            "bin_start": 127.77499999999999,
            "count": 0
           },
           {
            "bin_end": 212.125,
            "bin_start": 169.95,
            "count": 0
           },
           {
            "bin_end": 254.29999999999998,
            "bin_start": 212.125,
            "count": 0
           },
           {
            "bin_end": 296.47499999999997,
            "bin_start": 254.29999999999998,
            "count": 0
           },
           {
            "bin_end": 338.65,
            "bin_start": 296.47499999999997,
            "count": 0
           },
           {
            "bin_end": 380.825,
            "bin_start": 338.65,
            "count": 0
           },
           {
            "bin_end": 423,
            "bin_start": 380.825,
            "count": 1
           }
          ],
          "max": 423,
          "min": 1.25,
          "nan_count": 0,
          "unique_count": 8
         }
        },
        {
         "dtype": "float64",
         "name": "WHCH",
         "stats": {
          "histogram": [
           {
            "bin_end": 43.272,
            "bin_start": 1.08,
            "count": 7
           },
           {
            "bin_end": 85.464,
            "bin_start": 43.272,
            "count": 0
           },
           {
            "bin_end": 127.65599999999999,
            "bin_start": 85.464,
            "count": 0
           },
           {
            "bin_end": 169.848,
            "bin_start": 127.65599999999999,
            "count": 0
           },
           {
            "bin_end": 212.04000000000002,
            "bin_start": 169.848,
            "count": 0
           },
           {
            "bin_end": 254.232,
            "bin_start": 212.04000000000002,
            "count": 0
           },
           {
            "bin_end": 296.424,
            "bin_start": 254.232,
            "count": 0
           },
           {
            "bin_end": 338.616,
            "bin_start": 296.424,
            "count": 0
           },
           {
            "bin_end": 380.808,
            "bin_start": 338.616,
            "count": 0
           },
           {
            "bin_end": 423,
            "bin_start": 380.808,
            "count": 1
           }
          ],
          "max": 423,
          "min": 1.08,
          "nan_count": 0,
          "unique_count": 8
         }
        },
        {
         "dtype": "float64",
         "name": "WHCD",
         "stats": {
          "histogram": [
           {
            "bin_end": 43.328015078985594,
            "bin_start": 1.1422389766506618,
            "count": 7
           },
           {
            "bin_end": 85.51379118132053,
            "bin_start": 43.328015078985594,
            "count": 0
           },
           {
            "bin_end": 127.69956728365547,
            "bin_start": 85.51379118132053,
            "count": 0
           },
           {
            "bin_end": 169.8853433859904,
            "bin_start": 127.69956728365547,
            "count": 0
           },
           {
            "bin_end": 212.07111948832534,
            "bin_start": 169.8853433859904,
            "count": 0
           },
           {
            "bin_end": 254.2568955906603,
            "bin_start": 212.07111948832534,
            "count": 0
           },
           {
            "bin_end": 296.4426716929952,
            "bin_start": 254.2568955906603,
            "count": 0
           },
           {
            "bin_end": 338.62844779533015,
            "bin_start": 296.4426716929952,
            "count": 0
           },
           {
            "bin_end": 380.8142238976651,
            "bin_start": 338.62844779533015,
            "count": 0
           },
           {
            "bin_end": 423,
            "bin_start": 380.8142238976651,
            "count": 1
           }
          ],
          "max": 423,
          "min": 1.1422389766506618,
          "nan_count": 0,
          "unique_count": 8
         }
        },
        {
         "dtype": "float64",
         "name": "WHCA",
         "stats": {
          "histogram": [
           {
            "bin_end": 43.425,
            "bin_start": 1.25,
            "count": 7
           },
           {
            "bin_end": 85.6,
            "bin_start": 43.425,
            "count": 0
           },
           {
            "bin_end": 127.77499999999999,
            "bin_start": 85.6,
            "count": 0
           },
           {
            "bin_end": 169.95,
            "bin_start": 127.77499999999999,
            "count": 0
           },
           {
            "bin_end": 212.125,
            "bin_start": 169.95,
            "count": 0
           },
           {
            "bin_end": 254.29999999999998,
            "bin_start": 212.125,
            "count": 0
           },
           {
            "bin_end": 296.47499999999997,
            "bin_start": 254.29999999999998,
            "count": 0
           },
           {
            "bin_end": 338.65,
            "bin_start": 296.47499999999997,
            "count": 0
           },
           {
            "bin_end": 380.825,
            "bin_start": 338.65,
            "count": 0
           },
           {
            "bin_end": 423,
            "bin_start": 380.825,
            "count": 1
           }
          ],
          "max": 423,
          "min": 1.25,
          "nan_count": 0,
          "unique_count": 8
         }
        },
        {
         "dtype": "float64",
         "name": "VCCH",
         "stats": {
          "histogram": [
           {
            "bin_end": 43.272,
            "bin_start": 1.08,
            "count": 7
           },
           {
            "bin_end": 85.464,
            "bin_start": 43.272,
            "count": 0
           },
           {
            "bin_end": 127.65599999999999,
            "bin_start": 85.464,
            "count": 0
           },
           {
            "bin_end": 169.848,
            "bin_start": 127.65599999999999,
            "count": 0
           },
           {
            "bin_end": 212.04000000000002,
            "bin_start": 169.848,
            "count": 0
           },
           {
            "bin_end": 254.232,
            "bin_start": 212.04000000000002,
            "count": 0
           },
           {
            "bin_end": 296.424,
            "bin_start": 254.232,
            "count": 0
           },
           {
            "bin_end": 338.616,
            "bin_start": 296.424,
            "count": 0
           },
           {
            "bin_end": 380.808,
            "bin_start": 338.616,
            "count": 0
           },
           {
            "bin_end": 423,
            "bin_start": 380.808,
            "count": 1
           }
          ],
          "max": 423,
          "min": 1.08,
          "nan_count": 0,
          "unique_count": 8
         }
        },
        {
         "dtype": "float64",
         "name": "VCCD",
         "stats": {
          "histogram": [
           {
            "bin_end": 43.30280927552428,
            "bin_start": 1.1142325283603178,
            "count": 7
           },
           {
            "bin_end": 85.49138602268825,
            "bin_start": 43.30280927552428,
            "count": 0
           },
           {
            "bin_end": 127.67996276985221,
            "bin_start": 85.49138602268825,
            "count": 0
           },
           {
            "bin_end": 169.86853951701616,
            "bin_start": 127.67996276985221,
            "count": 0
           },
           {
            "bin_end": 212.0571162641801,
            "bin_start": 169.86853951701616,
            "count": 0
           },
           {
            "bin_end": 254.2456930113441,
            "bin_start": 212.0571162641801,
            "count": 0
           },
           {
            "bin_end": 296.4342697585081,
            "bin_start": 254.2456930113441,
            "count": 0
           },
           {
            "bin_end": 338.62284650567204,
            "bin_start": 296.4342697585081,
            "count": 0
           },
           {
            "bin_end": 380.811423252836,
            "bin_start": 338.62284650567204,
            "count": 0
           },
           {
            "bin_end": 423,
            "bin_start": 380.811423252836,
            "count": 1
           }
          ],
          "max": 423,
          "min": 1.1142325283603178,
          "nan_count": 0,
          "unique_count": 8
         }
        },
        {
         "dtype": "float64",
         "name": "VCCA",
         "stats": {
          "histogram": [
           {
            "bin_end": 43.425,
            "bin_start": 1.25,
            "count": 7
           },
           {
            "bin_end": 85.6,
            "bin_start": 43.425,
            "count": 0
           },
           {
            "bin_end": 127.77499999999999,
            "bin_start": 85.6,
            "count": 0
           },
           {
            "bin_end": 169.95,
            "bin_start": 127.77499999999999,
            "count": 0
           },
           {
            "bin_end": 212.125,
            "bin_start": 169.95,
            "count": 0
           },
           {
            "bin_end": 254.29999999999998,
            "bin_start": 212.125,
            "count": 0
           },
           {
            "bin_end": 296.47499999999997,
            "bin_start": 254.29999999999998,
            "count": 0
           },
           {
            "bin_end": 338.65,
            "bin_start": 296.47499999999997,
            "count": 0
           },
           {
            "bin_end": 380.825,
            "bin_start": 338.65,
            "count": 0
           },
           {
            "bin_end": 423,
            "bin_start": 380.825,
            "count": 1
           }
          ],
          "max": 423,
          "min": 1.25,
          "nan_count": 0,
          "unique_count": 8
         }
        },
        {
         "dtype": "float64",
         "name": "MaxCH",
         "stats": {
          "histogram": [
           {
            "bin_end": 43.317,
            "bin_start": 1.13,
            "count": 7
           },
           {
            "bin_end": 85.50399999999999,
            "bin_start": 43.317,
            "count": 0
           },
           {
            "bin_end": 127.69099999999999,
            "bin_start": 85.50399999999999,
            "count": 0
           },
           {
            "bin_end": 169.878,
            "bin_start": 127.69099999999999,
            "count": 0
           },
           {
            "bin_end": 212.065,
            "bin_start": 169.878,
            "count": 0
           },
           {
            "bin_end": 254.25199999999998,
            "bin_start": 212.065,
            "count": 0
           },
           {
            "bin_end": 296.43899999999996,
            "bin_start": 254.25199999999998,
            "count": 0
           },
           {
            "bin_end": 338.626,
            "bin_start": 296.43899999999996,
            "count": 0
           },
           {
            "bin_end": 380.813,
            "bin_start": 338.626,
            "count": 0
           },
           {
            "bin_end": 423,
            "bin_start": 380.813,
            "count": 1
           }
          ],
          "max": 423,
          "min": 1.13,
          "nan_count": 0,
          "unique_count": 8
         }
        },
        {
         "dtype": "float64",
         "name": "MaxCD",
         "stats": {
          "histogram": [
           {
            "bin_end": 43.49637511485663,
            "bin_start": 1.329305683174036,
            "count": 7
           },
           {
            "bin_end": 85.66344454653924,
            "bin_start": 43.49637511485663,
            "count": 0
           },
           {
            "bin_end": 127.83051397822184,
            "bin_start": 85.66344454653924,
            "count": 0
           },
           {
            "bin_end": 169.99758340990442,
            "bin_start": 127.83051397822184,
            "count": 0
           },
           {
            "bin_end": 212.164652841587,
            "bin_start": 169.99758340990442,
            "count": 0
           },
           {
            "bin_end": 254.33172227326963,
            "bin_start": 212.164652841587,
            "count": 0
           },
           {
            "bin_end": 296.4987917049522,
            "bin_start": 254.33172227326963,
            "count": 0
           },
           {
            "bin_end": 338.6658611366348,
            "bin_start": 296.4987917049522,
            "count": 0
           },
           {
            "bin_end": 380.8329305683174,
            "bin_start": 338.6658611366348,
            "count": 0
           },
           {
            "bin_end": 423,
            "bin_start": 380.8329305683174,
            "count": 1
           }
          ],
          "max": 423,
          "min": 1.329305683174036,
          "nan_count": 0,
          "unique_count": 8
         }
        },
        {
         "dtype": "float64",
         "name": "MaxCA",
         "stats": {
          "histogram": [
           {
            "bin_end": 43.488,
            "bin_start": 1.32,
            "count": 7
           },
           {
            "bin_end": 85.65599999999999,
            "bin_start": 43.488,
            "count": 0
           },
           {
            "bin_end": 127.82399999999998,
            "bin_start": 85.65599999999999,
            "count": 0
           },
           {
            "bin_end": 169.992,
            "bin_start": 127.82399999999998,
            "count": 0
           },
           {
            "bin_end": 212.16,
            "bin_start": 169.992,
            "count": 0
           },
           {
            "bin_end": 254.32799999999997,
            "bin_start": 212.16,
            "count": 0
           },
           {
            "bin_end": 296.496,
            "bin_start": 254.32799999999997,
            "count": 0
           },
           {
            "bin_end": 338.664,
            "bin_start": 296.496,
            "count": 0
           },
           {
            "bin_end": 380.832,
            "bin_start": 338.664,
            "count": 0
           },
           {
            "bin_end": 423,
            "bin_start": 380.832,
            "count": 1
           }
          ],
          "max": 423,
          "min": 1.32,
          "nan_count": 0,
          "unique_count": 8
         }
        },
        {
         "dtype": "float64",
         "name": "AvgCH",
         "stats": {
          "histogram": [
           {
            "bin_end": 43.29,
            "bin_start": 1.1,
            "count": 7
           },
           {
            "bin_end": 85.47999999999999,
            "bin_start": 43.29,
            "count": 0
           },
           {
            "bin_end": 127.66999999999999,
            "bin_start": 85.47999999999999,
            "count": 0
           },
           {
            "bin_end": 169.85999999999999,
            "bin_start": 127.66999999999999,
            "count": 0
           },
           {
            "bin_end": 212.04999999999998,
            "bin_start": 169.85999999999999,
            "count": 0
           },
           {
            "bin_end": 254.23999999999998,
            "bin_start": 212.04999999999998,
            "count": 0
           },
           {
            "bin_end": 296.43,
            "bin_start": 254.23999999999998,
            "count": 0
           },
           {
            "bin_end": 338.62,
            "bin_start": 296.43,
            "count": 0
           },
           {
            "bin_end": 380.81,
            "bin_start": 338.62,
            "count": 0
           },
           {
            "bin_end": 423,
            "bin_start": 380.81,
            "count": 1
           }
          ],
          "max": 423,
          "min": 1.1,
          "nan_count": 0,
          "unique_count": 8
         }
        },
        {
         "dtype": "float64",
         "name": "AvgCD",
         "stats": {
          "histogram": [
           {
            "bin_end": 43.32186692405961,
            "bin_start": 1.1354076933995632,
            "count": 7
           },
           {
            "bin_end": 85.50832615471965,
            "bin_start": 43.32186692405961,
            "count": 0
           },
           {
            "bin_end": 127.6947853853797,
            "bin_start": 85.50832615471965,
            "count": 0
           },
           {
            "bin_end": 169.88124461603977,
            "bin_start": 127.6947853853797,
            "count": 0
           },
           {
            "bin_end": 212.0677038466998,
            "bin_start": 169.88124461603977,
            "count": 0
           },
           {
            "bin_end": 254.25416307735986,
            "bin_start": 212.0677038466998,
            "count": 0
           },
           {
            "bin_end": 296.4406223080199,
            "bin_start": 254.25416307735986,
            "count": 0
           },
           {
            "bin_end": 338.62708153867993,
            "bin_start": 296.4406223080199,
            "count": 0
           },
           {
            "bin_end": 380.81354076933997,
            "bin_start": 338.62708153867993,
            "count": 0
           },
           {
            "bin_end": 423,
            "bin_start": 380.81354076933997,
            "count": 1
           }
          ],
          "max": 423,
          "min": 1.1354076933995632,
          "nan_count": 0,
          "unique_count": 8
         }
        },
        {
         "dtype": "float64",
         "name": "AvgCA",
         "stats": {
          "histogram": [
           {
            "bin_end": 43.452000000000005,
            "bin_start": 1.28,
            "count": 7
           },
           {
            "bin_end": 85.62400000000001,
            "bin_start": 43.452000000000005,
            "count": 0
           },
           {
            "bin_end": 127.79600000000002,
            "bin_start": 85.62400000000001,
            "count": 0
           },
           {
            "bin_end": 169.96800000000002,
            "bin_start": 127.79600000000002,
            "count": 0
           },
           {
            "bin_end": 212.14000000000001,
            "bin_start": 169.96800000000002,
            "count": 0
           },
           {
            "bin_end": 254.31200000000004,
            "bin_start": 212.14000000000001,
            "count": 0
           },
           {
            "bin_end": 296.484,
            "bin_start": 254.31200000000004,
            "count": 0
           },
           {
            "bin_end": 338.656,
            "bin_start": 296.484,
            "count": 0
           },
           {
            "bin_end": 380.82800000000003,
            "bin_start": 338.656,
            "count": 0
           },
           {
            "bin_end": 423,
            "bin_start": 380.82800000000003,
            "count": 1
           }
          ],
          "max": 423,
          "min": 1.28,
          "nan_count": 0,
          "unique_count": 8
         }
        },
        {
         "dtype": "float64",
         "name": "B365C>2.5",
         "stats": {
          "histogram": [
           {
            "bin_end": 42.76234852995785,
            "bin_start": 0.5137205888420493,
            "count": 7
           },
           {
            "bin_end": 85.01097647107365,
            "bin_start": 42.76234852995785,
            "count": 0
           },
           {
            "bin_end": 127.25960441218945,
            "bin_start": 85.01097647107365,
            "count": 0
           },
           {
            "bin_end": 169.50823235330526,
            "bin_start": 127.25960441218945,
            "count": 0
           },
           {
            "bin_end": 211.75686029442105,
            "bin_start": 169.50823235330526,
            "count": 0
           },
           {
            "bin_end": 254.00548823553686,
            "bin_start": 211.75686029442105,
            "count": 0
           },
           {
            "bin_end": 296.25411617665264,
            "bin_start": 254.00548823553686,
            "count": 0
           },
           {
            "bin_end": 338.50274411776843,
            "bin_start": 296.25411617665264,
            "count": 0
           },
           {
            "bin_end": 380.7513720588842,
            "bin_start": 338.50274411776843,
            "count": 0
           },
           {
            "bin_end": 423,
            "bin_start": 380.7513720588842,
            "count": 1
           }
          ],
          "max": 423,
          "min": 0.5137205888420493,
          "nan_count": 0,
          "unique_count": 8
         }
        },
        {
         "dtype": "float64",
         "name": "B365C<2.5",
         "stats": {
          "histogram": [
           {
            "bin_end": 42.72726543747264,
            "bin_start": 0.47473937496960084,
            "count": 7
           },
           {
            "bin_end": 84.97979149997568,
            "bin_start": 42.72726543747264,
            "count": 0
           },
           {
            "bin_end": 127.23231756247871,
            "bin_start": 84.97979149997568,
            "count": 0
           },
           {
            "bin_end": 169.48484362498175,
            "bin_start": 127.23231756247871,
            "count": 0
           },
           {
            "bin_end": 211.73736968748477,
            "bin_start": 169.48484362498175,
            "count": 0
           },
           {
            "bin_end": 253.98989574998782,
            "bin_start": 211.73736968748477,
            "count": 0
           },
           {
            "bin_end": 296.2424218124909,
            "bin_start": 253.98989574998782,
            "count": 0
           },
           {
            "bin_end": 338.4949478749939,
            "bin_start": 296.2424218124909,
            "count": 0
           },
           {
            "bin_end": 380.7474739374969,
            "bin_start": 338.4949478749939,
            "count": 0
           },
           {
            "bin_end": 423,
            "bin_start": 380.7474739374969,
            "count": 1
           }
          ],
          "max": 423,
          "min": 0.47473937496960084,
          "nan_count": 0,
          "unique_count": 8
         }
        },
        {
         "dtype": "float64",
         "name": "PC>2.5",
         "stats": {
          "histogram": [
           {
            "bin_end": 42.76335972706345,
            "bin_start": 0.5148441411816098,
            "count": 7
           },
           {
            "bin_end": 85.01187531294529,
            "bin_start": 42.76335972706345,
            "count": 0
           },
           {
            "bin_end": 127.26039089882713,
            "bin_start": 85.01187531294529,
            "count": 0
           },
           {
            "bin_end": 169.50890648470897,
            "bin_start": 127.26039089882713,
            "count": 0
           },
           {
            "bin_end": 211.75742207059082,
            "bin_start": 169.50890648470897,
            "count": 0
           },
           {
            "bin_end": 254.00593765647264,
            "bin_start": 211.75742207059082,
            "count": 0
           },
           {
            "bin_end": 296.2544532423545,
            "bin_start": 254.00593765647264,
            "count": 0
           },
           {
            "bin_end": 338.5029688282363,
            "bin_start": 296.2544532423545,
            "count": 0
           },
           {
            "bin_end": 380.7514844141181,
            "bin_start": 338.5029688282363,
            "count": 0
           },
           {
            "bin_end": 423,
            "bin_start": 380.7514844141181,
            "count": 1
           }
          ],
          "max": 423,
          "min": 0.5148441411816098,
          "nan_count": 0,
          "unique_count": 8
         }
        },
        {
         "dtype": "float64",
         "name": "PC<2.5",
         "stats": {
          "histogram": [
           {
            "bin_end": 42.75316516384815,
            "bin_start": 0.5035168487201681,
            "count": 7
           },
           {
            "bin_end": 85.00281347897614,
            "bin_start": 42.75316516384815,
            "count": 0
           },
           {
            "bin_end": 127.25246179410412,
            "bin_start": 85.00281347897614,
            "count": 0
           },
           {
            "bin_end": 169.50211010923212,
            "bin_start": 127.25246179410412,
            "count": 0
           },
           {
            "bin_end": 211.7517584243601,
            "bin_start": 169.50211010923212,
            "count": 0
           },
           {
            "bin_end": 254.0014067394881,
            "bin_start": 211.7517584243601,
            "count": 0
           },
           {
            "bin_end": 296.2510550546161,
            "bin_start": 254.0014067394881,
            "count": 0
           },
           {
            "bin_end": 338.50070336974403,
            "bin_start": 296.2510550546161,
            "count": 0
           },
           {
            "bin_end": 380.750351684872,
            "bin_start": 338.50070336974403,
            "count": 0
           },
           {
            "bin_end": 423,
            "bin_start": 380.750351684872,
            "count": 1
           }
          ],
          "max": 423,
          "min": 0.5035168487201681,
          "nan_count": 0,
          "unique_count": 8
         }
        },
        {
         "dtype": "float64",
         "name": "MaxC>2.5",
         "stats": {
          "histogram": [
           {
            "bin_end": 42.76693411967705,
            "bin_start": 0.5188156885300587,
            "count": 7
           },
           {
            "bin_end": 85.01505255082404,
            "bin_start": 42.76693411967705,
            "count": 0
           },
           {
            "bin_end": 127.26317098197103,
            "bin_start": 85.01505255082404,
            "count": 0
           },
           {
            "bin_end": 169.51128941311802,
            "bin_start": 127.26317098197103,
            "count": 0
           },
           {
            "bin_end": 211.759407844265,
            "bin_start": 169.51128941311802,
            "count": 0
           },
           {
            "bin_end": 254.007526275412,
            "bin_start": 211.759407844265,
            "count": 0
           },
           {
            "bin_end": 296.25564470655905,
            "bin_start": 254.007526275412,
            "count": 0
           },
           {
            "bin_end": 338.503763137706,
            "bin_start": 296.25564470655905,
            "count": 0
           },
           {
            "bin_end": 380.751881568853,
            "bin_start": 338.503763137706,
            "count": 0
           },
           {
            "bin_end": 423,
            "bin_start": 380.751881568853,
            "count": 1
           }
          ],
          "max": 423,
          "min": 0.5188156885300587,
          "nan_count": 0,
          "unique_count": 8
         }
        },
        {
         "dtype": "float64",
         "name": "MaxC<2.5",
         "stats": {
          "histogram": [
           {
            "bin_end": 42.76697485767104,
            "bin_start": 0.5188609529678175,
            "count": 7
           },
           {
            "bin_end": 85.01508876237425,
            "bin_start": 42.76697485767104,
            "count": 0
           },
           {
            "bin_end": 127.26320266707746,
            "bin_start": 85.01508876237425,
            "count": 0
           },
           {
            "bin_end": 169.5113165717807,
            "bin_start": 127.26320266707746,
            "count": 0
           },
           {
            "bin_end": 211.7594304764839,
            "bin_start": 169.5113165717807,
            "count": 0
           },
           {
            "bin_end": 254.00754438118713,
            "bin_start": 211.7594304764839,
            "count": 0
           },
           {
            "bin_end": 296.2556582858903,
            "bin_start": 254.00754438118713,
            "count": 0
           },
           {
            "bin_end": 338.50377219059357,
            "bin_start": 296.2556582858903,
            "count": 0
           },
           {
            "bin_end": 380.7518860952968,
            "bin_start": 338.50377219059357,
            "count": 0
           },
           {
            "bin_end": 423,
            "bin_start": 380.7518860952968,
            "count": 1
           }
          ],
          "max": 423,
          "min": 0.5188609529678175,
          "nan_count": 0,
          "unique_count": 8
         }
        },
        {
         "dtype": "float64",
         "name": "AvgC>2.5",
         "stats": {
          "histogram": [
           {
            "bin_end": 42.72069031883105,
            "bin_start": 0.46743368759005866,
            "count": 7
           },
           {
            "bin_end": 84.97394695007205,
            "bin_start": 42.72069031883105,
            "count": 0
           },
           {
            "bin_end": 127.22720358131305,
            "bin_start": 84.97394695007205,
            "count": 0
           },
           {
            "bin_end": 169.48046021255402,
            "bin_start": 127.22720358131305,
            "count": 0
           },
           {
            "bin_end": 211.733716843795,
            "bin_start": 169.48046021255402,
            "count": 0
           },
           {
            "bin_end": 253.98697347503602,
            "bin_start": 211.733716843795,
            "count": 0
           },
           {
            "bin_end": 296.240230106277,
            "bin_start": 253.98697347503602,
            "count": 0
           },
           {
            "bin_end": 338.493486737518,
            "bin_start": 296.240230106277,
            "count": 0
           },
           {
            "bin_end": 380.74674336875904,
            "bin_start": 338.493486737518,
            "count": 0
           },
           {
            "bin_end": 423,
            "bin_start": 380.74674336875904,
            "count": 1
           }
          ],
          "max": 423,
          "min": 0.46743368759005866,
          "nan_count": 0,
          "unique_count": 8
         }
        },
        {
         "dtype": "float64",
         "name": "AvgC<2.5",
         "stats": {
          "histogram": [
           {
            "bin_end": 42.71024148612566,
            "bin_start": 0.4558238734729559,
            "count": 7
           },
           {
            "bin_end": 84.96465909877836,
            "bin_start": 42.71024148612566,
            "count": 0
           },
           {
            "bin_end": 127.21907671143106,
            "bin_start": 84.96465909877836,
            "count": 0
           },
           {
            "bin_end": 169.47349432408376,
            "bin_start": 127.21907671143106,
            "count": 0
           },
           {
            "bin_end": 211.72791193673646,
            "bin_start": 169.47349432408376,
            "count": 0
           },
           {
            "bin_end": 253.98232954938916,
            "bin_start": 211.72791193673646,
            "count": 0
           },
           {
            "bin_end": 296.2367471620419,
            "bin_start": 253.98232954938916,
            "count": 0
           },
           {
            "bin_end": 338.4911647746946,
            "bin_start": 296.2367471620419,
            "count": 0
           },
           {
            "bin_end": 380.74558238734727,
            "bin_start": 338.4911647746946,
            "count": 0
           },
           {
            "bin_end": 423,
            "bin_start": 380.74558238734727,
            "count": 1
           }
          ],
          "max": 423,
          "min": 0.4558238734729559,
          "nan_count": 0,
          "unique_count": 8
         }
        },
        {
         "dtype": "float64",
         "name": "AHCh",
         "stats": {
          "histogram": [
           {
            "bin_end": 39.825,
            "bin_start": -2.75,
            "count": 7
           },
           {
            "bin_end": 82.4,
            "bin_start": 39.825,
            "count": 0
           },
           {
            "bin_end": 124.97500000000001,
            "bin_start": 82.4,
            "count": 0
           },
           {
            "bin_end": 167.55,
            "bin_start": 124.97500000000001,
            "count": 0
           },
           {
            "bin_end": 210.125,
            "bin_start": 167.55,
            "count": 0
           },
           {
            "bin_end": 252.70000000000002,
            "bin_start": 210.125,
            "count": 0
           },
           {
            "bin_end": 295.27500000000003,
            "bin_start": 252.70000000000002,
            "count": 0
           },
           {
            "bin_end": 337.85,
            "bin_start": 295.27500000000003,
            "count": 0
           },
           {
            "bin_end": 380.425,
            "bin_start": 337.85,
            "count": 0
           },
           {
            "bin_end": 423,
            "bin_start": 380.425,
            "count": 1
           }
          ],
          "max": 423,
          "min": -2.75,
          "nan_count": 0,
          "unique_count": 8
         }
        },
        {
         "dtype": "float64",
         "name": "B365CAHH",
         "stats": {
          "histogram": [
           {
            "bin_end": 42.39236511686209,
            "bin_start": 0.10262790762454395,
            "count": 7
           },
           {
            "bin_end": 84.68210232609962,
            "bin_start": 42.39236511686209,
            "count": 0
           },
           {
            "bin_end": 126.97183953533717,
            "bin_start": 84.68210232609962,
            "count": 0
           },
           {
            "bin_end": 169.2615767445747,
            "bin_start": 126.97183953533717,
            "count": 0
           },
           {
            "bin_end": 211.55131395381227,
            "bin_start": 169.2615767445747,
            "count": 0
           },
           {
            "bin_end": 253.8410511630498,
            "bin_start": 211.55131395381227,
            "count": 0
           },
           {
            "bin_end": 296.1307883722873,
            "bin_start": 253.8410511630498,
            "count": 0
           },
           {
            "bin_end": 338.4205255815249,
            "bin_start": 296.1307883722873,
            "count": 0
           },
           {
            "bin_end": 380.71026279076244,
            "bin_start": 338.4205255815249,
            "count": 0
           },
           {
            "bin_end": 423,
            "bin_start": 380.71026279076244,
            "count": 1
           }
          ],
          "max": 423,
          "min": 0.10262790762454395,
          "nan_count": 0,
          "unique_count": 8
         }
        },
        {
         "dtype": "float64",
         "name": "B365CAHA",
         "stats": {
          "histogram": [
           {
            "bin_end": 42.3936886776352,
            "bin_start": 0.10409853070577145,
            "count": 7
           },
           {
            "bin_end": 84.68327882456462,
            "bin_start": 42.3936886776352,
            "count": 0
           },
           {
            "bin_end": 126.97286897149405,
            "bin_start": 84.68327882456462,
            "count": 0
           },
           {
            "bin_end": 169.2624591184235,
            "bin_start": 126.97286897149405,
            "count": 0
           },
           {
            "bin_end": 211.5520492653529,
            "bin_start": 169.2624591184235,
            "count": 0
           },
           {
            "bin_end": 253.84163941228235,
            "bin_start": 211.5520492653529,
            "count": 0
           },
           {
            "bin_end": 296.13122955921176,
            "bin_start": 253.84163941228235,
            "count": 0
           },
           {
            "bin_end": 338.4208197061412,
            "bin_start": 296.13122955921176,
            "count": 0
           },
           {
            "bin_end": 380.7104098530706,
            "bin_start": 338.4208197061412,
            "count": 0
           },
           {
            "bin_end": 423,
            "bin_start": 380.7104098530706,
            "count": 1
           }
          ],
          "max": 423,
          "min": 0.10409853070577145,
          "nan_count": 0,
          "unique_count": 8
         }
        },
        {
         "dtype": "float64",
         "name": "PCAHH",
         "stats": {
          "histogram": [
           {
            "bin_end": 42.39277405243865,
            "bin_start": 0.10308228048738587,
            "count": 7
           },
           {
            "bin_end": 84.68246582438991,
            "bin_start": 42.39277405243865,
            "count": 0
           },
           {
            "bin_end": 126.97215759634118,
            "bin_start": 84.68246582438991,
            "count": 0
           },
           {
            "bin_end": 169.26184936829245,
            "bin_start": 126.97215759634118,
            "count": 0
           },
           {
            "bin_end": 211.5515411402437,
            "bin_start": 169.26184936829245,
            "count": 0
           },
           {
            "bin_end": 253.84123291219498,
            "bin_start": 211.5515411402437,
            "count": 0
           },
           {
            "bin_end": 296.13092468414624,
            "bin_start": 253.84123291219498,
            "count": 0
           },
           {
            "bin_end": 338.4206164560975,
            "bin_start": 296.13092468414624,
            "count": 0
           },
           {
            "bin_end": 380.71030822804875,
            "bin_start": 338.4206164560975,
            "count": 0
           },
           {
            "bin_end": 423,
            "bin_start": 380.71030822804875,
            "count": 1
           }
          ],
          "max": 423,
          "min": 0.10308228048738587,
          "nan_count": 0,
          "unique_count": 8
         }
        },
        {
         "dtype": "float64",
         "name": "PCAHA",
         "stats": {
          "histogram": [
           {
            "bin_end": 42.39359427209225,
            "bin_start": 0.10399363565805698,
            "count": 7
           },
           {
            "bin_end": 84.68319490852645,
            "bin_start": 42.39359427209225,
            "count": 0
           },
           {
            "bin_end": 126.97279554496065,
            "bin_start": 84.68319490852645,
            "count": 0
           },
           {
            "bin_end": 169.26239618139485,
            "bin_start": 126.97279554496065,
            "count": 0
           },
           {
            "bin_end": 211.55199681782904,
            "bin_start": 169.26239618139485,
            "count": 0
           },
           {
            "bin_end": 253.84159745426325,
            "bin_start": 211.55199681782904,
            "count": 0
           },
           {
            "bin_end": 296.1311980906974,
            "bin_start": 253.84159745426325,
            "count": 0
           },
           {
            "bin_end": 338.4207987271316,
            "bin_start": 296.1311980906974,
            "count": 0
           },
           {
            "bin_end": 380.71039936356584,
            "bin_start": 338.4207987271316,
            "count": 0
           },
           {
            "bin_end": 423,
            "bin_start": 380.71039936356584,
            "count": 1
           }
          ],
          "max": 423,
          "min": 0.10399363565805698,
          "nan_count": 0,
          "unique_count": 8
         }
        },
        {
         "dtype": "float64",
         "name": "MaxCAHH",
         "stats": {
          "histogram": [
           {
            "bin_end": 42.39431652312418,
            "bin_start": 0.1047961368046454,
            "count": 7
           },
           {
            "bin_end": 84.68383690944373,
            "bin_start": 42.39431652312418,
            "count": 0
           },
           {
            "bin_end": 126.97335729576326,
            "bin_start": 84.68383690944373,
            "count": 0
           },
           {
            "bin_end": 169.2628776820828,
            "bin_start": 126.97335729576326,
            "count": 0
           },
           {
            "bin_end": 211.55239806840234,
            "bin_start": 169.2628776820828,
            "count": 0
           },
           {
            "bin_end": 253.84191845472188,
            "bin_start": 211.55239806840234,
            "count": 0
           },
           {
            "bin_end": 296.1314388410414,
            "bin_start": 253.84191845472188,
            "count": 0
           },
           {
            "bin_end": 338.4209592273609,
            "bin_start": 296.1314388410414,
            "count": 0
           },
           {
            "bin_end": 380.71047961368043,
            "bin_start": 338.4209592273609,
            "count": 0
           },
           {
            "bin_end": 423,
            "bin_start": 380.71047961368043,
            "count": 1
           }
          ],
          "max": 423,
          "min": 0.1047961368046454,
          "nan_count": 0,
          "unique_count": 8
         }
        },
        {
         "dtype": "float64",
         "name": "MaxCAHA",
         "stats": {
          "histogram": [
           {
            "bin_end": 42.39887216163346,
            "bin_start": 0.10985795737050755,
            "count": 7
           },
           {
            "bin_end": 84.68788636589642,
            "bin_start": 42.39887216163346,
            "count": 0
           },
           {
            "bin_end": 126.97690057015937,
            "bin_start": 84.68788636589642,
            "count": 0
           },
           {
            "bin_end": 169.26591477442233,
            "bin_start": 126.97690057015937,
            "count": 0
           },
           {
            "bin_end": 211.5549289786853,
            "bin_start": 169.26591477442233,
            "count": 0
           },
           {
            "bin_end": 253.84394318294824,
            "bin_start": 211.5549289786853,
            "count": 0
           },
           {
            "bin_end": 296.13295738721115,
            "bin_start": 253.84394318294824,
            "count": 0
           },
           {
            "bin_end": 338.4219715914741,
            "bin_start": 296.13295738721115,
            "count": 0
           },
           {
            "bin_end": 380.7109857957371,
            "bin_start": 338.4219715914741,
            "count": 0
           },
           {
            "bin_end": 423,
            "bin_start": 380.7109857957371,
            "count": 1
           }
          ],
          "max": 423,
          "min": 0.10985795737050755,
          "nan_count": 0,
          "unique_count": 8
         }
        },
        {
         "dtype": "float64",
         "name": "AvgCAHH",
         "stats": {
          "histogram": [
           {
            "bin_end": 42.38795052786321,
            "bin_start": 0.09772280873689668,
            "count": 7
           },
           {
            "bin_end": 84.67817824698952,
            "bin_start": 42.38795052786321,
            "count": 0
           },
           {
            "bin_end": 126.96840596611584,
            "bin_start": 84.67817824698952,
            "count": 0
           },
           {
            "bin_end": 169.25863368524216,
            "bin_start": 126.96840596611584,
            "count": 0
           },
           {
            "bin_end": 211.54886140436847,
            "bin_start": 169.25863368524216,
            "count": 0
           },
           {
            "bin_end": 253.8390891234948,
            "bin_start": 211.54886140436847,
            "count": 0
           },
           {
            "bin_end": 296.12931684262105,
            "bin_start": 253.8390891234948,
            "count": 0
           },
           {
            "bin_end": 338.4195445617474,
            "bin_start": 296.12931684262105,
            "count": 0
           },
           {
            "bin_end": 380.7097722808737,
            "bin_start": 338.4195445617474,
            "count": 0
           },
           {
            "bin_end": 423,
            "bin_start": 380.7097722808737,
            "count": 1
           }
          ],
          "max": 423,
          "min": 0.09772280873689668,
          "nan_count": 0,
          "unique_count": 8
         }
        },
        {
         "dtype": "float64",
         "name": "AvgCAHA",
         "stats": {
          "histogram": [
           {
            "bin_end": 42.38809250136655,
            "bin_start": 0.09788055707394197,
            "count": 7
           },
           {
            "bin_end": 84.67830444565915,
            "bin_start": 42.38809250136655,
            "count": 0
           },
           {
            "bin_end": 126.96851638995176,
            "bin_start": 84.67830444565915,
            "count": 0
           },
           {
            "bin_end": 169.25872833424438,
            "bin_start": 126.96851638995176,
            "count": 0
           },
           {
            "bin_end": 211.54894027853697,
            "bin_start": 169.25872833424438,
            "count": 0
           },
           {
            "bin_end": 253.8391522228296,
            "bin_start": 211.54894027853697,
            "count": 0
           },
           {
            "bin_end": 296.1293641671222,
            "bin_start": 253.8391522228296,
            "count": 0
           },
           {
            "bin_end": 338.4195761114148,
            "bin_start": 296.1293641671222,
            "count": 0
           },
           {
            "bin_end": 380.7097880557074,
            "bin_start": 338.4195761114148,
            "count": 0
           },
           {
            "bin_end": 423,
            "bin_start": 380.7097880557074,
            "count": 1
           }
          ],
          "max": 423,
          "min": 0.09788055707394197,
          "nan_count": 0,
          "unique_count": 8
         }
        },
        {
         "dtype": "object",
         "name": "_deepnote_index_column"
        }
       ],
       "row_count": 8,
       "rows_bottom": [
        {
         "AC": 4,
         "AF": 15,
         "AHCh": -0.25,
         "AHh": -0.25,
         "AR": 0,
         "AS": 10,
         "AST": 4,
         "AY": 3,
         "Avg<2.5": 1.74,
         "Avg>2.5": 2.08,
         "AvgA": 3.41,
         "AvgAHA": 1.92,
         "AvgAHH": 1.94,
         "AvgC<2.5": 1.74,
         "AvgC>2.5": 2.09,
         "AvgCA": 3.52,
         "AvgCAHA": 1.94,
         "AvgCAHH": 1.93,
         "AvgCD": 3.42,
         "AvgCH": 2.25,
         "AvgD": 3.43,
         "AvgH": 2.24,
         "B365<2.5": 1.8,
         "B365>2.5": 1.95,
         "B365A": 3.5,
         "B365AH": -0.25,
         "B365AHA": 1.95,
         "B365AHH": 1.96,
         "B365C<2.5": 1.72,
         "B365C>2.5": 2.1,
         "B365CA": 3.5,
         "B365CAHA": 1.97,
         "B365CAHH": 1.96,
         "B365CD": 3.4,
         "B365CH": 2.15,
         "B365D": 3.4,
         "B365H": 2.1,
         "BSA": 3.4,
         "BSD": 3.3,
         "BSH": 2.05,
         "BWA": 3.5,
         "BWCA": 3.5,
         "BWCD": 3.4,
         "BWCH": 2.2,
         "BWD": 3.4,
         "BWH": 2.05,
         "Bb1X2": 41,
         "BbAH": 22,
         "BbAHh": -0.25,
         "BbAv<2.5": 1.82,
         "BbAv>2.5": 1.94,
         "BbAvA": 3.5149999999999997,
         "BbAvAHA": 1.94,
         "BbAvAHH": 1.92,
         "BbAvD": 3.39,
         "BbAvH": 2.08,
         "BbMx<2.5": 1.92,
         "BbMx>2.5": 2.05,
         "BbMxA": 3.85,
         "BbMxAHA": 2,
         "BbMxAHH": 1.98,
         "BbMxD": 3.6,
         "BbMxH": 2.2,
         "BbOU": 34,
         "FTAG": 1,
         "FTHG": 1,
         "GB<2.5": 1.8,
         "GB>2.5": 1.85,
         "GBA": 3.5,
         "GBAH": -0.25,
         "GBAHA": 1.9,
         "GBAHH": 1.9,
         "GBD": 3.3,
         "GBH": 2.05,
         "HC": 5,
         "HF": 15,
         "HR": 0,
         "HS": 13,
         "HST": 5,
         "HTAG": 0,
         "HTHG": 0,
         "HY": 2,
         "IWA": 3.4,
         "IWCA": 3.45,
         "IWCD": 3.4,
         "IWCH": 2.25,
         "IWD": 3.3,
         "IWH": 2,
         "LBA": 3.5,
         "LBAH": -0.25,
         "LBAHA": 1.9,
         "LBAHH": 1.94,
         "LBD": 3.3,
         "LBH": 2,
         "Max<2.5": 1.8,
         "Max>2.5": 2.19,
         "MaxA": 3.6,
         "MaxAHA": 1.98,
         "MaxAHH": 1.99,
         "MaxC<2.5": 1.83,
         "MaxC>2.5": 2.22,
         "MaxCA": 3.8,
         "MaxCAHA": 2.02,
         "MaxCAHH": 2.01,
         "MaxCD": 3.6,
         "MaxCH": 2.36,
         "MaxD": 3.6,
         "MaxH": 2.32,
         "P<2.5": 1.76,
         "P>2.5": 2.16,
         "PAHA": 1.95,
         "PAHH": 1.97,
         "PC<2.5": 1.78,
         "PC>2.5": 2.14,
         "PCAHA": 1.97,
         "PCAHH": 1.95,
         "PSA": 3.79,
         "PSCA": 3.81,
         "PSCD": 3.66,
         "PSCH": 2.15,
         "PSD": 3.67,
         "PSH": 2.14,
         "SBA": 3.4,
         "SBD": 3.25,
         "SBH": 2,
         "SJA": 3.6,
         "SJD": 3.4,
         "SJH": 2.05,
         "SOA": 3.3,
         "SOD": 3.2,
         "SOH": 2,
         "SYA": 3.5,
         "SYD": 3.2,
         "SYH": 1.91,
         "Season": 2005,
         "Unnamed: 0": 203,
         "Unnamed: 44": "nan",
         "Unnamed: 45": "nan",
         "Unnamed: 46": "nan",
         "Unnamed: 47": "nan",
         "Unnamed: 48": "nan",
         "Unnamed: 49": "nan",
         "Unnamed: 50": "nan",
         "VCA": 3.6,
         "VCCA": 3.4,
         "VCCD": 3.4,
         "VCCH": 2.25,
         "VCD": 3.5,
         "VCH": 2.1,
         "WHA": 3.5,
         "WHCA": 3.5,
         "WHCD": 3.4,
         "WHCH": 2.25,
         "WHD": 3.3,
         "WHH": 2.05,
         "_deepnote_index_column": "50%"
        },
        {
         "AC": 6,
         "AF": 18,
         "AHCh": 0,
         "AHh": 0,
         "AR": 0,
         "AS": 14,
         "AST": 5,
         "AY": 4,
         "Avg<2.5": 2.03,
         "Avg>2.5": 2.45,
         "AvgA": 5.105,
         "AvgAHA": 2,
         "AvgAHH": 2.01,
         "AvgC<2.5": 2.04,
         "AvgC>2.5": 2.46,
         "AvgCA": 5.285,
         "AvgCAHA": 2.02,
         "AvgCAHH": 2.0149999999999997,
         "AvgCD": 4.03,
         "AvgCH": 2.99,
         "AvgD": 4.02,
         "AvgH": 2.94,
         "B365<2.5": 1.9,
         "B365>2.5": 2.1,
         "B365A": 5,
         "B365AH": 0,
         "B365AHA": 2.04,
         "B365AHH": 2.05,
         "B365C<2.5": 2,
         "B365C>2.5": 2.5,
         "B365CA": 5.25,
         "B365CAHA": 2.04,
         "B365CAHH": 2.04,
         "B365CD": 4,
         "B365CH": 2.95,
         "B365D": 3.8,
         "B365H": 2.6,
         "BSA": 4.75,
         "BSD": 3.75,
         "BSH": 2.5,
         "BWA": 5.15,
         "BWCA": 5.25,
         "BWCD": 4,
         "BWCH": 3,
         "BWD": 3.9,
         "BWH": 2.65,
         "Bb1X2": 46,
         "BbAH": 25,
         "BbAHh": 0,
         "BbAv<2.5": 2.07,
         "BbAv>2.5": 2.1,
         "BbAvA": 5.14,
         "BbAvAHA": 2.05,
         "BbAvAHH": 2.02,
         "BbAvD": 3.93,
         "BbAvH": 2.63,
         "BbMx<2.5": 2.2,
         "BbMx>2.5": 2.25,
         "BbMxA": 5.8,
         "BbMxAHA": 2.12,
         "BbMxAHH": 2.08,
         "BbMxD": 4.3,
         "BbMxH": 2.8,
         "BbOU": 38,
         "FTAG": 2,
         "FTHG": 2,
         "GB<2.5": 1.9,
         "GB>2.5": 1.9074999999999998,
         "GBA": 4.8,
         "GBAH": 0,
         "GBAHA": 2,
         "GBAHH": 2,
         "GBD": 3.5,
         "GBH": 2.45,
         "HC": 8,
         "HF": 18,
         "HR": 0,
         "HS": 17,
         "HST": 6,
         "HTAG": 1,
         "HTHG": 1,
         "HY": 3,
         "IWA": 4.7,
         "IWCA": 5.05,
         "IWCD": 3.975,
         "IWCH": 2.975,
         "IWD": 3.7,
         "IWH": 2.5,
         "LBA": 5,
         "LBAH": 0,
         "LBAHA": 2,
         "LBAHH": 2,
         "LBD": 3.7,
         "LBH": 2.5,
         "Max<2.5": 2.13,
         "Max>2.5": 2.57,
         "MaxA": 5.5,
         "MaxAHA": 2.06,
         "MaxAHH": 2.07,
         "MaxC<2.5": 2.205,
         "MaxC>2.5": 2.575,
         "MaxCA": 5.75,
         "MaxCAHA": 2.105,
         "MaxCAHH": 2.1,
         "MaxCD": 4.25,
         "MaxCH": 3.16,
         "MaxD": 4.2,
         "MaxH": 3.07,
         "P<2.5": 2.09,
         "P>2.5": 2.54,
         "PAHA": 2.03,
         "PAHH": 2.04,
         "PC<2.5": 2.0949999999999998,
         "PC>2.5": 2.55,
         "PCAHA": 2.045,
         "PCAHH": 2.04,
         "PSA": 5.797499999999999,
         "PSCA": 5.98,
         "PSCD": 4.49,
         "PSCH": 2.9574999999999996,
         "PSD": 4.47,
         "PSH": 2.92,
         "SBA": 4.75,
         "SBD": 3.5,
         "SBH": 2.4,
         "SJA": 5,
         "SJD": 3.75,
         "SJH": 2.5,
         "SOA": 4.5,
         "SOD": 3.4,
         "SOH": 2.38,
         "SYA": 4.5,
         "SYD": 3.4,
         "SYH": 2.3,
         "Season": 2012,
         "Unnamed: 0": 306,
         "Unnamed: 44": "nan",
         "Unnamed: 45": "nan",
         "Unnamed: 46": "nan",
         "Unnamed: 47": "nan",
         "Unnamed: 48": "nan",
         "Unnamed: 49": "nan",
         "Unnamed: 50": "nan",
         "VCA": 5.25,
         "VCCA": 5.1,
         "VCCD": 4,
         "VCCH": 2.9,
         "VCD": 4,
         "VCH": 2.7,
         "WHA": 5,
         "WHCA": 5.25,
         "WHCD": 4,
         "WHCH": 3,
         "WHD": 3.75,
         "WHH": 2.55,
         "_deepnote_index_column": "75%"
        },
        {
         "AC": 17,
         "AF": 36,
         "AHCh": 1.75,
         "AHh": 1.75,
         "AR": 4,
         "AS": 39,
         "AST": 16,
         "AY": 9,
         "Avg<2.5": 3.68,
         "Avg>2.5": 3.16,
         "AvgA": 21.61,
         "AvgAHA": 2.17,
         "AvgAHH": 2.27,
         "AvgC<2.5": 4.13,
         "AvgC>2.5": 3.52,
         "AvgCA": 24.6,
         "AvgCAHA": 2.21,
         "AvgCAHH": 2.15,
         "AvgCD": 10.41,
         "AvgCH": 10.39,
         "AvgD": 9.16,
         "AvgH": 9.91,
         "B365<2.5": 3.75,
         "B365>2.5": 3.4,
         "B365A": 41,
         "B365AH": 1,
         "B365AHA": 2.4,
         "B365AHH": 2.2,
         "B365C<2.5": 4.33,
         "B365C>2.5": 3.5,
         "B365CA": 26,
         "B365CAHA": 2.19,
         "B365CAHH": 2.16,
         "B365CD": 10,
         "B365CH": 11,
         "B365D": 17,
         "B365H": 26,
         "BSA": 34,
         "BSD": 13,
         "BSH": 17,
         "BWA": 51,
         "BWCA": 23,
         "BWCD": 10,
         "BWCH": 9.75,
         "BWD": 19.5,
         "BWH": 34,
         "Bb1X2": 78,
         "BbAH": 36,
         "BbAHh": 3,
         "BbAv<2.5": 6.75,
         "BbAv>2.5": 2.89,
         "BbAvA": 42.74,
         "BbAvAHA": 11.98,
         "BbAvAHH": 9.39,
         "BbAvD": 18.64,
         "BbAvH": 29.08,
         "BbMx<2.5": 7.55,
         "BbMx>2.5": 5.4,
         "BbMxA": 69.45,
         "BbMxAHA": 15,
         "BbMxAHH": 11,
         "BbMxD": 33,
         "BbMxH": 39.17,
         "BbOU": 50,
         "FTAG": 8,
         "FTHG": 10,
         "GB<2.5": 2.65,
         "GB>2.5": 2.2,
         "GBA": 34,
         "GBAH": 1,
         "GBAHA": 2.89,
         "GBAHH": 2.6,
         "GBD": 11,
         "GBH": 17,
         "HC": 20,
         "HF": 37,
         "HR": 3,
         "HS": 37,
         "HST": 20,
         "HTAG": 6,
         "HTHG": 6,
         "HY": 8,
         "IWA": 42,
         "IWCA": 20,
         "IWCD": 9,
         "IWCH": 11,
         "IWD": 16,
         "IWH": 20,
         "LBA": 51,
         "LBAH": 1,
         "LBAHA": 2.15,
         "LBAHH": 2.15,
         "LBD": 19,
         "LBH": 26,
         "Max<2.5": 3.95,
         "Max>2.5": 3.4,
         "MaxA": 31,
         "MaxAHA": 2.25,
         "MaxAHH": 2.33,
         "MaxC<2.5": 4.61,
         "MaxC>2.5": 3.72,
         "MaxCA": 31.37,
         "MaxCAHA": 2.3,
         "MaxCAHH": 2.26,
         "MaxCD": 12.4,
         "MaxCH": 13,
         "MaxD": 10.5,
         "MaxH": 11,
         "P<2.5": 3.64,
         "P>2.5": 3.34,
         "PAHA": 2.2,
         "PAHH": 2.31,
         "PC<2.5": 4.52,
         "PC>2.5": 3.72,
         "PCAHA": 2.29,
         "PCAHH": 2.2,
         "PSA": 47.5,
         "PSCA": 51,
         "PSCD": 26.6,
         "PSCH": 37.63,
         "PSD": 29,
         "PSH": 36,
         "SBA": 34,
         "SBD": 13,
         "SBH": 19,
         "SJA": 41,
         "SJD": 15,
         "SJH": 23,
         "SOA": 13,
         "SOD": 6,
         "SOH": 7.5,
         "SYA": 11,
         "SYD": 5,
         "SYH": 6,
         "Season": 2020,
         "Unnamed: 0": 551,
         "Unnamed: 44": "nan",
         "Unnamed: 45": "nan",
         "Unnamed: 46": "nan",
         "Unnamed: 47": "nan",
         "Unnamed: 48": "nan",
         "Unnamed: 49": "nan",
         "Unnamed: 50": "nan",
         "VCA": 67,
         "VCCA": 26,
         "VCCD": 10.5,
         "VCCH": 10.5,
         "VCD": 26,
         "VCH": 36,
         "WHA": 51,
         "WHCA": 26,
         "WHCD": 11,
         "WHCH": 11,
         "WHD": 17,
         "WHH": 26,
         "_deepnote_index_column": "max"
        }
       ],
       "rows_top": [
        {
         "AC": 5743,
         "AF": 5743,
         "AHCh": 423,
         "AHh": 423,
         "AR": 5743,
         "AS": 5743,
         "AST": 5743,
         "AY": 5743,
         "Avg<2.5": 423,
         "Avg>2.5": 423,
         "AvgA": 423,
         "AvgAHA": 423,
         "AvgAHH": 423,
         "AvgC<2.5": 423,
         "AvgC>2.5": 423,
         "AvgCA": 423,
         "AvgCAHA": 423,
         "AvgCAHH": 423,
         "AvgCD": 423,
         "AvgCH": 423,
         "AvgD": 423,
         "AvgH": 423,
         "B365<2.5": 1266,
         "B365>2.5": 1266,
         "B365A": 6765,
         "B365AH": 628,
         "B365AHA": 1041,
         "B365AHH": 1041,
         "B365C<2.5": 423,
         "B365C>2.5": 423,
         "B365CA": 423,
         "B365CAHA": 423,
         "B365CAHH": 423,
         "B365CD": 423,
         "B365CH": 423,
         "B365D": 6765,
         "B365H": 6765,
         "BSA": 2280,
         "BSD": 2280,
         "BSH": 2280,
         "BWA": 6011,
         "BWCA": 423,
         "BWCD": 423,
         "BWCH": 423,
         "BWD": 6011,
         "BWH": 6011,
         "Bb1X2": 5320,
         "BbAH": 5310,
         "BbAHh": 5310,
         "BbAv<2.5": 5319,
         "BbAv>2.5": 5319,
         "BbAvA": 5320,
         "BbAvAHA": 5310,
         "BbAvAHH": 5310,
         "BbAvD": 5320,
         "BbAvH": 5320,
         "BbMx<2.5": 5319,
         "BbMx>2.5": 5319,
         "BbMxA": 5320,
         "BbMxAHA": 5310,
         "BbMxAHH": 5310,
         "BbMxD": 5320,
         "BbMxH": 5320,
         "BbOU": 5320,
         "FTAG": 10355,
         "FTHG": 10355,
         "GB<2.5": 978,
         "GB>2.5": 978,
         "GBA": 4729,
         "GBAH": 628,
         "GBAHA": 628,
         "GBAHH": 628,
         "GBD": 4729,
         "GBH": 4729,
         "HC": 5743,
         "HF": 5743,
         "HR": 5743,
         "HS": 5743,
         "HST": 5743,
         "HTAG": 9593,
         "HTHG": 9593,
         "HY": 5743,
         "IWA": 7509,
         "IWCA": 423,
         "IWCD": 423,
         "IWCH": 423,
         "IWD": 7509,
         "IWH": 7509,
         "LBA": 6657,
         "LBAH": 580,
         "LBAHA": 580,
         "LBAHH": 580,
         "LBD": 6657,
         "LBH": 6657,
         "Max<2.5": 423,
         "Max>2.5": 423,
         "MaxA": 423,
         "MaxAHA": 423,
         "MaxAHH": 423,
         "MaxC<2.5": 423,
         "MaxC>2.5": 423,
         "MaxCA": 423,
         "MaxCAHA": 423,
         "MaxCAHH": 423,
         "MaxCD": 423,
         "MaxCH": 423,
         "MaxD": 423,
         "MaxH": 423,
         "P<2.5": 421,
         "P>2.5": 421,
         "PAHA": 421,
         "PAHH": 421,
         "PC<2.5": 423,
         "PC>2.5": 423,
         "PCAHA": 423,
         "PCAHH": 423,
         "PSA": 3078,
         "PSCA": 3082,
         "PSCD": 3082,
         "PSCH": 3082,
         "PSD": 3078,
         "PSH": 3078,
         "SBA": 4395,
         "SBD": 4395,
         "SBH": 4395,
         "SJA": 3447,
         "SJD": 3447,
         "SJH": 3447,
         "SOA": 746,
         "SOD": 746,
         "SOH": 746,
         "SYA": 356,
         "SYD": 356,
         "SYH": 356,
         "Season": 11051,
         "Unnamed: 0": 11051,
         "Unnamed: 44": 0,
         "Unnamed: 45": 0,
         "Unnamed: 46": 0,
         "Unnamed: 47": 0,
         "Unnamed: 48": 0,
         "Unnamed: 49": 0,
         "Unnamed: 50": 0,
         "VCA": 5738,
         "VCCA": 423,
         "VCCD": 423,
         "VCCH": 423,
         "VCD": 5738,
         "VCH": 5738,
         "WHA": 7330,
         "WHCA": 423,
         "WHCD": 423,
         "WHCH": 423,
         "WHD": 7330,
         "WHH": 7330,
         "_deepnote_index_column": "count"
        },
        {
         "AC": 4.383423297927912,
         "AF": 15.133553891694236,
         "AHCh": -0.31619385342789597,
         "AHh": -0.31796690307328607,
         "AR": 0.17482152185269023,
         "AS": 10.910499738812467,
         "AST": 3.8439839804979976,
         "AY": 2.7060769632596204,
         "Avg<2.5": 1.857848699763593,
         "Avg>2.5": 2.111063829787234,
         "AvgA": 4.415697399527187,
         "AvgAHA": 1.9302836879432623,
         "AvgAHH": 1.9396690307328606,
         "AvgC<2.5": 1.8636643026004727,
         "AvgC>2.5": 2.138297872340426,
         "AvgCA": 4.5595035460992905,
         "AvgCAHA": 1.940449172576832,
         "AvgCAHH": 1.937470449172577,
         "AvgCD": 3.796950354609929,
         "AvgCH": 2.6524113475177304,
         "AvgD": 3.7873758865248224,
         "AvgH": 2.624160756501182,
         "B365<2.5": 1.8399684044233808,
         "B365>2.5": 1.9981516587677723,
         "B365A": 4.845131707317073,
         "B365AH": -0.3976910828025478,
         "B365AHA": 1.9482929875120079,
         "B365AHH": 1.9574390009606148,
         "B365C<2.5": 1.8554373522458631,
         "B365C>2.5": 2.1686524822695037,
         "B365CA": 4.547541371158392,
         "B365CAHA": 1.958628841607565,
         "B365CAHH": 1.9557919621749411,
         "B365CD": 3.8315366430260047,
         "B365CH": 2.6231914893617025,
         "B365D": 3.9238715447154475,
         "B365H": 2.5894900221729493,
         "BSA": 4.558754385964912,
         "BSD": 3.7923333333333336,
         "BSH": 2.507657894736842,
         "BWA": 4.770663783064382,
         "BWCA": 4.487352245862884,
         "BWCD": 3.793617021276596,
         "BWCH": 2.630851063829787,
         "BWD": 3.9414373648311427,
         "BWH": 2.604709698885377,
         "Bb1X2": 42.04436090225564,
         "BbAH": 21.957815442561206,
         "BbAHh": -0.36595103578154425,
         "BbAv<2.5": 1.9976687347245723,
         "BbAv>2.5": 1.9033051325437114,
         "BbAvA": 4.981445488721804,
         "BbAvAHA": 2.008201506591337,
         "BbAvAHH": 1.9229453860640302,
         "BbAvD": 3.994396616541353,
         "BbAvH": 2.6561146616541356,
         "BbMx<2.5": 2.1157849219778155,
         "BbMx>2.5": 2.0082481669486745,
         "BbMxA": 5.9120507518797,
         "BbMxAHA": 2.087851224105462,
         "BbMxAHH": 1.9917815442561206,
         "BbMxD": 4.401304511278196,
         "BbMxH": 2.9024718045112783,
         "BbOU": 34.59473684210526,
         "FTAG": 1.1095123128923225,
         "FTHG": 1.568903911154032,
         "GB<2.5": 1.8362269938650306,
         "GB>2.5": 1.8313108384458077,
         "GBA": 4.379974624656374,
         "GBAH": -0.39371019108280253,
         "GBAHA": 1.9085509554140125,
         "GBAHH": 1.8887738853503182,
         "GBD": 3.59833580038063,
         "GBH": 2.3553943751321635,
         "HC": 5.835277729409716,
         "HF": 15.249172906146613,
         "HR": 0.13773289221661153,
         "HS": 13.840849730106216,
         "HST": 4.983632247954031,
         "HTAG": 0.4830605649953091,
         "HTHG": 0.6932138017304285,
         "HY": 2.4387950548493817,
         "IWA": 4.366088693567718,
         "IWCA": 4.31936170212766,
         "IWCD": 3.710401891252955,
         "IWCH": 2.636359338061465,
         "IWD": 3.662511652683447,
         "IWH": 2.438171527500333,
         "LBA": 4.60723614240649,
         "LBAH": -0.4051724137931034,
         "LBAHA": 1.916586206896552,
         "LBAHH": 1.9292758620689656,
         "LBD": 3.7633663812528164,
         "LBH": 2.452771668919934,
         "Max<2.5": 1.9392198581560283,
         "Max>2.5": 2.2105200945626478,
         "MaxA": 4.868274231678487,
         "MaxAHA": 1.9870449172576836,
         "MaxAHH": 1.9968321513002363,
         "MaxC<2.5": 1.9807801418439717,
         "MaxC>2.5": 2.2656028368794328,
         "MaxCA": 5.1276122931442085,
         "MaxCAHA": 2.0189361702127657,
         "MaxCAHH": 2.018463356973995,
         "MaxCD": 4.0338534278959814,
         "MaxCH": 2.864728132387707,
         "MaxD": 3.9941607565011825,
         "MaxH": 2.77371158392435,
         "P<2.5": 1.9004275534441806,
         "P>2.5": 2.1742280285035633,
         "PAHA": 1.9524703087885986,
         "PAHH": 1.9679334916864608,
         "PC<2.5": 1.9076832151300238,
         "PC>2.5": 2.2106619385342787,
         "PCAHA": 1.9625295508274234,
         "PCAHH": 1.9596690307328606,
         "PSA": 5.652033788174139,
         "PSCA": 5.783682673588579,
         "PSCD": 4.550629461388709,
         "PSCH": 2.9356748864373787,
         "PSD": 4.5271020142949965,
         "PSH": 2.92943469785575,
         "SBA": 4.257351308304893,
         "SBD": 3.541527645051195,
         "SBH": 2.307445506257111,
         "SJA": 4.940867420945749,
         "SJD": 3.8615491731940814,
         "SJH": 2.5592573252103277,
         "SOA": 4.007305630026809,
         "SOD": 3.3424932975871315,
         "SOH": 2.139946380697051,
         "SYA": 4.061244382022473,
         "SYD": 3.3411769662921342,
         "SYH": 2.0428511235955056,
         "Season": 2005.2498416432902,
         "Unnamed: 0": 208.96489005519862,
         "Unnamed: 44": "nan",
         "Unnamed: 45": "nan",
         "Unnamed: 46": "nan",
         "Unnamed: 47": "nan",
         "Unnamed: 48": "nan",
         "Unnamed: 49": "nan",
         "Unnamed: 50": "nan",
         "VCA": 5.20524590449634,
         "VCCA": 4.480921985815603,
         "VCCD": 3.8181560283687945,
         "VCCH": 2.6269739952718676,
         "VCD": 4.1114923318229355,
         "VCH": 2.703166957127919,
         "WHA": 4.697342428376534,
         "WHCA": 4.717990543735224,
         "WHCD": 3.7979196217494096,
         "WHCH": 2.6758865248226953,
         "WHD": 3.7287994542974077,
         "WHH": 2.5067039563437925,
         "_deepnote_index_column": "mean"
        },
        {
         "AC": 2.5224765263895863,
         "AF": 4.805781453861928,
         "AHCh": 0.74089508455168,
         "AHh": 0.7156153543593714,
         "AR": 0.4248627930342849,
         "AS": 4.448474252382691,
         "AST": 2.2412883186916615,
         "AY": 1.4973480512864865,
         "Avg<2.5": 0.41384036095162446,
         "Avg>2.5": 0.4159543964152156,
         "AvgA": 3.1615769991392138,
         "AvgAHA": 0.09348398698886169,
         "AvgAHH": 0.09434927627897495,
         "AvgC<2.5": 0.4558238734729559,
         "AvgC>2.5": 0.46743368759005866,
         "AvgCA": 3.455852442402653,
         "AvgCAHA": 0.09788055707394197,
         "AvgCAHH": 0.09772280873689668,
         "AvgCD": 1.1354076933995632,
         "AvgCH": 1.4801289975369045,
         "AvgD": 1.040773941011784,
         "AvgH": 1.416075008279015,
         "B365<2.5": 0.2700288357258536,
         "B365>2.5": 0.2912807684560468,
         "B365A": 4.456955599055571,
         "B365AH": 0.5282892737228005,
         "B365AHA": 0.10537106429737882,
         "B365AHH": 0.10465363373713103,
         "B365C<2.5": 0.47473937496960084,
         "B365C>2.5": 0.5137205888420493,
         "B365CA": 3.551892774571347,
         "B365CAHA": 0.10409853070577145,
         "B365CAHH": 0.10262790762454395,
         "B365CD": 1.1443867758972137,
         "B365CH": 1.4883067062506052,
         "B365D": 1.5301140469437875,
         "B365H": 2.0360161474306966,
         "BSA": 3.8559558431081733,
         "BSD": 1.202994943825241,
         "BSH": 1.8094932118420495,
         "BWA": 4.292975213254195,
         "BWCA": 3.243035496060658,
         "BWCD": 1.1244743542468536,
         "BWCH": 1.450643339563014,
         "BWD": 1.5153645043002542,
         "BWH": 2.0064018492738382,
         "Bb1X2": 7.2325735723089695,
         "BbAH": 4.135502734908288,
         "BbAHh": 0.8575091231378836,
         "BbAv<2.5": 0.5522197151704887,
         "BbAv>2.5": 0.2985964710656923,
         "BbAvA": 4.828593093080353,
         "BbAvAHA": 0.5025637650983392,
         "BbAvAHH": 0.36395069984269013,
         "BbAvD": 1.6364419387965723,
         "BbAvH": 2.182360309397411,
         "BbMx<2.5": 0.64392139918215,
         "BbMx>2.5": 0.3346007484355562,
         "BbMxA": 7.0917823738117125,
         "BbMxAHA": 0.6053610530985598,
         "BbMxAHH": 0.4292202400012114,
         "BbMxD": 2.333883254296859,
         "BbMxH": 2.737291337178616,
         "BbOU": 5.58868160024112,
         "FTAG": 1.1177451257927051,
         "FTHG": 1.318417810272836,
         "GB<2.5": 0.13936461169243128,
         "GB>2.5": 0.1290695919856626,
         "GBA": 3.0874537611009383,
         "GBAH": 0.5529645423490898,
         "GBAHA": 0.2066864014195929,
         "GBAHH": 0.1921097336096206,
         "GBD": 0.9429447927307899,
         "GBH": 1.4248178327390475,
         "HC": 2.9482407346536075,
         "HF": 4.856857923684569,
         "HR": 0.3765258709533176,
         "HS": 5.0099958712533,
         "HST": 2.6360725879303817,
         "HTAG": 0.6962230810505678,
         "HTHG": 0.8435923558283316,
         "HY": 1.480409423878821,
         "IWA": 3.441072534030718,
         "IWCA": 2.9146639908037586,
         "IWCD": 1.0016091693610205,
         "IWCH": 1.4332144905014905,
         "IWD": 1.1102600662854978,
         "IWH": 1.6652918710722837,
         "LBA": 4.1633660799288865,
         "LBAH": 0.5488400120464789,
         "LBAHA": 0.10368046342881461,
         "LBAHH": 0.10341238155983698,
         "LBD": 1.3937775307407332,
         "LBH": 1.8173871479443602,
         "Max<2.5": 0.4514753134522993,
         "Max>2.5": 0.4507778574064537,
         "MaxA": 3.9656990324045065,
         "MaxAHA": 0.0990620245478399,
         "MaxAHH": 0.09818440772948792,
         "MaxC<2.5": 0.5188609529678175,
         "MaxC>2.5": 0.5188156885300587,
         "MaxCA": 4.3545371251656215,
         "MaxCAHA": 0.10985795737050755,
         "MaxCAHH": 0.1047961368046454,
         "MaxCD": 1.329305683174036,
         "MaxCH": 1.7585331186049324,
         "MaxD": 1.1899210187941665,
         "MaxH": 1.6043553523810852,
         "P<2.5": 0.44626631766986313,
         "P>2.5": 0.449414630140098,
         "PAHA": 0.0987135210362826,
         "PAHH": 0.09892881204091512,
         "PC<2.5": 0.5035168487201681,
         "PC>2.5": 0.5148441411816098,
         "PCAHA": 0.10399363565805698,
         "PCAHH": 0.10308228048738587,
         "PSA": 5.924779976236568,
         "PSCA": 6.249416068837623,
         "PSCD": 2.549290243604279,
         "PSCH": 2.7917065848746576,
         "PSD": 2.461368307545786,
         "PSH": 2.7603716324134533,
         "SBA": 2.917175196313281,
         "SBD": 0.8808229622884827,
         "SBH": 1.3758085042771129,
         "SJA": 4.706171227472499,
         "SJD": 1.3891491994668255,
         "SJH": 1.9915889370360436,
         "SOA": 2.0225295094341686,
         "SOD": 0.41657079204768077,
         "SOH": 0.7274580159063108,
         "SYA": 1.9170507731590622,
         "SYD": 0.42027095167292544,
         "SYH": 0.623066783908436,
         "Season": 8.097131983301951,
         "Unnamed: 0": 129.74215444674638,
         "Unnamed: 44": "nan",
         "Unnamed: 45": "nan",
         "Unnamed: 46": "nan",
         "Unnamed: 47": "nan",
         "Unnamed: 48": "nan",
         "Unnamed: 49": "nan",
         "Unnamed: 50": "nan",
         "VCA": 5.736387728242776,
         "VCCA": 3.4327409979930334,
         "VCCD": 1.1142325283603178,
         "VCCH": 1.4616679807849693,
         "VCD": 1.8892507112569166,
         "VCH": 2.381489482475819,
         "WHA": 4.324634484376156,
         "WHCA": 3.839099356256483,
         "WHCD": 1.1422389766506618,
         "WHCH": 1.5666209014002863,
         "WHD": 1.2888958909509205,
         "WHH": 1.883908837368748,
         "_deepnote_index_column": "std"
        }
       ]
      },
      "text/html": [
       "<div>\n",
       "<style scoped>\n",
       "    .dataframe tbody tr th:only-of-type {\n",
       "        vertical-align: middle;\n",
       "    }\n",
       "\n",
       "    .dataframe tbody tr th {\n",
       "        vertical-align: top;\n",
       "    }\n",
       "\n",
       "    .dataframe thead th {\n",
       "        text-align: right;\n",
       "    }\n",
       "</style>\n",
       "<table border=\"1\" class=\"dataframe\">\n",
       "  <thead>\n",
       "    <tr style=\"text-align: right;\">\n",
       "      <th></th>\n",
       "      <th>Unnamed: 0</th>\n",
       "      <th>FTHG</th>\n",
       "      <th>FTAG</th>\n",
       "      <th>Season</th>\n",
       "      <th>HTHG</th>\n",
       "      <th>HTAG</th>\n",
       "      <th>GBH</th>\n",
       "      <th>GBD</th>\n",
       "      <th>GBA</th>\n",
       "      <th>IWH</th>\n",
       "      <th>...</th>\n",
       "      <th>AvgC&lt;2.5</th>\n",
       "      <th>AHCh</th>\n",
       "      <th>B365CAHH</th>\n",
       "      <th>B365CAHA</th>\n",
       "      <th>PCAHH</th>\n",
       "      <th>PCAHA</th>\n",
       "      <th>MaxCAHH</th>\n",
       "      <th>MaxCAHA</th>\n",
       "      <th>AvgCAHH</th>\n",
       "      <th>AvgCAHA</th>\n",
       "    </tr>\n",
       "  </thead>\n",
       "  <tbody>\n",
       "    <tr>\n",
       "      <th>count</th>\n",
       "      <td>11051.000000</td>\n",
       "      <td>10355.000000</td>\n",
       "      <td>10355.000000</td>\n",
       "      <td>11051.000000</td>\n",
       "      <td>9593.000000</td>\n",
       "      <td>9593.000000</td>\n",
       "      <td>4729.000000</td>\n",
       "      <td>4729.000000</td>\n",
       "      <td>4729.000000</td>\n",
       "      <td>7509.000000</td>\n",
       "      <td>...</td>\n",
       "      <td>423.000000</td>\n",
       "      <td>423.000000</td>\n",
       "      <td>423.000000</td>\n",
       "      <td>423.000000</td>\n",
       "      <td>423.000000</td>\n",
       "      <td>423.000000</td>\n",
       "      <td>423.000000</td>\n",
       "      <td>423.000000</td>\n",
       "      <td>423.000000</td>\n",
       "      <td>423.000000</td>\n",
       "    </tr>\n",
       "    <tr>\n",
       "      <th>mean</th>\n",
       "      <td>208.964890</td>\n",
       "      <td>1.568904</td>\n",
       "      <td>1.109512</td>\n",
       "      <td>2005.249842</td>\n",
       "      <td>0.693214</td>\n",
       "      <td>0.483061</td>\n",
       "      <td>2.355394</td>\n",
       "      <td>3.598336</td>\n",
       "      <td>4.379975</td>\n",
       "      <td>2.438172</td>\n",
       "      <td>...</td>\n",
       "      <td>1.863664</td>\n",
       "      <td>-0.316194</td>\n",
       "      <td>1.955792</td>\n",
       "      <td>1.958629</td>\n",
       "      <td>1.959669</td>\n",
       "      <td>1.962530</td>\n",
       "      <td>2.018463</td>\n",
       "      <td>2.018936</td>\n",
       "      <td>1.937470</td>\n",
       "      <td>1.940449</td>\n",
       "    </tr>\n",
       "    <tr>\n",
       "      <th>std</th>\n",
       "      <td>129.742154</td>\n",
       "      <td>1.318418</td>\n",
       "      <td>1.117745</td>\n",
       "      <td>8.097132</td>\n",
       "      <td>0.843592</td>\n",
       "      <td>0.696223</td>\n",
       "      <td>1.424818</td>\n",
       "      <td>0.942945</td>\n",
       "      <td>3.087454</td>\n",
       "      <td>1.665292</td>\n",
       "      <td>...</td>\n",
       "      <td>0.455824</td>\n",
       "      <td>0.740895</td>\n",
       "      <td>0.102628</td>\n",
       "      <td>0.104099</td>\n",
       "      <td>0.103082</td>\n",
       "      <td>0.103994</td>\n",
       "      <td>0.104796</td>\n",
       "      <td>0.109858</td>\n",
       "      <td>0.097723</td>\n",
       "      <td>0.097881</td>\n",
       "    </tr>\n",
       "    <tr>\n",
       "      <th>min</th>\n",
       "      <td>0.000000</td>\n",
       "      <td>0.000000</td>\n",
       "      <td>0.000000</td>\n",
       "      <td>1993.000000</td>\n",
       "      <td>0.000000</td>\n",
       "      <td>0.000000</td>\n",
       "      <td>1.050000</td>\n",
       "      <td>2.350000</td>\n",
       "      <td>1.120000</td>\n",
       "      <td>1.030000</td>\n",
       "      <td>...</td>\n",
       "      <td>1.290000</td>\n",
       "      <td>-2.750000</td>\n",
       "      <td>1.680000</td>\n",
       "      <td>1.670000</td>\n",
       "      <td>1.700000</td>\n",
       "      <td>1.750000</td>\n",
       "      <td>1.780000</td>\n",
       "      <td>1.800000</td>\n",
       "      <td>1.710000</td>\n",
       "      <td>1.750000</td>\n",
       "    </tr>\n",
       "    <tr>\n",
       "      <th>25%</th>\n",
       "      <td>100.000000</td>\n",
       "      <td>1.000000</td>\n",
       "      <td>0.000000</td>\n",
       "      <td>1998.000000</td>\n",
       "      <td>0.000000</td>\n",
       "      <td>0.000000</td>\n",
       "      <td>1.700000</td>\n",
       "      <td>3.200000</td>\n",
       "      <td>2.750000</td>\n",
       "      <td>1.650000</td>\n",
       "      <td>...</td>\n",
       "      <td>1.550000</td>\n",
       "      <td>-0.750000</td>\n",
       "      <td>1.880000</td>\n",
       "      <td>1.880000</td>\n",
       "      <td>1.880000</td>\n",
       "      <td>1.880000</td>\n",
       "      <td>1.940000</td>\n",
       "      <td>1.930000</td>\n",
       "      <td>1.860000</td>\n",
       "      <td>1.860000</td>\n",
       "    </tr>\n",
       "    <tr>\n",
       "      <th>50%</th>\n",
       "      <td>203.000000</td>\n",
       "      <td>1.000000</td>\n",
       "      <td>1.000000</td>\n",
       "      <td>2005.000000</td>\n",
       "      <td>0.000000</td>\n",
       "      <td>0.000000</td>\n",
       "      <td>2.050000</td>\n",
       "      <td>3.300000</td>\n",
       "      <td>3.500000</td>\n",
       "      <td>2.000000</td>\n",
       "      <td>...</td>\n",
       "      <td>1.740000</td>\n",
       "      <td>-0.250000</td>\n",
       "      <td>1.960000</td>\n",
       "      <td>1.970000</td>\n",
       "      <td>1.950000</td>\n",
       "      <td>1.970000</td>\n",
       "      <td>2.010000</td>\n",
       "      <td>2.020000</td>\n",
       "      <td>1.930000</td>\n",
       "      <td>1.940000</td>\n",
       "    </tr>\n",
       "    <tr>\n",
       "      <th>75%</th>\n",
       "      <td>306.000000</td>\n",
       "      <td>2.000000</td>\n",
       "      <td>2.000000</td>\n",
       "      <td>2012.000000</td>\n",
       "      <td>1.000000</td>\n",
       "      <td>1.000000</td>\n",
       "      <td>2.450000</td>\n",
       "      <td>3.500000</td>\n",
       "      <td>4.800000</td>\n",
       "      <td>2.500000</td>\n",
       "      <td>...</td>\n",
       "      <td>2.040000</td>\n",
       "      <td>0.000000</td>\n",
       "      <td>2.040000</td>\n",
       "      <td>2.040000</td>\n",
       "      <td>2.040000</td>\n",
       "      <td>2.045000</td>\n",
       "      <td>2.100000</td>\n",
       "      <td>2.105000</td>\n",
       "      <td>2.015000</td>\n",
       "      <td>2.020000</td>\n",
       "    </tr>\n",
       "    <tr>\n",
       "      <th>max</th>\n",
       "      <td>551.000000</td>\n",
       "      <td>10.000000</td>\n",
       "      <td>8.000000</td>\n",
       "      <td>2020.000000</td>\n",
       "      <td>6.000000</td>\n",
       "      <td>6.000000</td>\n",
       "      <td>17.000000</td>\n",
       "      <td>11.000000</td>\n",
       "      <td>34.000000</td>\n",
       "      <td>20.000000</td>\n",
       "      <td>...</td>\n",
       "      <td>4.130000</td>\n",
       "      <td>1.750000</td>\n",
       "      <td>2.160000</td>\n",
       "      <td>2.190000</td>\n",
       "      <td>2.200000</td>\n",
       "      <td>2.290000</td>\n",
       "      <td>2.260000</td>\n",
       "      <td>2.300000</td>\n",
       "      <td>2.150000</td>\n",
       "      <td>2.210000</td>\n",
       "    </tr>\n",
       "  </tbody>\n",
       "</table>\n",
       "<p>8 rows × 155 columns</p>\n",
       "</div>"
      ],
      "text/plain": [
       "         Unnamed: 0          FTHG          FTAG        Season         HTHG  \\\n",
       "count  11051.000000  10355.000000  10355.000000  11051.000000  9593.000000   \n",
       "mean     208.964890      1.568904      1.109512   2005.249842     0.693214   \n",
       "std      129.742154      1.318418      1.117745      8.097132     0.843592   \n",
       "min        0.000000      0.000000      0.000000   1993.000000     0.000000   \n",
       "25%      100.000000      1.000000      0.000000   1998.000000     0.000000   \n",
       "50%      203.000000      1.000000      1.000000   2005.000000     0.000000   \n",
       "75%      306.000000      2.000000      2.000000   2012.000000     1.000000   \n",
       "max      551.000000     10.000000      8.000000   2020.000000     6.000000   \n",
       "\n",
       "              HTAG          GBH          GBD          GBA          IWH  ...  \\\n",
       "count  9593.000000  4729.000000  4729.000000  4729.000000  7509.000000  ...   \n",
       "mean      0.483061     2.355394     3.598336     4.379975     2.438172  ...   \n",
       "std       0.696223     1.424818     0.942945     3.087454     1.665292  ...   \n",
       "min       0.000000     1.050000     2.350000     1.120000     1.030000  ...   \n",
       "25%       0.000000     1.700000     3.200000     2.750000     1.650000  ...   \n",
       "50%       0.000000     2.050000     3.300000     3.500000     2.000000  ...   \n",
       "75%       1.000000     2.450000     3.500000     4.800000     2.500000  ...   \n",
       "max       6.000000    17.000000    11.000000    34.000000    20.000000  ...   \n",
       "\n",
       "         AvgC<2.5        AHCh    B365CAHH    B365CAHA       PCAHH       PCAHA  \\\n",
       "count  423.000000  423.000000  423.000000  423.000000  423.000000  423.000000   \n",
       "mean     1.863664   -0.316194    1.955792    1.958629    1.959669    1.962530   \n",
       "std      0.455824    0.740895    0.102628    0.104099    0.103082    0.103994   \n",
       "min      1.290000   -2.750000    1.680000    1.670000    1.700000    1.750000   \n",
       "25%      1.550000   -0.750000    1.880000    1.880000    1.880000    1.880000   \n",
       "50%      1.740000   -0.250000    1.960000    1.970000    1.950000    1.970000   \n",
       "75%      2.040000    0.000000    2.040000    2.040000    2.040000    2.045000   \n",
       "max      4.130000    1.750000    2.160000    2.190000    2.200000    2.290000   \n",
       "\n",
       "          MaxCAHH     MaxCAHA     AvgCAHH     AvgCAHA  \n",
       "count  423.000000  423.000000  423.000000  423.000000  \n",
       "mean     2.018463    2.018936    1.937470    1.940449  \n",
       "std      0.104796    0.109858    0.097723    0.097881  \n",
       "min      1.780000    1.800000    1.710000    1.750000  \n",
       "25%      1.940000    1.930000    1.860000    1.860000  \n",
       "50%      2.010000    2.020000    1.930000    1.940000  \n",
       "75%      2.100000    2.105000    2.015000    2.020000  \n",
       "max      2.260000    2.300000    2.150000    2.210000  \n",
       "\n",
       "[8 rows x 155 columns]"
      ]
     },
     "execution_count": 79,
     "metadata": {},
     "output_type": "execute_result"
    }
   ],
   "source": [
    "matches.describe()"
   ]
  },
  {
   "cell_type": "code",
   "execution_count": 8,
   "metadata": {
    "cell_id": "00031-3a0b93af-1722-463d-84e8-133bc7c13847",
    "execution_millis": 0,
    "execution_start": 1605462725971,
    "output_cleared": false,
    "source_hash": "a8308652",
    "tags": []
   },
   "outputs": [],
   "source": [
    "\n",
    "def getform(ht, at, i):\n",
    "    global matches\n",
    "    htdatalast20 = {'wins': 0, 'goaldiff': 0}\n",
    "    atdatalast20 = {'wins': 0, 'goaldiff': 0}\n",
    "    htfound = 0\n",
    "    atfound = 0\n",
    "    versusdatalast5 = {'wins': 0, 'goaldiff': 0}\n",
    "    versusfound = 0\n",
    "    kk = i-1\n",
    "    for j in range(kk, 0, -1):\n",
    "        cht = matches.loc[j, 'HomeTeam']\n",
    "        cat = matches.loc[j, 'AwayTeam']\n",
    "        if(htfound < 20):\n",
    "            if(cht == ht):\n",
    "                htfound += 1\n",
    "                htdatalast20['goaldiff'] += matches.loc[j,\n",
    "                    'FTHG'] - matches.loc[j, 'FTAG']\n",
    "                if(matches.at[j, 'FTR'] == 'D'):\n",
    "                    htdatalast20['wins'] += 0.5\n",
    "                elif(matches.at[j, 'FTR'] == 'H'):\n",
    "                    htdatalast20['wins'] += 1\n",
    "                else:\n",
    "                        None\n",
    "            if(cat == ht):\n",
    "                htfound += 1\n",
    "                htdatalast20['goaldiff'] -= (matches.loc[j,\n",
    "                                                'FTHG'] - matches.loc[j, 'FTAG'])\n",
    "                if(matches.at[j, 'FTR'] == 'D'):\n",
    "                    htdatalast20['wins'] += 0.5\n",
    "                elif(matches.at[j, 'FTR'] == 'H'):\n",
    "                    htdatalast20['wins'] -= 1\n",
    "                else:\n",
    "                        None\n",
    "        if(atfound < 20):\n",
    "            if(cht == at):\n",
    "                atfound += 1\n",
    "                atdatalast20['goaldiff'] += (matches.loc[j,\n",
    "                                                'FTHG'] - matches.loc[j, 'FTAG'])\n",
    "                if(matches.at[j, 'FTR'] == 'D'):\n",
    "                    atdatalast20['wins'] += 0.5\n",
    "                elif(matches.at[j, 'FTR'] == 'H'):\n",
    "                    atdatalast20['wins'] += 1\n",
    "                else:\n",
    "                        None\n",
    "            if(cat == at):\n",
    "                atfound += 1\n",
    "                atdatalast20['goaldiff'] -= (matches.loc[j,\n",
    "                                                'FTHG'] - matches.loc[j, 'FTAG'])\n",
    "                if(matches.at[j, 'FTR'] == 'D'):\n",
    "                    atdatalast20['wins'] += 0.5\n",
    "                elif(matches.at[j, 'FTR'] == 'H'):\n",
    "                    atdatalast20['wins'] -= 1\n",
    "                else:\n",
    "                        None\n",
    "        if(versusfound < 5):\n",
    "            if((cht == ht and cat == at) or (cht == at and cat == ht)):\n",
    "                versusfound += 1\n",
    "                if(cht == ht):\n",
    "                    versusdatalast5['goaldiff'] += matches.loc[j,\n",
    "                        'FTHG'] - matches.loc[j, 'FTAG']\n",
    "                    if(matches.at[j, 'FTR'] == 'D'):\n",
    "                        versusdatalast5['wins'] += 0.5\n",
    "                    elif(matches.at[j, 'FTR'] == 'H'):\n",
    "                        versusdatalast5['wins'] += 1\n",
    "                    else:\n",
    "                        None\n",
    "                else:\n",
    "                    versusdatalast5['goaldiff'] -= (\n",
    "                        matches.loc[j, 'FTHG'] - matches.loc[j, 'FTAG'])\n",
    "                    if(matches.at[j, 'FTR'] == 'D'):\n",
    "                        versusdatalast5['wins'] += 0\n",
    "                    elif(matches.at[j, 'FTR'] == 'H'):\n",
    "                        versusdatalast5['wins'] -= 1\n",
    "                    else:\n",
    "                        None\n",
    "        if(versusfound == 5 and htfound == 20 and atfound == 20):\n",
    "            break\n",
    "\n",
    "    if(versusfound==5 and htfound==20 and atfound==20):\n",
    "        dictt={'ht':ht,'at':at,'htwinslast20':htdatalast20['wins'],'atwinslast20':atdatalast20['wins'],\\\n",
    "                'htgdlast20':htdatalast20['goaldiff'],'atgdlast20':atdatalast20['goaldiff'],\\\n",
    "                'versuslast5':versusdatalast5['wins']\\\n",
    "                }\n",
    "        return dictt"
   ]
  },
  {
   "cell_type": "code",
   "execution_count": 9,
   "metadata": {
    "cell_id": "00031-2e54268b-9710-4d8d-a178-d9d5cafa1c94",
    "execution_millis": 9066,
    "execution_start": 1605462805276,
    "output_cleared": false,
    "source_hash": "7aad8670",
    "tags": []
   },
   "outputs": [
    {
     "name": "stdout",
     "output_type": "stream",
     "text": [
      "0\n",
      "1000\n",
      "2000\n",
      "3000\n",
      "4000\n",
      "5000\n",
      "6000\n",
      "7000\n",
      "8000\n",
      "9000\n",
      "10000\n",
      "11000\n"
     ]
    }
   ],
   "source": [
    "modeldata=pd.DataFrame()\n",
    "for i , row in matches.iterrows():\n",
    "    if(i > 1000):\n",
    "            dictt=getform(matches.at[i,'HomeTeam'],matches.at[i,'AwayTeam'],i)\n",
    "            if(dictt!=None):\n",
    "                dictt['result']=matches.at[i,'FTR']\n",
    "                modeldata=modeldata.append(dictt,ignore_index=True)\n",
    "    if(i%1000==0):\n",
    "        print(i)\n",
    "modeldata.to_csv('modeldata.csv' , index=False)"
   ]
  },
  {
   "cell_type": "code",
   "execution_count": 10,
   "metadata": {
    "cell_id": "00031-70fc1108-d0cc-4051-ad89-5cf796932be0",
    "output_cleared": false,
    "source_hash": "37d52b77"
   },
   "outputs": [
    {
     "data": {
      "text/plain": [
       "11050"
      ]
     },
     "execution_count": 10,
     "metadata": {},
     "output_type": "execute_result"
    }
   ],
   "source": [
    "i"
   ]
  },
  {
   "cell_type": "code",
   "execution_count": 25,
   "metadata": {
    "cell_id": "00032-15ca528b-209e-49e7-9100-119197c0f5e2",
    "output_cleared": false,
    "source_hash": "a3f56077"
   },
   "outputs": [],
   "source": [
    "modeldata=pd.\n",
    "modeldata.describe()"
   ]
  },
  {
   "cell_type": "code",
   "execution_count": 30,
   "metadata": {
    "cell_id": "00033-1f8a6829-ac20-4b18-9a88-bdcd6b07e96b",
    "output_cleared": false,
    "source_hash": "9209272f"
   },
   "outputs": [],
   "source": []
  },
  {
   "cell_type": "code",
   "execution_count": null,
   "metadata": {
    "cell_id": "00034-9ee2e6c9-c6ee-4528-a03c-064630ec3b04",
    "output_cleared": false,
    "source_hash": "b623e53d"
   },
   "outputs": [],
   "source": []
  },
  {
   "cell_type": "code",
   "execution_count": null,
   "metadata": {
    "cell_id": "00035-dc9fdf26-0548-4e8c-b5bc-a3d496d5faed",
    "output_cleared": false,
    "source_hash": "b623e53d"
   },
   "outputs": [],
   "source": []
  },
  {
   "cell_type": "code",
   "execution_count": null,
   "metadata": {
    "cell_id": "00036-d8e45afd-c0b5-49f5-ac97-b4353d64de6f",
    "output_cleared": false,
    "source_hash": "b623e53d"
   },
   "outputs": [],
   "source": []
  },
  {
   "cell_type": "code",
   "execution_count": null,
   "metadata": {
    "cell_id": "00037-ae47349c-eee7-42de-b4bb-9823c1cdb718",
    "output_cleared": false,
    "source_hash": "b623e53d"
   },
   "outputs": [],
   "source": []
  },
  {
   "cell_type": "markdown",
   "metadata": {
    "cell_id": "00038-c5d9f7be-4a6c-47ea-b51f-6f6e744f69e1",
    "output_cleared": false
   },
   "source": [
    "# Models"
   ]
  },
  {
   "cell_type": "code",
   "execution_count": 11,
   "metadata": {
    "cell_id": "00039-d074dfce-d3b6-4589-9973-cb0ac7761f1a",
    "execution_millis": 0,
    "execution_start": 1605460422990,
    "output_cleared": false,
    "source_hash": "4aea2a09"
   },
   "outputs": [],
   "source": [
    "df = pd.read_csv(\"modeldata.csv\")"
   ]
  },
  {
   "cell_type": "code",
   "execution_count": 12,
   "metadata": {
    "cell_id": "00040-3771a155-b2cd-4d88-b5a4-c11d73f5565c",
    "execution_millis": 2,
    "execution_start": 1605460425874,
    "output_cleared": false,
    "source_hash": "58fc76a2"
   },
   "outputs": [],
   "source": [
    "req_features = ['atgdlast20','atwinslast20','htgdlast20','htwinslast20','versuslast5']"
   ]
  },
  {
   "cell_type": "code",
   "execution_count": 13,
   "metadata": {
    "cell_id": "00041-330017a0-c0a9-4909-b6c4-7ad48845afca",
    "execution_millis": 0,
    "execution_start": 1605460428928,
    "output_cleared": false,
    "source_hash": "e02e3733"
   },
   "outputs": [],
   "source": [
    "X = df[req_features]\n",
    "Y = df['result']"
   ]
  },
  {
   "cell_type": "code",
   "execution_count": null,
   "metadata": {
    "cell_id": "00042-3a4c91dc-358e-4e6f-8ed0-949059ee8f14",
    "output_cleared": false,
    "source_hash": "b623e53d"
   },
   "outputs": [],
   "source": []
  },
  {
   "cell_type": "code",
   "execution_count": 14,
   "metadata": {
    "cell_id": "00043-a9f46db2-9dfc-40bf-8966-6dc2841c06e9",
    "execution_millis": 158,
    "execution_start": 1605460433769,
    "output_cleared": false,
    "source_hash": "20134944"
   },
   "outputs": [],
   "source": [
    "import matplotlib.pyplot as plt\n",
    "import seaborn as sns\n",
    "from sklearn import metrics\n"
   ]
  },
  {
   "cell_type": "code",
   "execution_count": 44,
   "metadata": {
    "cell_id": "00044-bfd00a93-9324-4bbb-aac6-4dc503e10731",
    "execution_millis": 0,
    "execution_start": 1605460435757,
    "output_cleared": false,
    "source_hash": "986388d5"
   },
   "outputs": [],
   "source": [
    "from sklearn.model_selection import train_test_split\n",
    "x_train, x_test, y_train, y_test = train_test_split(X, Y, test_size=0.3, random_state=0)"
   ]
  },
  {
   "cell_type": "code",
   "execution_count": 45,
   "metadata": {
    "cell_id": "00045-ad125949-b22f-4b61-a0b3-3750bda193ba",
    "execution_millis": 2,
    "execution_start": 1605460438277,
    "output_cleared": false,
    "source_hash": "275c3cda"
   },
   "outputs": [],
   "source": [
    "## Train classifier\n",
    "def train_classifier(cls, X_train, y_train):\n",
    "    cls.fit(X_train, y_train)\n",
    "    \n",
    "def predict_labels(cls, features, target):\n",
    "    # Makes predictions using a fit classifier based on F1 score.\n",
    "    y_pred = cls.predict(features)\n",
    "    return cls.score(features, target) ,y_pred\n",
    "\n",
    "def train_predict(cls, X_train, y_train, X_test, y_test):\n",
    "    print(\"Training a {} using a training set size of {} \".format(cls.__class__.__name__, len(X_train)))\n",
    "\n",
    "    # Train the classifier\n",
    "    train_classifier(cls, X_train, y_train)\n",
    "\n",
    "    # Print the results of prediction for both training and testing\n",
    "    acc , predictions = predict_labels(cls, X_train, y_train)\n",
    "    print(\"for training set\")\n",
    "    print(\"accuracy :\", acc)\n",
    "    print('')\n",
    "    \n",
    "    acc , predictions= predict_labels(cls, X_test, y_test)\n",
    "    print(\"for test set\")\n",
    "    print(\"accuracy :\", acc)\n",
    "    return predictions ,acc\n",
    "\n",
    "## Plot confusion matrix\n",
    "def plot_confusion(predictions ,y_test, score):\n",
    "    cm = metrics.confusion_matrix(y_test, predictions)\n",
    "    sns.heatmap(cm, annot=True, fmt=\".3f\", linewidths=.5, square = True, cmap = 'OrRd');\n",
    "    plt.ylabel('Actual label');\n",
    "    plt.xlabel('Predicted label');\n",
    "    all_sample_title = 'Accuracy Score: {0}'.format(score)\n",
    "    plt.title(all_sample_title, size = 10);"
   ]
  },
  {
   "cell_type": "code",
   "execution_count": 46,
   "metadata": {
    "cell_id": "00046-3215f779-dd5b-47ea-bc17-106e2250bbe5",
    "execution_millis": 8,
    "execution_start": 1605460454830,
    "output_cleared": false,
    "source_hash": "9f9728e1"
   },
   "outputs": [],
   "source": [
    "from sklearn.linear_model import LogisticRegression\n",
    "from sklearn.tree import DecisionTreeClassifier \n",
    "from sklearn.neighbors import KNeighborsClassifier "
   ]
  },
  {
   "cell_type": "markdown",
   "metadata": {
    "cell_id": "00047-846a06fe-4833-46a6-b3ae-0a3c961457e4",
    "output_cleared": false
   },
   "source": [
    "## Logistic Regression"
   ]
  },
  {
   "cell_type": "code",
   "execution_count": 47,
   "metadata": {
    "cell_id": "00048-72a9b1b7-1d9d-4217-94d4-78c684897211",
    "execution_millis": 864,
    "execution_start": 1605460458119,
    "output_cleared": false,
    "source_hash": "6dbceda5"
   },
   "outputs": [
    {
     "name": "stdout",
     "output_type": "stream",
     "text": [
      "Training a LogisticRegression using a training set size of 4886 \n",
      "for training set\n",
      "accuracy : 0.5104379860826852\n",
      "\n",
      "for test set\n",
      "accuracy : 0.5126491646778043\n"
     ]
    },
    {
     "data": {
      "image/png": "[encoded data removed]",
      "text/plain": [
       "<Figure size 432x288 with 2 Axes>"
      ]
     },
     "metadata": {},
     "output_type": "display_data"
    }
   ],
   "source": [
    "lr = LogisticRegression()\n",
    "lr.fit(x_train, y_train)\n",
    "pred ,acc = train_predict(lr,x_train, y_train,x_test, y_test)\n",
    "plot_confusion( pred , y_test ,acc)"
   ]
  },
  {
   "cell_type": "markdown",
   "metadata": {
    "cell_id": "00049-df127109-1e97-4504-9c70-be9549defe20",
    "output_cleared": false
   },
   "source": [
    "## Decision Tree Classifier"
   ]
  },
  {
   "cell_type": "code",
   "execution_count": 48,
   "metadata": {
    "cell_id": "00050-bf9437a6-8939-47f8-9212-4ad776caadd4",
    "output_cleared": false,
    "source_hash": "aeb77902"
   },
   "outputs": [
    {
     "name": "stdout",
     "output_type": "stream",
     "text": [
      "Training a DecisionTreeClassifier using a training set size of 4886 \n",
      "for training set\n",
      "accuracy : 0.5071633237822349\n",
      "\n",
      "for test set\n",
      "accuracy : 0.4954653937947494\n"
     ]
    },
    {
     "data": {
      "image/png": "[encoded data removed]",
      "text/plain": [
       "<Figure size 432x288 with 2 Axes>"
      ]
     },
     "metadata": {},
     "output_type": "display_data"
    }
   ],
   "source": [
    "dtree_model = DecisionTreeClassifier(max_depth = 2)\n",
    "pred ,acc= train_predict(dtree_model,x_train, y_train,x_test, y_test)\n",
    "plot_confusion( pred , y_test, acc)"
   ]
  },
  {
   "cell_type": "markdown",
   "metadata": {
    "cell_id": "00051-6dd6c7e9-78b5-49d5-bbe9-e0b3a3b3a495",
    "output_cleared": false
   },
   "source": [
    "## K-Neighbors Classifier"
   ]
  },
  {
   "cell_type": "code",
   "execution_count": 49,
   "metadata": {
    "cell_id": "00052-72127a67-27e9-4ff6-ba9a-e37026b59436",
    "execution_millis": 970,
    "execution_start": 1605462093678,
    "output_cleared": false,
    "source_hash": "3c515e8c"
   },
   "outputs": [
    {
     "name": "stdout",
     "output_type": "stream",
     "text": [
      "Training a KNeighborsClassifier using a training set size of 4886 \n",
      "for training set\n",
      "accuracy : 0.5933278755628326\n",
      "\n",
      "for test set\n",
      "accuracy : 0.4510739856801909\n"
     ]
    },
    {
     "data": {
      "image/png": "[encoded data removed]",
      "text/plain": [
       "<Figure size 432x288 with 2 Axes>"
      ]
     },
     "metadata": {},
     "output_type": "display_data"
    }
   ],
   "source": [
    "knn = KNeighborsClassifier(n_neighbors = 7)\n",
    "pred ,acc= train_predict(knn,x_train, y_train,x_test, y_test)\n",
    "plot_confusion( pred , y_test, acc)"
   ]
  },
  {
   "cell_type": "markdown",
   "metadata": {},
   "source": [
    "## XGBOOST MODEL"
   ]
  },
  {
   "cell_type": "code",
   "execution_count": 50,
   "metadata": {
    "cell_id": "00053-a6aed1a2-d67c-4832-8bb0-d3a2fc25cd0e",
    "execution_millis": 6,
    "execution_start": 1605462563717,
    "output_cleared": false,
    "source_hash": "a8308652",
    "tags": []
   },
   "outputs": [
    {
     "name": "stdout",
     "output_type": "stream",
     "text": [
      "[00:54:13] WARNING: ../src/learner.cc:516: \n",
      "Parameters: { scale_pos_weight } might not be used.\n",
      "\n",
      "  This may not be accurate due to some parameters are only used in language bindings but\n",
      "  passed down to XGBoost core.  Or some parameters are not used but slip through this\n",
      "  verification. Please open an issue if you find above cases.\n",
      "\n",
      "\n",
      "[00:54:13] WARNING: ../src/learner.cc:516: \n",
      "Parameters: { scale_pos_weight } might not be used.\n",
      "\n",
      "  This may not be accurate due to some parameters are only used in language bindings but\n",
      "  passed down to XGBoost core.  Or some parameters are not used but slip through this\n",
      "  verification. Please open an issue if you find above cases.\n",
      "\n",
      "\n",
      "[00:54:13] WARNING: ../src/learner.cc:516: \n",
      "Parameters: { scale_pos_weight } might not be used.\n",
      "\n",
      "  This may not be accurate due to some parameters are only used in language bindings but\n",
      "  passed down to XGBoost core.  Or some parameters are not used but slip through this\n",
      "  verification. Please open an issue if you find above cases.\n",
      "\n",
      "\n",
      "[00:54:13] WARNING: ../src/learner.cc:516: \n",
      "Parameters: { scale_pos_weight } might not be used.\n",
      "\n",
      "  This may not be accurate due to some parameters are only used in language bindings but\n",
      "  passed down to XGBoost core.  Or some parameters are not used but slip through this\n",
      "  verification. Please open an issue if you find above cases.\n",
      "\n",
      "\n",
      "[00:54:13] WARNING: ../src/learner.cc:516: \n",
      "Parameters: { scale_pos_weight } might not be used.\n",
      "\n",
      "  This may not be accurate due to some parameters are only used in language bindings but\n",
      "  passed down to XGBoost core.  Or some parameters are not used but slip through this\n",
      "  verification. Please open an issue if you find above cases.\n",
      "\n",
      "\n",
      "[00:54:13] WARNING: ../src/learner.cc:516: \n",
      "Parameters: { scale_pos_weight } might not be used.\n",
      "\n",
      "  This may not be accurate due to some parameters are only used in language bindings but\n",
      "  passed down to XGBoost core.  Or some parameters are not used but slip through this\n",
      "  verification. Please open an issue if you find above cases.\n",
      "\n",
      "\n",
      "[00:54:13] WARNING: ../src/learner.cc:516: \n",
      "Parameters: { scale_pos_weight } might not be used.\n",
      "\n",
      "  This may not be accurate due to some parameters are only used in language bindings but\n",
      "  passed down to XGBoost core.  Or some parameters are not used but slip through this\n",
      "  verification. Please open an issue if you find above cases.\n",
      "\n",
      "\n",
      "[00:54:14] WARNING: ../src/learner.cc:516: \n",
      "Parameters: { scale_pos_weight } might not be used.\n",
      "\n",
      "  This may not be accurate due to some parameters are only used in language bindings but\n",
      "  passed down to XGBoost core.  Or some parameters are not used but slip through this\n",
      "  verification. Please open an issue if you find above cases.\n",
      "\n",
      "\n",
      "[00:54:14] WARNING: ../src/learner.cc:516: \n",
      "Parameters: { scale_pos_weight } might not be used.\n",
      "\n",
      "  This may not be accurate due to some parameters are only used in language bindings but\n",
      "  passed down to XGBoost core.  Or some parameters are not used but slip through this\n",
      "  verification. Please open an issue if you find above cases.\n",
      "\n",
      "\n",
      "[00:54:14] WARNING: ../src/learner.cc:516: \n",
      "Parameters: { scale_pos_weight } might not be used.\n",
      "\n",
      "  This may not be accurate due to some parameters are only used in language bindings but\n",
      "  passed down to XGBoost core.  Or some parameters are not used but slip through this\n",
      "  verification. Please open an issue if you find above cases.\n",
      "\n",
      "\n",
      "[00:54:14] WARNING: ../src/learner.cc:516: \n",
      "Parameters: { scale_pos_weight } might not be used.\n",
      "\n",
      "  This may not be accurate due to some parameters are only used in language bindings but\n",
      "  passed down to XGBoost core.  Or some parameters are not used but slip through this\n",
      "  verification. Please open an issue if you find above cases.\n",
      "\n",
      "\n",
      "Training a XGBClassifier using a training set size of 4886 \n",
      "[00:54:14] WARNING: ../src/learner.cc:516: \n",
      "Parameters: { scale_pos_weight } might not be used.\n",
      "\n",
      "  This may not be accurate due to some parameters are only used in language bindings but\n",
      "  passed down to XGBoost core.  Or some parameters are not used but slip through this\n",
      "  verification. Please open an issue if you find above cases.\n",
      "\n",
      "\n",
      "for training set\n",
      "accuracy : 0.5247646336471551\n",
      "\n",
      "for test set\n",
      "accuracy : 0.5050119331742243\n"
     ]
    },
    {
     "data": {
      "image/png": "[encoded data removed]",
      "text/plain": [
       "<Figure size 432x288 with 2 Axes>"
      ]
     },
     "metadata": {},
     "output_type": "display_data"
    }
   ],
   "source": [
    "import xgboost as xgb\n",
    "\n",
    "from sklearn.model_selection import GridSearchCV\n",
    "from sklearn.metrics import make_scorer,f1_score,accuracy_score\n",
    "\n",
    "\n",
    "# TODO: Create the parameters list you wish to tune\n",
    "parameters = { 'learning_rate' : [0.1],\n",
    "               'n_estimators' : [40],\n",
    "               'max_depth': [3],\n",
    "               'min_child_weight': [3],\n",
    "               'gamma':[0.4],\n",
    "               'subsample' : [0.8],\n",
    "               'colsample_bytree' : [0.8],\n",
    "               'scale_pos_weight' : [1],\n",
    "               'reg_alpha':[1e-5]\n",
    "             }  \n",
    "\n",
    "# TODO: Initialize the classifier\n",
    "clf = xgb.XGBClassifier(seed=82)\n",
    "\n",
    "# TODO: Make an f1 scoring function using 'make_scorer' \n",
    "scorer = make_scorer(accuracy_score)\n",
    "\n",
    "# TODO: Perform grid search on the classifier using the f1_scorer as the scoring method\n",
    "grid_obj = GridSearchCV(clf,\n",
    "                        scoring=scorer,\n",
    "                        param_grid=parameters,\n",
    "                        cv=10)\n",
    "\n",
    "# TODO: Fit the grid search object to the training data and find the optimal parameters\n",
    "grid_obj = grid_obj.fit(x_train,y_train)\n",
    "\n",
    "# Get the estimator\n",
    "clf = grid_obj.best_estimator_\n",
    "pred ,acc= train_predict(clf,x_train, y_train,x_test, y_test)\n",
    "plot_confusion( pred , y_test, acc)"
   ]
  },
  {
   "cell_type": "markdown",
   "metadata": {},
   "source": [
    "## TRYING TO JUST SEE IF HOME TEAM WINS OR NOT"
   ]
  },
  {
   "cell_type": "code",
   "execution_count": 70,
   "metadata": {},
   "outputs": [],
   "source": [
    "for i,row in modeldata.iterrows():\n",
    "    if(row.result=='H'):\n",
    "        df.at[i,'HomeTeamWin']='Y'\n",
    "    else:\n",
    "        df.at[i,'HomeTeamWin']='N'\n",
    "Y=df['HomeTeamWin']\n"
   ]
  },
  {
   "cell_type": "markdown",
   "metadata": {},
   "source": [
    "**LOGISTIC REGRESSION"
   ]
  },
  {
   "cell_type": "code",
   "execution_count": 71,
   "metadata": {},
   "outputs": [
    {
     "name": "stdout",
     "output_type": "stream",
     "text": [
      "Training a LogisticRegression using a training set size of 4886 \n",
      "for training set\n",
      "accuracy : 0.6334424887433483\n",
      "\n",
      "for test set\n",
      "accuracy : 0.6133651551312649\n"
     ]
    },
    {
     "data": {
      "image/png": "[encoded data removed]",
      "text/plain": [
       "<Figure size 432x288 with 2 Axes>"
      ]
     },
     "metadata": {},
     "output_type": "display_data"
    }
   ],
   "source": [
    "x_train, x_test, y_train, y_test = train_test_split(X, Y, test_size=0.3, random_state=0)\n",
    "lrhome = LogisticRegression()\n",
    "lrhome.fit(x_train, y_train)\n",
    "pred ,acc = train_predict(lrhome,x_train, y_train,x_test, y_test)\n",
    "plot_confusion( pred , y_test ,acc)"
   ]
  },
  {
   "cell_type": "code",
   "execution_count": 72,
   "metadata": {
    "cell_id": "00054-80c94479-7bd3-43da-9986-511008ccbcfb",
    "execution_millis": 7,
    "execution_start": 1605460620899,
    "output_cleared": false,
    "source_hash": "4ecc0e83",
    "tags": []
   },
   "outputs": [
    {
     "name": "stdout",
     "output_type": "stream",
     "text": [
      "Training a XGBClassifier using a training set size of 4886 \n",
      "for training set\n",
      "accuracy : 0.6412198117069178\n",
      "\n",
      "for test set\n",
      "accuracy : 0.5976133651551313\n"
     ]
    },
    {
     "data": {
      "image/png": "[encoded data removed]",
      "text/plain": [
       "<Figure size 432x288 with 2 Axes>"
      ]
     },
     "metadata": {},
     "output_type": "display_data"
    }
   ],
   "source": [
    "import xgboost as xgb\n",
    "\n",
    "from sklearn.model_selection import GridSearchCV\n",
    "from sklearn.metrics import make_scorer,f1_score,accuracy_score\n",
    "\n",
    "\n",
    "# TODO: Create the parameters list you wish to tune\n",
    "parameters = { 'learning_rate' : [0.1],\n",
    "               'n_estimators' : [40],\n",
    "               'max_depth': [3],\n",
    "               'min_child_weight': [3],\n",
    "               'gamma':[0.4],\n",
    "               'subsample' : [0.8],\n",
    "               'colsample_bytree' : [0.8],\n",
    "               'scale_pos_weight' : [1],\n",
    "               'reg_alpha':[1e-5]\n",
    "             }  \n",
    "xgbmodelhome = xgb.XGBClassifier(seed=82)\n",
    "scorer = make_scorer(accuracy_score)\n",
    "grid_obj = GridSearchCV(clf,\n",
    "                        scoring=scorer,\n",
    "                        param_grid=parameters,\n",
    "                        cv=10)\n",
    "grid_obj = grid_obj.fit(x_train,y_train)\n",
    "xgbmodelhome = grid_obj.best_estimator_\n",
    "pred ,acc= train_predict(xgbmodelhome,x_train, y_train,x_test, y_test)\n",
    "plot_confusion( pred , y_test, acc)"
   ]
  },
  {
   "cell_type": "code",
   "execution_count": 73,
   "metadata": {},
   "outputs": [
    {
     "name": "stdout",
     "output_type": "stream",
     "text": [
      "Training a DecisionTreeClassifier using a training set size of 4886 \n",
      "for training set\n",
      "accuracy : 0.6015145313139583\n",
      "\n",
      "for test set\n",
      "accuracy : 0.5871121718377088\n"
     ]
    },
    {
     "data": {
      "image/png": "[encoded data removed]",
      "text/plain": [
       "<Figure size 432x288 with 2 Axes>"
      ]
     },
     "metadata": {},
     "output_type": "display_data"
    }
   ],
   "source": [
    "dtree_modelhome = DecisionTreeClassifier(max_depth = 2)\n",
    "pred ,acc= train_predict(dtree_modelhome,x_train, y_train,x_test, y_test)\n",
    "plot_confusion( pred , y_test, acc)"
   ]
  },
  {
   "cell_type": "markdown",
   "metadata": {
    "cell_id": "00054-2fb423d5-4a5d-4276-acfb-0fc1ef9c68ba",
    "execution_millis": 53,
    "execution_start": 1605462205698,
    "output_cleared": false,
    "source_hash": "89fe8fda"
   },
   "source": [
    "## TRYING TO JUST SEE IF AWAY TEAM WINS OR NOT"
   ]
  },
  {
   "cell_type": "code",
   "execution_count": 75,
   "metadata": {
    "cell_id": "00057-f7208bf0-8d4a-4102-a559-0602c92627c2",
    "execution_millis": 3,
    "execution_start": 1605462040542,
    "output_cleared": false,
    "source_hash": "d90e0eaa",
    "tags": []
   },
   "outputs": [],
   "source": [
    "for i,row in modeldata.iterrows():\n",
    "    if(row.result=='A'):\n",
    "        df.at[i,'AwayTeamWin']='Y'\n",
    "    else:\n",
    "        df.at[i,'AwayTeamWin']='N'\n",
    "Y=df['AwayTeamWin']"
   ]
  },
  {
   "cell_type": "code",
   "execution_count": 76,
   "metadata": {},
   "outputs": [
    {
     "name": "stdout",
     "output_type": "stream",
     "text": [
      "Training a LogisticRegression using a training set size of 4886 \n",
      "for training set\n",
      "accuracy : 0.732705689725747\n",
      "\n",
      "for test set\n",
      "accuracy : 0.7479713603818616\n"
     ]
    },
    {
     "data": {
      "image/png": "[encoded data removed]",
      "text/plain": [
       "<Figure size 432x288 with 2 Axes>"
      ]
     },
     "metadata": {},
     "output_type": "display_data"
    }
   ],
   "source": [
    "x_train, x_test, y_train, y_test = train_test_split(X, Y, test_size=0.3, random_state=0)\n",
    "lraway = LogisticRegression()\n",
    "lraway.fit(x_train, y_train)\n",
    "pred ,acc = train_predict(lraway,x_train, y_train,x_test, y_test)\n",
    "plot_confusion( pred , y_test ,acc)"
   ]
  },
  {
   "cell_type": "code",
   "execution_count": 77,
   "metadata": {},
   "outputs": [
    {
     "name": "stdout",
     "output_type": "stream",
     "text": [
      "Training a XGBClassifier using a training set size of 4886 \n",
      "for training set\n",
      "accuracy : 0.7410970118706508\n",
      "\n",
      "for test set\n",
      "accuracy : 0.7431980906921241\n"
     ]
    },
    {
     "data": {
      "image/png": "[encoded data removed]",
      "text/plain": [
       "<Figure size 432x288 with 2 Axes>"
      ]
     },
     "metadata": {},
     "output_type": "display_data"
    }
   ],
   "source": [
    "import xgboost as xgb\n",
    "\n",
    "from sklearn.model_selection import GridSearchCV\n",
    "from sklearn.metrics import make_scorer,f1_score,accuracy_score\n",
    "\n",
    "\n",
    "# TODO: Create the parameters list you wish to tune\n",
    "parameters = { 'learning_rate' : [0.1],\n",
    "               'n_estimators' : [40],\n",
    "               'max_depth': [3],\n",
    "               'min_child_weight': [3],\n",
    "               'gamma':[0.4],\n",
    "               'subsample' : [0.8],\n",
    "               'colsample_bytree' : [0.8],\n",
    "               'scale_pos_weight' : [1],\n",
    "               'reg_alpha':[1e-5]\n",
    "             }  \n",
    "xgbmodelaway = xgb.XGBClassifier(seed=82)\n",
    "scorer = make_scorer(accuracy_score)\n",
    "grid_obj = GridSearchCV(clf,\n",
    "                        scoring=scorer,\n",
    "                        param_grid=parameters,\n",
    "                        cv=10)\n",
    "grid_obj = grid_obj.fit(x_train,y_train)\n",
    "xgbmodelaway = grid_obj.best_estimator_\n",
    "pred ,acc= train_predict(xgbmodelaway,x_train, y_train,x_test, y_test)\n",
    "plot_confusion( pred , y_test, acc)"
   ]
  },
  {
   "cell_type": "code",
   "execution_count": null,
   "metadata": {
    "cell_id": "00058-e06c07a9-29b6-4fc9-9f41-310e998578b2",
    "execution_millis": 2,
    "execution_start": 1605462143722,
    "output_cleared": false,
    "source_hash": "4391b53d",
    "tags": []
   },
   "outputs": [],
   "source": []
  },
  {
   "cell_type": "code",
   "execution_count": null,
   "metadata": {
    "cell_id": "00059-02fea73b-b8b7-4b0f-ac0d-1cdb7c02bed2",
    "execution_millis": 49,
    "execution_start": 1605462402476,
    "output_cleared": false,
    "source_hash": "f88152d9",
    "tags": []
   },
   "outputs": [],
   "source": []
  }
 ],
 "metadata": {
  "deepnote_execution_queue": [
   {
    "cellId": "00031-2e54268b-9710-4d8d-a178-d9d5cafa1c94",
    "msgId": "a5518154-a45f-4bb6-b338-3a1a33d75460",
    "sessionId": "25431c60-00d3-4390-8939-5f55c68c20e2"
   }
  ],
  "deepnote_notebook_id": "6318925d-0847-404e-b58c-aa0b6751c845",
  "kernelspec": {
   "display_name": "Python 3",
   "language": "python",
   "name": "python3"
  },
  "language_info": {
   "codemirror_mode": {
    "name": "ipython",
    "version": 3
   },
   "file_extension": ".py",
   "mimetype": "text/x-python",
   "name": "python",
   "nbconvert_exporter": "python",
   "pygments_lexer": "ipython3",
   "version": "3.6.9"
  }
 },
 "nbformat": 4,
 "nbformat_minor": 2
}
